{
  "cells": [
    {
      "cell_type": "markdown",
      "source": [
        "**Apache Spark**\n",
        "---\n",
        "O Apache Spark é uma ferramenta para analise e processamento de dados em grande volume.\n"
      ],
      "metadata": {
        "id": "eMrYikOApD5B"
      }
    },
    {
      "cell_type": "code",
      "source": [
        "!java -version"
      ],
      "metadata": {
        "colab": {
          "base_uri": "https://localhost:8080/"
        },
        "id": "JYjGCUSlpVK9",
        "outputId": "2561ccd6-97d9-46f5-d9ec-8a3e25885331"
      },
      "execution_count": null,
      "outputs": [
        {
          "output_type": "stream",
          "name": "stdout",
          "text": [
            "openjdk version \"11.0.18\" 2023-01-17\n",
            "OpenJDK Runtime Environment (build 11.0.18+10-post-Ubuntu-0ubuntu120.04.1)\n",
            "OpenJDK 64-Bit Server VM (build 11.0.18+10-post-Ubuntu-0ubuntu120.04.1, mixed mode, sharing)\n"
          ]
        }
      ]
    },
    {
      "cell_type": "code",
      "source": [
        "!python --version"
      ],
      "metadata": {
        "colab": {
          "base_uri": "https://localhost:8080/"
        },
        "id": "ewG0ni_Dpf7D",
        "outputId": "58e02b9e-1bcc-4b69-896c-c9680a2a438a"
      },
      "execution_count": null,
      "outputs": [
        {
          "output_type": "stream",
          "name": "stdout",
          "text": [
            "Python 3.9.16\n"
          ]
        }
      ]
    },
    {
      "cell_type": "code",
      "source": [
        "!python -m pip install pyspark"
      ],
      "metadata": {
        "colab": {
          "base_uri": "https://localhost:8080/"
        },
        "id": "5iSIG05FqDz6",
        "outputId": "1c0eb773-3050-48b2-d07b-7af55590663a"
      },
      "execution_count": 1,
      "outputs": [
        {
          "output_type": "stream",
          "name": "stdout",
          "text": [
            "Looking in indexes: https://pypi.org/simple, https://us-python.pkg.dev/colab-wheels/public/simple/\n",
            "Collecting pyspark\n",
            "  Downloading pyspark-3.4.0.tar.gz (310.8 MB)\n",
            "\u001b[2K     \u001b[90m━━━━━━━━━━━━━━━━━━━━━━━━━━━━━━━━━━━━━━━\u001b[0m \u001b[32m310.8/310.8 MB\u001b[0m \u001b[31m4.0 MB/s\u001b[0m eta \u001b[36m0:00:00\u001b[0m\n",
            "\u001b[?25h  Preparing metadata (setup.py) ... \u001b[?25l\u001b[?25hdone\n",
            "Requirement already satisfied: py4j==0.10.9.7 in /usr/local/lib/python3.9/dist-packages (from pyspark) (0.10.9.7)\n",
            "Building wheels for collected packages: pyspark\n",
            "  Building wheel for pyspark (setup.py) ... \u001b[?25l\u001b[?25hdone\n",
            "  Created wheel for pyspark: filename=pyspark-3.4.0-py2.py3-none-any.whl size=311317145 sha256=864c29a99fe0b704cde365db99f4b6bce2961b9d37cc97f9d9b38d59171fbc87\n",
            "  Stored in directory: /root/.cache/pip/wheels/9f/34/a4/159aa12d0a510d5ff7c8f0220abbea42e5d81ecf588c4fd884\n",
            "Successfully built pyspark\n",
            "Installing collected packages: pyspark\n",
            "Successfully installed pyspark-3.4.0\n"
          ]
        }
      ]
    },
    {
      "cell_type": "markdown",
      "source": [
        "Verificar no link abaixo as versões que temos do haddop para o spark\n",
        "\n",
        "[Abrir Link](https://dlcdn.apache.org/spark/spark-3.3.2/)"
      ],
      "metadata": {
        "id": "iawBJsdSqjuK"
      }
    },
    {
      "cell_type": "code",
      "source": [
        "!wget -q https://dlcdn.apache.org/spark/spark-3.3.2/spark-3.3.2-bin-hadoop3.tgz"
      ],
      "metadata": {
        "id": "dhLSpsq1qg9t"
      },
      "execution_count": 2,
      "outputs": []
    },
    {
      "cell_type": "code",
      "source": [
        "!tar -xvzf spark-3.3.2-bin-hadoop3.tgz"
      ],
      "metadata": {
        "colab": {
          "base_uri": "https://localhost:8080/"
        },
        "id": "bbiAFE0MrROW",
        "outputId": "ac409577-ec9b-4957-c111-45eb0cc83fd4"
      },
      "execution_count": 3,
      "outputs": [
        {
          "output_type": "stream",
          "name": "stdout",
          "text": [
            "spark-3.3.2-bin-hadoop3/\n",
            "spark-3.3.2-bin-hadoop3/LICENSE\n",
            "spark-3.3.2-bin-hadoop3/NOTICE\n",
            "spark-3.3.2-bin-hadoop3/R/\n",
            "spark-3.3.2-bin-hadoop3/R/lib/\n",
            "spark-3.3.2-bin-hadoop3/R/lib/SparkR/\n",
            "spark-3.3.2-bin-hadoop3/R/lib/SparkR/DESCRIPTION\n",
            "spark-3.3.2-bin-hadoop3/R/lib/SparkR/INDEX\n",
            "spark-3.3.2-bin-hadoop3/R/lib/SparkR/Meta/\n",
            "spark-3.3.2-bin-hadoop3/R/lib/SparkR/Meta/Rd.rds\n",
            "spark-3.3.2-bin-hadoop3/R/lib/SparkR/Meta/features.rds\n",
            "spark-3.3.2-bin-hadoop3/R/lib/SparkR/Meta/hsearch.rds\n",
            "spark-3.3.2-bin-hadoop3/R/lib/SparkR/Meta/links.rds\n",
            "spark-3.3.2-bin-hadoop3/R/lib/SparkR/Meta/nsInfo.rds\n",
            "spark-3.3.2-bin-hadoop3/R/lib/SparkR/Meta/package.rds\n",
            "spark-3.3.2-bin-hadoop3/R/lib/SparkR/Meta/vignette.rds\n",
            "spark-3.3.2-bin-hadoop3/R/lib/SparkR/NAMESPACE\n",
            "spark-3.3.2-bin-hadoop3/R/lib/SparkR/R/\n",
            "spark-3.3.2-bin-hadoop3/R/lib/SparkR/R/SparkR\n",
            "spark-3.3.2-bin-hadoop3/R/lib/SparkR/R/SparkR.rdb\n",
            "spark-3.3.2-bin-hadoop3/R/lib/SparkR/R/SparkR.rdx\n",
            "spark-3.3.2-bin-hadoop3/R/lib/SparkR/doc/\n",
            "spark-3.3.2-bin-hadoop3/R/lib/SparkR/doc/index.html\n",
            "spark-3.3.2-bin-hadoop3/R/lib/SparkR/doc/sparkr-vignettes.R\n",
            "spark-3.3.2-bin-hadoop3/R/lib/SparkR/doc/sparkr-vignettes.Rmd\n",
            "spark-3.3.2-bin-hadoop3/R/lib/SparkR/doc/sparkr-vignettes.html\n",
            "spark-3.3.2-bin-hadoop3/R/lib/SparkR/help/\n",
            "spark-3.3.2-bin-hadoop3/R/lib/SparkR/help/AnIndex\n",
            "spark-3.3.2-bin-hadoop3/R/lib/SparkR/help/SparkR.rdb\n",
            "spark-3.3.2-bin-hadoop3/R/lib/SparkR/help/SparkR.rdx\n",
            "spark-3.3.2-bin-hadoop3/R/lib/SparkR/help/aliases.rds\n",
            "spark-3.3.2-bin-hadoop3/R/lib/SparkR/help/paths.rds\n",
            "spark-3.3.2-bin-hadoop3/R/lib/SparkR/html/\n",
            "spark-3.3.2-bin-hadoop3/R/lib/SparkR/html/00Index.html\n",
            "spark-3.3.2-bin-hadoop3/R/lib/SparkR/html/R.css\n",
            "spark-3.3.2-bin-hadoop3/R/lib/SparkR/profile/\n",
            "spark-3.3.2-bin-hadoop3/R/lib/SparkR/profile/general.R\n",
            "spark-3.3.2-bin-hadoop3/R/lib/SparkR/profile/shell.R\n",
            "spark-3.3.2-bin-hadoop3/R/lib/SparkR/tests/\n",
            "spark-3.3.2-bin-hadoop3/R/lib/SparkR/tests/testthat/\n",
            "spark-3.3.2-bin-hadoop3/R/lib/SparkR/tests/testthat/test_basic.R\n",
            "spark-3.3.2-bin-hadoop3/R/lib/SparkR/worker/\n",
            "spark-3.3.2-bin-hadoop3/R/lib/SparkR/worker/daemon.R\n",
            "spark-3.3.2-bin-hadoop3/R/lib/SparkR/worker/worker.R\n",
            "spark-3.3.2-bin-hadoop3/R/lib/sparkr.zip\n",
            "spark-3.3.2-bin-hadoop3/README.md\n",
            "spark-3.3.2-bin-hadoop3/RELEASE\n",
            "spark-3.3.2-bin-hadoop3/bin/\n",
            "spark-3.3.2-bin-hadoop3/bin/beeline\n",
            "spark-3.3.2-bin-hadoop3/bin/beeline.cmd\n",
            "spark-3.3.2-bin-hadoop3/bin/docker-image-tool.sh\n",
            "spark-3.3.2-bin-hadoop3/bin/find-spark-home\n",
            "spark-3.3.2-bin-hadoop3/bin/find-spark-home.cmd\n",
            "spark-3.3.2-bin-hadoop3/bin/load-spark-env.cmd\n",
            "spark-3.3.2-bin-hadoop3/bin/load-spark-env.sh\n",
            "spark-3.3.2-bin-hadoop3/bin/pyspark\n",
            "spark-3.3.2-bin-hadoop3/bin/pyspark.cmd\n",
            "spark-3.3.2-bin-hadoop3/bin/pyspark2.cmd\n",
            "spark-3.3.2-bin-hadoop3/bin/run-example\n",
            "spark-3.3.2-bin-hadoop3/bin/run-example.cmd\n",
            "spark-3.3.2-bin-hadoop3/bin/spark-class\n",
            "spark-3.3.2-bin-hadoop3/bin/spark-class.cmd\n",
            "spark-3.3.2-bin-hadoop3/bin/spark-class2.cmd\n",
            "spark-3.3.2-bin-hadoop3/bin/spark-shell\n",
            "spark-3.3.2-bin-hadoop3/bin/spark-shell.cmd\n",
            "spark-3.3.2-bin-hadoop3/bin/spark-shell2.cmd\n",
            "spark-3.3.2-bin-hadoop3/bin/spark-sql\n",
            "spark-3.3.2-bin-hadoop3/bin/spark-sql.cmd\n",
            "spark-3.3.2-bin-hadoop3/bin/spark-sql2.cmd\n",
            "spark-3.3.2-bin-hadoop3/bin/spark-submit\n",
            "spark-3.3.2-bin-hadoop3/bin/spark-submit.cmd\n",
            "spark-3.3.2-bin-hadoop3/bin/spark-submit2.cmd\n",
            "spark-3.3.2-bin-hadoop3/bin/sparkR\n",
            "spark-3.3.2-bin-hadoop3/bin/sparkR.cmd\n",
            "spark-3.3.2-bin-hadoop3/bin/sparkR2.cmd\n",
            "spark-3.3.2-bin-hadoop3/conf/\n",
            "spark-3.3.2-bin-hadoop3/conf/fairscheduler.xml.template\n",
            "spark-3.3.2-bin-hadoop3/conf/log4j2.properties.template\n",
            "spark-3.3.2-bin-hadoop3/conf/metrics.properties.template\n",
            "spark-3.3.2-bin-hadoop3/conf/spark-defaults.conf.template\n",
            "spark-3.3.2-bin-hadoop3/conf/spark-env.sh.template\n",
            "spark-3.3.2-bin-hadoop3/conf/workers.template\n",
            "spark-3.3.2-bin-hadoop3/data/\n",
            "spark-3.3.2-bin-hadoop3/data/graphx/\n",
            "spark-3.3.2-bin-hadoop3/data/graphx/followers.txt\n",
            "spark-3.3.2-bin-hadoop3/data/graphx/users.txt\n",
            "spark-3.3.2-bin-hadoop3/data/mllib/\n",
            "spark-3.3.2-bin-hadoop3/data/mllib/als/\n",
            "spark-3.3.2-bin-hadoop3/data/mllib/als/sample_movielens_ratings.txt\n",
            "spark-3.3.2-bin-hadoop3/data/mllib/als/test.data\n",
            "spark-3.3.2-bin-hadoop3/data/mllib/gmm_data.txt\n",
            "spark-3.3.2-bin-hadoop3/data/mllib/images/\n",
            "spark-3.3.2-bin-hadoop3/data/mllib/images/license.txt\n",
            "spark-3.3.2-bin-hadoop3/data/mllib/images/origin/\n",
            "spark-3.3.2-bin-hadoop3/data/mllib/images/origin/kittens/\n",
            "spark-3.3.2-bin-hadoop3/data/mllib/images/origin/kittens/29.5.a_b_EGDP022204.jpg\n",
            "spark-3.3.2-bin-hadoop3/data/mllib/images/origin/kittens/54893.jpg\n",
            "spark-3.3.2-bin-hadoop3/data/mllib/images/origin/kittens/DP153539.jpg\n",
            "spark-3.3.2-bin-hadoop3/data/mllib/images/origin/kittens/DP802813.jpg\n",
            "spark-3.3.2-bin-hadoop3/data/mllib/images/origin/kittens/not-image.txt\n",
            "spark-3.3.2-bin-hadoop3/data/mllib/images/origin/license.txt\n",
            "spark-3.3.2-bin-hadoop3/data/mllib/images/origin/multi-channel/\n",
            "spark-3.3.2-bin-hadoop3/data/mllib/images/origin/multi-channel/BGRA.png\n",
            "spark-3.3.2-bin-hadoop3/data/mllib/images/origin/multi-channel/BGRA_alpha_60.png\n",
            "spark-3.3.2-bin-hadoop3/data/mllib/images/origin/multi-channel/chr30.4.184.jpg\n",
            "spark-3.3.2-bin-hadoop3/data/mllib/images/origin/multi-channel/grayscale.jpg\n",
            "spark-3.3.2-bin-hadoop3/data/mllib/kmeans_data.txt\n",
            "spark-3.3.2-bin-hadoop3/data/mllib/pagerank_data.txt\n",
            "spark-3.3.2-bin-hadoop3/data/mllib/pic_data.txt\n",
            "spark-3.3.2-bin-hadoop3/data/mllib/ridge-data/\n",
            "spark-3.3.2-bin-hadoop3/data/mllib/ridge-data/lpsa.data\n",
            "spark-3.3.2-bin-hadoop3/data/mllib/sample_binary_classification_data.txt\n",
            "spark-3.3.2-bin-hadoop3/data/mllib/sample_fpgrowth.txt\n",
            "spark-3.3.2-bin-hadoop3/data/mllib/sample_isotonic_regression_libsvm_data.txt\n",
            "spark-3.3.2-bin-hadoop3/data/mllib/sample_kmeans_data.txt\n",
            "spark-3.3.2-bin-hadoop3/data/mllib/sample_lda_data.txt\n",
            "spark-3.3.2-bin-hadoop3/data/mllib/sample_lda_libsvm_data.txt\n",
            "spark-3.3.2-bin-hadoop3/data/mllib/sample_libsvm_data.txt\n",
            "spark-3.3.2-bin-hadoop3/data/mllib/sample_linear_regression_data.txt\n",
            "spark-3.3.2-bin-hadoop3/data/mllib/sample_movielens_data.txt\n",
            "spark-3.3.2-bin-hadoop3/data/mllib/sample_multiclass_classification_data.txt\n",
            "spark-3.3.2-bin-hadoop3/data/mllib/sample_svm_data.txt\n",
            "spark-3.3.2-bin-hadoop3/data/mllib/streaming_kmeans_data_test.txt\n",
            "spark-3.3.2-bin-hadoop3/data/streaming/\n",
            "spark-3.3.2-bin-hadoop3/data/streaming/AFINN-111.txt\n",
            "spark-3.3.2-bin-hadoop3/examples/\n",
            "spark-3.3.2-bin-hadoop3/examples/jars/\n",
            "spark-3.3.2-bin-hadoop3/examples/jars/scopt_2.12-3.7.1.jar\n",
            "spark-3.3.2-bin-hadoop3/examples/jars/spark-examples_2.12-3.3.2.jar\n",
            "spark-3.3.2-bin-hadoop3/examples/src/\n",
            "spark-3.3.2-bin-hadoop3/examples/src/main/\n",
            "spark-3.3.2-bin-hadoop3/examples/src/main/java/\n",
            "spark-3.3.2-bin-hadoop3/examples/src/main/java/org/\n",
            "spark-3.3.2-bin-hadoop3/examples/src/main/java/org/apache/\n",
            "spark-3.3.2-bin-hadoop3/examples/src/main/java/org/apache/spark/\n",
            "spark-3.3.2-bin-hadoop3/examples/src/main/java/org/apache/spark/examples/\n",
            "spark-3.3.2-bin-hadoop3/examples/src/main/java/org/apache/spark/examples/JavaHdfsLR.java\n",
            "spark-3.3.2-bin-hadoop3/examples/src/main/java/org/apache/spark/examples/JavaLogQuery.java\n",
            "spark-3.3.2-bin-hadoop3/examples/src/main/java/org/apache/spark/examples/JavaPageRank.java\n",
            "spark-3.3.2-bin-hadoop3/examples/src/main/java/org/apache/spark/examples/JavaSparkPi.java\n",
            "spark-3.3.2-bin-hadoop3/examples/src/main/java/org/apache/spark/examples/JavaStatusTrackerDemo.java\n",
            "spark-3.3.2-bin-hadoop3/examples/src/main/java/org/apache/spark/examples/JavaTC.java\n",
            "spark-3.3.2-bin-hadoop3/examples/src/main/java/org/apache/spark/examples/JavaWordCount.java\n",
            "spark-3.3.2-bin-hadoop3/examples/src/main/java/org/apache/spark/examples/ml/\n",
            "spark-3.3.2-bin-hadoop3/examples/src/main/java/org/apache/spark/examples/ml/JavaAFTSurvivalRegressionExample.java\n",
            "spark-3.3.2-bin-hadoop3/examples/src/main/java/org/apache/spark/examples/ml/JavaALSExample.java\n",
            "spark-3.3.2-bin-hadoop3/examples/src/main/java/org/apache/spark/examples/ml/JavaBinarizerExample.java\n",
            "spark-3.3.2-bin-hadoop3/examples/src/main/java/org/apache/spark/examples/ml/JavaBisectingKMeansExample.java\n",
            "spark-3.3.2-bin-hadoop3/examples/src/main/java/org/apache/spark/examples/ml/JavaBucketedRandomProjectionLSHExample.java\n",
            "spark-3.3.2-bin-hadoop3/examples/src/main/java/org/apache/spark/examples/ml/JavaBucketizerExample.java\n",
            "spark-3.3.2-bin-hadoop3/examples/src/main/java/org/apache/spark/examples/ml/JavaChiSqSelectorExample.java\n",
            "spark-3.3.2-bin-hadoop3/examples/src/main/java/org/apache/spark/examples/ml/JavaChiSquareTestExample.java\n",
            "spark-3.3.2-bin-hadoop3/examples/src/main/java/org/apache/spark/examples/ml/JavaCorrelationExample.java\n",
            "spark-3.3.2-bin-hadoop3/examples/src/main/java/org/apache/spark/examples/ml/JavaCountVectorizerExample.java\n",
            "spark-3.3.2-bin-hadoop3/examples/src/main/java/org/apache/spark/examples/ml/JavaDCTExample.java\n",
            "spark-3.3.2-bin-hadoop3/examples/src/main/java/org/apache/spark/examples/ml/JavaDecisionTreeClassificationExample.java\n",
            "spark-3.3.2-bin-hadoop3/examples/src/main/java/org/apache/spark/examples/ml/JavaDecisionTreeRegressionExample.java\n",
            "spark-3.3.2-bin-hadoop3/examples/src/main/java/org/apache/spark/examples/ml/JavaDocument.java\n",
            "spark-3.3.2-bin-hadoop3/examples/src/main/java/org/apache/spark/examples/ml/JavaElementwiseProductExample.java\n",
            "spark-3.3.2-bin-hadoop3/examples/src/main/java/org/apache/spark/examples/ml/JavaEstimatorTransformerParamExample.java\n",
            "spark-3.3.2-bin-hadoop3/examples/src/main/java/org/apache/spark/examples/ml/JavaFMClassifierExample.java\n",
            "spark-3.3.2-bin-hadoop3/examples/src/main/java/org/apache/spark/examples/ml/JavaFMRegressorExample.java\n",
            "spark-3.3.2-bin-hadoop3/examples/src/main/java/org/apache/spark/examples/ml/JavaFPGrowthExample.java\n",
            "spark-3.3.2-bin-hadoop3/examples/src/main/java/org/apache/spark/examples/ml/JavaFeatureHasherExample.java\n",
            "spark-3.3.2-bin-hadoop3/examples/src/main/java/org/apache/spark/examples/ml/JavaGaussianMixtureExample.java\n",
            "spark-3.3.2-bin-hadoop3/examples/src/main/java/org/apache/spark/examples/ml/JavaGeneralizedLinearRegressionExample.java\n",
            "spark-3.3.2-bin-hadoop3/examples/src/main/java/org/apache/spark/examples/ml/JavaGradientBoostedTreeClassifierExample.java\n",
            "spark-3.3.2-bin-hadoop3/examples/src/main/java/org/apache/spark/examples/ml/JavaGradientBoostedTreeRegressorExample.java\n",
            "spark-3.3.2-bin-hadoop3/examples/src/main/java/org/apache/spark/examples/ml/JavaImputerExample.java\n",
            "spark-3.3.2-bin-hadoop3/examples/src/main/java/org/apache/spark/examples/ml/JavaIndexToStringExample.java\n",
            "spark-3.3.2-bin-hadoop3/examples/src/main/java/org/apache/spark/examples/ml/JavaInteractionExample.java\n",
            "spark-3.3.2-bin-hadoop3/examples/src/main/java/org/apache/spark/examples/ml/JavaIsotonicRegressionExample.java\n",
            "spark-3.3.2-bin-hadoop3/examples/src/main/java/org/apache/spark/examples/ml/JavaKMeansExample.java\n",
            "spark-3.3.2-bin-hadoop3/examples/src/main/java/org/apache/spark/examples/ml/JavaLDAExample.java\n",
            "spark-3.3.2-bin-hadoop3/examples/src/main/java/org/apache/spark/examples/ml/JavaLabeledDocument.java\n",
            "spark-3.3.2-bin-hadoop3/examples/src/main/java/org/apache/spark/examples/ml/JavaLinearRegressionWithElasticNetExample.java\n",
            "spark-3.3.2-bin-hadoop3/examples/src/main/java/org/apache/spark/examples/ml/JavaLinearSVCExample.java\n",
            "spark-3.3.2-bin-hadoop3/examples/src/main/java/org/apache/spark/examples/ml/JavaLogisticRegressionSummaryExample.java\n",
            "spark-3.3.2-bin-hadoop3/examples/src/main/java/org/apache/spark/examples/ml/JavaLogisticRegressionWithElasticNetExample.java\n",
            "spark-3.3.2-bin-hadoop3/examples/src/main/java/org/apache/spark/examples/ml/JavaMaxAbsScalerExample.java\n",
            "spark-3.3.2-bin-hadoop3/examples/src/main/java/org/apache/spark/examples/ml/JavaMinHashLSHExample.java\n",
            "spark-3.3.2-bin-hadoop3/examples/src/main/java/org/apache/spark/examples/ml/JavaMinMaxScalerExample.java\n",
            "spark-3.3.2-bin-hadoop3/examples/src/main/java/org/apache/spark/examples/ml/JavaModelSelectionViaCrossValidationExample.java\n",
            "spark-3.3.2-bin-hadoop3/examples/src/main/java/org/apache/spark/examples/ml/JavaModelSelectionViaTrainValidationSplitExample.java\n",
            "spark-3.3.2-bin-hadoop3/examples/src/main/java/org/apache/spark/examples/ml/JavaMulticlassLogisticRegressionWithElasticNetExample.java\n",
            "spark-3.3.2-bin-hadoop3/examples/src/main/java/org/apache/spark/examples/ml/JavaMultilayerPerceptronClassifierExample.java\n",
            "spark-3.3.2-bin-hadoop3/examples/src/main/java/org/apache/spark/examples/ml/JavaNGramExample.java\n",
            "spark-3.3.2-bin-hadoop3/examples/src/main/java/org/apache/spark/examples/ml/JavaNaiveBayesExample.java\n",
            "spark-3.3.2-bin-hadoop3/examples/src/main/java/org/apache/spark/examples/ml/JavaNormalizerExample.java\n",
            "spark-3.3.2-bin-hadoop3/examples/src/main/java/org/apache/spark/examples/ml/JavaOneHotEncoderExample.java\n",
            "spark-3.3.2-bin-hadoop3/examples/src/main/java/org/apache/spark/examples/ml/JavaOneVsRestExample.java\n",
            "spark-3.3.2-bin-hadoop3/examples/src/main/java/org/apache/spark/examples/ml/JavaPCAExample.java\n",
            "spark-3.3.2-bin-hadoop3/examples/src/main/java/org/apache/spark/examples/ml/JavaPipelineExample.java\n",
            "spark-3.3.2-bin-hadoop3/examples/src/main/java/org/apache/spark/examples/ml/JavaPolynomialExpansionExample.java\n",
            "spark-3.3.2-bin-hadoop3/examples/src/main/java/org/apache/spark/examples/ml/JavaPowerIterationClusteringExample.java\n",
            "spark-3.3.2-bin-hadoop3/examples/src/main/java/org/apache/spark/examples/ml/JavaPrefixSpanExample.java\n",
            "spark-3.3.2-bin-hadoop3/examples/src/main/java/org/apache/spark/examples/ml/JavaQuantileDiscretizerExample.java\n",
            "spark-3.3.2-bin-hadoop3/examples/src/main/java/org/apache/spark/examples/ml/JavaRFormulaExample.java\n",
            "spark-3.3.2-bin-hadoop3/examples/src/main/java/org/apache/spark/examples/ml/JavaRandomForestClassifierExample.java\n",
            "spark-3.3.2-bin-hadoop3/examples/src/main/java/org/apache/spark/examples/ml/JavaRandomForestRegressorExample.java\n",
            "spark-3.3.2-bin-hadoop3/examples/src/main/java/org/apache/spark/examples/ml/JavaRobustScalerExample.java\n",
            "spark-3.3.2-bin-hadoop3/examples/src/main/java/org/apache/spark/examples/ml/JavaSQLTransformerExample.java\n",
            "spark-3.3.2-bin-hadoop3/examples/src/main/java/org/apache/spark/examples/ml/JavaStandardScalerExample.java\n",
            "spark-3.3.2-bin-hadoop3/examples/src/main/java/org/apache/spark/examples/ml/JavaStopWordsRemoverExample.java\n",
            "spark-3.3.2-bin-hadoop3/examples/src/main/java/org/apache/spark/examples/ml/JavaStringIndexerExample.java\n",
            "spark-3.3.2-bin-hadoop3/examples/src/main/java/org/apache/spark/examples/ml/JavaSummarizerExample.java\n",
            "spark-3.3.2-bin-hadoop3/examples/src/main/java/org/apache/spark/examples/ml/JavaTfIdfExample.java\n",
            "spark-3.3.2-bin-hadoop3/examples/src/main/java/org/apache/spark/examples/ml/JavaTokenizerExample.java\n",
            "spark-3.3.2-bin-hadoop3/examples/src/main/java/org/apache/spark/examples/ml/JavaUnivariateFeatureSelectorExample.java\n",
            "spark-3.3.2-bin-hadoop3/examples/src/main/java/org/apache/spark/examples/ml/JavaVarianceThresholdSelectorExample.java\n",
            "spark-3.3.2-bin-hadoop3/examples/src/main/java/org/apache/spark/examples/ml/JavaVectorAssemblerExample.java\n",
            "spark-3.3.2-bin-hadoop3/examples/src/main/java/org/apache/spark/examples/ml/JavaVectorIndexerExample.java\n",
            "spark-3.3.2-bin-hadoop3/examples/src/main/java/org/apache/spark/examples/ml/JavaVectorSizeHintExample.java\n",
            "spark-3.3.2-bin-hadoop3/examples/src/main/java/org/apache/spark/examples/ml/JavaVectorSlicerExample.java\n",
            "spark-3.3.2-bin-hadoop3/examples/src/main/java/org/apache/spark/examples/ml/JavaWord2VecExample.java\n",
            "spark-3.3.2-bin-hadoop3/examples/src/main/java/org/apache/spark/examples/mllib/\n",
            "spark-3.3.2-bin-hadoop3/examples/src/main/java/org/apache/spark/examples/mllib/JavaALS.java\n",
            "spark-3.3.2-bin-hadoop3/examples/src/main/java/org/apache/spark/examples/mllib/JavaAssociationRulesExample.java\n",
            "spark-3.3.2-bin-hadoop3/examples/src/main/java/org/apache/spark/examples/mllib/JavaBinaryClassificationMetricsExample.java\n",
            "spark-3.3.2-bin-hadoop3/examples/src/main/java/org/apache/spark/examples/mllib/JavaBisectingKMeansExample.java\n",
            "spark-3.3.2-bin-hadoop3/examples/src/main/java/org/apache/spark/examples/mllib/JavaChiSqSelectorExample.java\n",
            "spark-3.3.2-bin-hadoop3/examples/src/main/java/org/apache/spark/examples/mllib/JavaCorrelationsExample.java\n",
            "spark-3.3.2-bin-hadoop3/examples/src/main/java/org/apache/spark/examples/mllib/JavaDecisionTreeClassificationExample.java\n",
            "spark-3.3.2-bin-hadoop3/examples/src/main/java/org/apache/spark/examples/mllib/JavaDecisionTreeRegressionExample.java\n",
            "spark-3.3.2-bin-hadoop3/examples/src/main/java/org/apache/spark/examples/mllib/JavaElementwiseProductExample.java\n",
            "spark-3.3.2-bin-hadoop3/examples/src/main/java/org/apache/spark/examples/mllib/JavaGaussianMixtureExample.java\n",
            "spark-3.3.2-bin-hadoop3/examples/src/main/java/org/apache/spark/examples/mllib/JavaGradientBoostingClassificationExample.java\n",
            "spark-3.3.2-bin-hadoop3/examples/src/main/java/org/apache/spark/examples/mllib/JavaGradientBoostingRegressionExample.java\n",
            "spark-3.3.2-bin-hadoop3/examples/src/main/java/org/apache/spark/examples/mllib/JavaHypothesisTestingExample.java\n",
            "spark-3.3.2-bin-hadoop3/examples/src/main/java/org/apache/spark/examples/mllib/JavaHypothesisTestingKolmogorovSmirnovTestExample.java\n",
            "spark-3.3.2-bin-hadoop3/examples/src/main/java/org/apache/spark/examples/mllib/JavaIsotonicRegressionExample.java\n",
            "spark-3.3.2-bin-hadoop3/examples/src/main/java/org/apache/spark/examples/mllib/JavaKMeansExample.java\n",
            "spark-3.3.2-bin-hadoop3/examples/src/main/java/org/apache/spark/examples/mllib/JavaKernelDensityEstimationExample.java\n",
            "spark-3.3.2-bin-hadoop3/examples/src/main/java/org/apache/spark/examples/mllib/JavaLBFGSExample.java\n",
            "spark-3.3.2-bin-hadoop3/examples/src/main/java/org/apache/spark/examples/mllib/JavaLatentDirichletAllocationExample.java\n",
            "spark-3.3.2-bin-hadoop3/examples/src/main/java/org/apache/spark/examples/mllib/JavaLogisticRegressionWithLBFGSExample.java\n",
            "spark-3.3.2-bin-hadoop3/examples/src/main/java/org/apache/spark/examples/mllib/JavaMultiLabelClassificationMetricsExample.java\n",
            "spark-3.3.2-bin-hadoop3/examples/src/main/java/org/apache/spark/examples/mllib/JavaMulticlassClassificationMetricsExample.java\n",
            "spark-3.3.2-bin-hadoop3/examples/src/main/java/org/apache/spark/examples/mllib/JavaNaiveBayesExample.java\n",
            "spark-3.3.2-bin-hadoop3/examples/src/main/java/org/apache/spark/examples/mllib/JavaPCAExample.java\n",
            "spark-3.3.2-bin-hadoop3/examples/src/main/java/org/apache/spark/examples/mllib/JavaPowerIterationClusteringExample.java\n",
            "spark-3.3.2-bin-hadoop3/examples/src/main/java/org/apache/spark/examples/mllib/JavaPrefixSpanExample.java\n",
            "spark-3.3.2-bin-hadoop3/examples/src/main/java/org/apache/spark/examples/mllib/JavaRandomForestClassificationExample.java\n",
            "spark-3.3.2-bin-hadoop3/examples/src/main/java/org/apache/spark/examples/mllib/JavaRandomForestRegressionExample.java\n",
            "spark-3.3.2-bin-hadoop3/examples/src/main/java/org/apache/spark/examples/mllib/JavaRankingMetricsExample.java\n",
            "spark-3.3.2-bin-hadoop3/examples/src/main/java/org/apache/spark/examples/mllib/JavaRecommendationExample.java\n",
            "spark-3.3.2-bin-hadoop3/examples/src/main/java/org/apache/spark/examples/mllib/JavaSVDExample.java\n",
            "spark-3.3.2-bin-hadoop3/examples/src/main/java/org/apache/spark/examples/mllib/JavaSVMWithSGDExample.java\n",
            "spark-3.3.2-bin-hadoop3/examples/src/main/java/org/apache/spark/examples/mllib/JavaSimpleFPGrowth.java\n",
            "spark-3.3.2-bin-hadoop3/examples/src/main/java/org/apache/spark/examples/mllib/JavaStratifiedSamplingExample.java\n",
            "spark-3.3.2-bin-hadoop3/examples/src/main/java/org/apache/spark/examples/mllib/JavaStreamingTestExample.java\n",
            "spark-3.3.2-bin-hadoop3/examples/src/main/java/org/apache/spark/examples/mllib/JavaSummaryStatisticsExample.java\n",
            "spark-3.3.2-bin-hadoop3/examples/src/main/java/org/apache/spark/examples/sql/\n",
            "spark-3.3.2-bin-hadoop3/examples/src/main/java/org/apache/spark/examples/sql/JavaSQLDataSourceExample.java\n",
            "spark-3.3.2-bin-hadoop3/examples/src/main/java/org/apache/spark/examples/sql/JavaSparkSQLExample.java\n",
            "spark-3.3.2-bin-hadoop3/examples/src/main/java/org/apache/spark/examples/sql/JavaUserDefinedScalar.java\n",
            "spark-3.3.2-bin-hadoop3/examples/src/main/java/org/apache/spark/examples/sql/JavaUserDefinedTypedAggregation.java\n",
            "spark-3.3.2-bin-hadoop3/examples/src/main/java/org/apache/spark/examples/sql/JavaUserDefinedUntypedAggregation.java\n",
            "spark-3.3.2-bin-hadoop3/examples/src/main/java/org/apache/spark/examples/sql/hive/\n",
            "spark-3.3.2-bin-hadoop3/examples/src/main/java/org/apache/spark/examples/sql/hive/JavaSparkHiveExample.java\n",
            "spark-3.3.2-bin-hadoop3/examples/src/main/java/org/apache/spark/examples/sql/streaming/\n",
            "spark-3.3.2-bin-hadoop3/examples/src/main/java/org/apache/spark/examples/sql/streaming/JavaStructuredComplexSessionization.java\n",
            "spark-3.3.2-bin-hadoop3/examples/src/main/java/org/apache/spark/examples/sql/streaming/JavaStructuredKafkaWordCount.java\n",
            "spark-3.3.2-bin-hadoop3/examples/src/main/java/org/apache/spark/examples/sql/streaming/JavaStructuredKerberizedKafkaWordCount.java\n",
            "spark-3.3.2-bin-hadoop3/examples/src/main/java/org/apache/spark/examples/sql/streaming/JavaStructuredNetworkWordCount.java\n",
            "spark-3.3.2-bin-hadoop3/examples/src/main/java/org/apache/spark/examples/sql/streaming/JavaStructuredNetworkWordCountWindowed.java\n",
            "spark-3.3.2-bin-hadoop3/examples/src/main/java/org/apache/spark/examples/sql/streaming/JavaStructuredSessionization.java\n",
            "spark-3.3.2-bin-hadoop3/examples/src/main/java/org/apache/spark/examples/streaming/\n",
            "spark-3.3.2-bin-hadoop3/examples/src/main/java/org/apache/spark/examples/streaming/JavaCustomReceiver.java\n",
            "spark-3.3.2-bin-hadoop3/examples/src/main/java/org/apache/spark/examples/streaming/JavaDirectKafkaWordCount.java\n",
            "spark-3.3.2-bin-hadoop3/examples/src/main/java/org/apache/spark/examples/streaming/JavaDirectKerberizedKafkaWordCount.java\n",
            "spark-3.3.2-bin-hadoop3/examples/src/main/java/org/apache/spark/examples/streaming/JavaNetworkWordCount.java\n",
            "spark-3.3.2-bin-hadoop3/examples/src/main/java/org/apache/spark/examples/streaming/JavaQueueStream.java\n",
            "spark-3.3.2-bin-hadoop3/examples/src/main/java/org/apache/spark/examples/streaming/JavaRecord.java\n",
            "spark-3.3.2-bin-hadoop3/examples/src/main/java/org/apache/spark/examples/streaming/JavaRecoverableNetworkWordCount.java\n",
            "spark-3.3.2-bin-hadoop3/examples/src/main/java/org/apache/spark/examples/streaming/JavaSqlNetworkWordCount.java\n",
            "spark-3.3.2-bin-hadoop3/examples/src/main/java/org/apache/spark/examples/streaming/JavaStatefulNetworkWordCount.java\n",
            "spark-3.3.2-bin-hadoop3/examples/src/main/python/\n",
            "spark-3.3.2-bin-hadoop3/examples/src/main/python/__init__.py\n",
            "spark-3.3.2-bin-hadoop3/examples/src/main/python/als.py\n",
            "spark-3.3.2-bin-hadoop3/examples/src/main/python/avro_inputformat.py\n",
            "spark-3.3.2-bin-hadoop3/examples/src/main/python/kmeans.py\n",
            "spark-3.3.2-bin-hadoop3/examples/src/main/python/logistic_regression.py\n",
            "spark-3.3.2-bin-hadoop3/examples/src/main/python/ml/\n",
            "spark-3.3.2-bin-hadoop3/examples/src/main/python/ml/__init__,py\n",
            "spark-3.3.2-bin-hadoop3/examples/src/main/python/ml/aft_survival_regression.py\n",
            "spark-3.3.2-bin-hadoop3/examples/src/main/python/ml/als_example.py\n",
            "spark-3.3.2-bin-hadoop3/examples/src/main/python/ml/binarizer_example.py\n",
            "spark-3.3.2-bin-hadoop3/examples/src/main/python/ml/bisecting_k_means_example.py\n",
            "spark-3.3.2-bin-hadoop3/examples/src/main/python/ml/bucketed_random_projection_lsh_example.py\n",
            "spark-3.3.2-bin-hadoop3/examples/src/main/python/ml/bucketizer_example.py\n",
            "spark-3.3.2-bin-hadoop3/examples/src/main/python/ml/chi_square_test_example.py\n",
            "spark-3.3.2-bin-hadoop3/examples/src/main/python/ml/chisq_selector_example.py\n",
            "spark-3.3.2-bin-hadoop3/examples/src/main/python/ml/correlation_example.py\n",
            "spark-3.3.2-bin-hadoop3/examples/src/main/python/ml/count_vectorizer_example.py\n",
            "spark-3.3.2-bin-hadoop3/examples/src/main/python/ml/cross_validator.py\n",
            "spark-3.3.2-bin-hadoop3/examples/src/main/python/ml/dataframe_example.py\n",
            "spark-3.3.2-bin-hadoop3/examples/src/main/python/ml/dct_example.py\n",
            "spark-3.3.2-bin-hadoop3/examples/src/main/python/ml/decision_tree_classification_example.py\n",
            "spark-3.3.2-bin-hadoop3/examples/src/main/python/ml/decision_tree_regression_example.py\n",
            "spark-3.3.2-bin-hadoop3/examples/src/main/python/ml/elementwise_product_example.py\n",
            "spark-3.3.2-bin-hadoop3/examples/src/main/python/ml/estimator_transformer_param_example.py\n",
            "spark-3.3.2-bin-hadoop3/examples/src/main/python/ml/feature_hasher_example.py\n",
            "spark-3.3.2-bin-hadoop3/examples/src/main/python/ml/fm_classifier_example.py\n",
            "spark-3.3.2-bin-hadoop3/examples/src/main/python/ml/fm_regressor_example.py\n",
            "spark-3.3.2-bin-hadoop3/examples/src/main/python/ml/fpgrowth_example.py\n",
            "spark-3.3.2-bin-hadoop3/examples/src/main/python/ml/gaussian_mixture_example.py\n",
            "spark-3.3.2-bin-hadoop3/examples/src/main/python/ml/generalized_linear_regression_example.py\n",
            "spark-3.3.2-bin-hadoop3/examples/src/main/python/ml/gradient_boosted_tree_classifier_example.py\n",
            "spark-3.3.2-bin-hadoop3/examples/src/main/python/ml/gradient_boosted_tree_regressor_example.py\n",
            "spark-3.3.2-bin-hadoop3/examples/src/main/python/ml/imputer_example.py\n",
            "spark-3.3.2-bin-hadoop3/examples/src/main/python/ml/index_to_string_example.py\n",
            "spark-3.3.2-bin-hadoop3/examples/src/main/python/ml/interaction_example.py\n",
            "spark-3.3.2-bin-hadoop3/examples/src/main/python/ml/isotonic_regression_example.py\n",
            "spark-3.3.2-bin-hadoop3/examples/src/main/python/ml/kmeans_example.py\n",
            "spark-3.3.2-bin-hadoop3/examples/src/main/python/ml/lda_example.py\n",
            "spark-3.3.2-bin-hadoop3/examples/src/main/python/ml/linear_regression_with_elastic_net.py\n",
            "spark-3.3.2-bin-hadoop3/examples/src/main/python/ml/linearsvc.py\n",
            "spark-3.3.2-bin-hadoop3/examples/src/main/python/ml/logistic_regression_summary_example.py\n",
            "spark-3.3.2-bin-hadoop3/examples/src/main/python/ml/logistic_regression_with_elastic_net.py\n",
            "spark-3.3.2-bin-hadoop3/examples/src/main/python/ml/max_abs_scaler_example.py\n",
            "spark-3.3.2-bin-hadoop3/examples/src/main/python/ml/min_hash_lsh_example.py\n",
            "spark-3.3.2-bin-hadoop3/examples/src/main/python/ml/min_max_scaler_example.py\n",
            "spark-3.3.2-bin-hadoop3/examples/src/main/python/ml/multiclass_logistic_regression_with_elastic_net.py\n",
            "spark-3.3.2-bin-hadoop3/examples/src/main/python/ml/multilayer_perceptron_classification.py\n",
            "spark-3.3.2-bin-hadoop3/examples/src/main/python/ml/n_gram_example.py\n",
            "spark-3.3.2-bin-hadoop3/examples/src/main/python/ml/naive_bayes_example.py\n",
            "spark-3.3.2-bin-hadoop3/examples/src/main/python/ml/normalizer_example.py\n",
            "spark-3.3.2-bin-hadoop3/examples/src/main/python/ml/one_vs_rest_example.py\n",
            "spark-3.3.2-bin-hadoop3/examples/src/main/python/ml/onehot_encoder_example.py\n",
            "spark-3.3.2-bin-hadoop3/examples/src/main/python/ml/pca_example.py\n",
            "spark-3.3.2-bin-hadoop3/examples/src/main/python/ml/pipeline_example.py\n",
            "spark-3.3.2-bin-hadoop3/examples/src/main/python/ml/polynomial_expansion_example.py\n",
            "spark-3.3.2-bin-hadoop3/examples/src/main/python/ml/power_iteration_clustering_example.py\n",
            "spark-3.3.2-bin-hadoop3/examples/src/main/python/ml/prefixspan_example.py\n",
            "spark-3.3.2-bin-hadoop3/examples/src/main/python/ml/quantile_discretizer_example.py\n",
            "spark-3.3.2-bin-hadoop3/examples/src/main/python/ml/random_forest_classifier_example.py\n",
            "spark-3.3.2-bin-hadoop3/examples/src/main/python/ml/random_forest_regressor_example.py\n",
            "spark-3.3.2-bin-hadoop3/examples/src/main/python/ml/rformula_example.py\n",
            "spark-3.3.2-bin-hadoop3/examples/src/main/python/ml/robust_scaler_example.py\n",
            "spark-3.3.2-bin-hadoop3/examples/src/main/python/ml/sql_transformer.py\n",
            "spark-3.3.2-bin-hadoop3/examples/src/main/python/ml/standard_scaler_example.py\n",
            "spark-3.3.2-bin-hadoop3/examples/src/main/python/ml/stopwords_remover_example.py\n",
            "spark-3.3.2-bin-hadoop3/examples/src/main/python/ml/string_indexer_example.py\n",
            "spark-3.3.2-bin-hadoop3/examples/src/main/python/ml/summarizer_example.py\n",
            "spark-3.3.2-bin-hadoop3/examples/src/main/python/ml/tf_idf_example.py\n",
            "spark-3.3.2-bin-hadoop3/examples/src/main/python/ml/tokenizer_example.py\n",
            "spark-3.3.2-bin-hadoop3/examples/src/main/python/ml/train_validation_split.py\n",
            "spark-3.3.2-bin-hadoop3/examples/src/main/python/ml/univariate_feature_selector_example.py\n",
            "spark-3.3.2-bin-hadoop3/examples/src/main/python/ml/variance_threshold_selector_example.py\n",
            "spark-3.3.2-bin-hadoop3/examples/src/main/python/ml/vector_assembler_example.py\n",
            "spark-3.3.2-bin-hadoop3/examples/src/main/python/ml/vector_indexer_example.py\n",
            "spark-3.3.2-bin-hadoop3/examples/src/main/python/ml/vector_size_hint_example.py\n",
            "spark-3.3.2-bin-hadoop3/examples/src/main/python/ml/vector_slicer_example.py\n",
            "spark-3.3.2-bin-hadoop3/examples/src/main/python/ml/word2vec_example.py\n",
            "spark-3.3.2-bin-hadoop3/examples/src/main/python/mllib/\n",
            "spark-3.3.2-bin-hadoop3/examples/src/main/python/mllib/__init__.py\n",
            "spark-3.3.2-bin-hadoop3/examples/src/main/python/mllib/binary_classification_metrics_example.py\n",
            "spark-3.3.2-bin-hadoop3/examples/src/main/python/mllib/bisecting_k_means_example.py\n",
            "spark-3.3.2-bin-hadoop3/examples/src/main/python/mllib/correlations.py\n",
            "spark-3.3.2-bin-hadoop3/examples/src/main/python/mllib/correlations_example.py\n",
            "spark-3.3.2-bin-hadoop3/examples/src/main/python/mllib/decision_tree_classification_example.py\n",
            "spark-3.3.2-bin-hadoop3/examples/src/main/python/mllib/decision_tree_regression_example.py\n",
            "spark-3.3.2-bin-hadoop3/examples/src/main/python/mllib/elementwise_product_example.py\n",
            "spark-3.3.2-bin-hadoop3/examples/src/main/python/mllib/fpgrowth_example.py\n",
            "spark-3.3.2-bin-hadoop3/examples/src/main/python/mllib/gaussian_mixture_example.py\n",
            "spark-3.3.2-bin-hadoop3/examples/src/main/python/mllib/gaussian_mixture_model.py\n",
            "spark-3.3.2-bin-hadoop3/examples/src/main/python/mllib/gradient_boosting_classification_example.py\n",
            "spark-3.3.2-bin-hadoop3/examples/src/main/python/mllib/gradient_boosting_regression_example.py\n",
            "spark-3.3.2-bin-hadoop3/examples/src/main/python/mllib/hypothesis_testing_example.py\n",
            "spark-3.3.2-bin-hadoop3/examples/src/main/python/mllib/hypothesis_testing_kolmogorov_smirnov_test_example.py\n",
            "spark-3.3.2-bin-hadoop3/examples/src/main/python/mllib/isotonic_regression_example.py\n",
            "spark-3.3.2-bin-hadoop3/examples/src/main/python/mllib/k_means_example.py\n",
            "spark-3.3.2-bin-hadoop3/examples/src/main/python/mllib/kernel_density_estimation_example.py\n",
            "spark-3.3.2-bin-hadoop3/examples/src/main/python/mllib/kmeans.py\n",
            "spark-3.3.2-bin-hadoop3/examples/src/main/python/mllib/latent_dirichlet_allocation_example.py\n",
            "spark-3.3.2-bin-hadoop3/examples/src/main/python/mllib/linear_regression_with_sgd_example.py\n",
            "spark-3.3.2-bin-hadoop3/examples/src/main/python/mllib/logistic_regression.py\n",
            "spark-3.3.2-bin-hadoop3/examples/src/main/python/mllib/logistic_regression_with_lbfgs_example.py\n",
            "spark-3.3.2-bin-hadoop3/examples/src/main/python/mllib/multi_class_metrics_example.py\n",
            "spark-3.3.2-bin-hadoop3/examples/src/main/python/mllib/multi_label_metrics_example.py\n",
            "spark-3.3.2-bin-hadoop3/examples/src/main/python/mllib/naive_bayes_example.py\n",
            "spark-3.3.2-bin-hadoop3/examples/src/main/python/mllib/normalizer_example.py\n",
            "spark-3.3.2-bin-hadoop3/examples/src/main/python/mllib/pca_rowmatrix_example.py\n",
            "spark-3.3.2-bin-hadoop3/examples/src/main/python/mllib/power_iteration_clustering_example.py\n",
            "spark-3.3.2-bin-hadoop3/examples/src/main/python/mllib/random_forest_classification_example.py\n",
            "spark-3.3.2-bin-hadoop3/examples/src/main/python/mllib/random_forest_regression_example.py\n",
            "spark-3.3.2-bin-hadoop3/examples/src/main/python/mllib/random_rdd_generation.py\n",
            "spark-3.3.2-bin-hadoop3/examples/src/main/python/mllib/ranking_metrics_example.py\n",
            "spark-3.3.2-bin-hadoop3/examples/src/main/python/mllib/recommendation_example.py\n",
            "spark-3.3.2-bin-hadoop3/examples/src/main/python/mllib/regression_metrics_example.py\n",
            "spark-3.3.2-bin-hadoop3/examples/src/main/python/mllib/sampled_rdds.py\n",
            "spark-3.3.2-bin-hadoop3/examples/src/main/python/mllib/standard_scaler_example.py\n",
            "spark-3.3.2-bin-hadoop3/examples/src/main/python/mllib/stratified_sampling_example.py\n",
            "spark-3.3.2-bin-hadoop3/examples/src/main/python/mllib/streaming_k_means_example.py\n",
            "spark-3.3.2-bin-hadoop3/examples/src/main/python/mllib/streaming_linear_regression_example.py\n",
            "spark-3.3.2-bin-hadoop3/examples/src/main/python/mllib/summary_statistics_example.py\n",
            "spark-3.3.2-bin-hadoop3/examples/src/main/python/mllib/svd_example.py\n",
            "spark-3.3.2-bin-hadoop3/examples/src/main/python/mllib/svm_with_sgd_example.py\n",
            "spark-3.3.2-bin-hadoop3/examples/src/main/python/mllib/tf_idf_example.py\n",
            "spark-3.3.2-bin-hadoop3/examples/src/main/python/mllib/word2vec.py\n",
            "spark-3.3.2-bin-hadoop3/examples/src/main/python/mllib/word2vec_example.py\n",
            "spark-3.3.2-bin-hadoop3/examples/src/main/python/pagerank.py\n",
            "spark-3.3.2-bin-hadoop3/examples/src/main/python/parquet_inputformat.py\n",
            "spark-3.3.2-bin-hadoop3/examples/src/main/python/pi.py\n",
            "spark-3.3.2-bin-hadoop3/examples/src/main/python/sort.py\n",
            "spark-3.3.2-bin-hadoop3/examples/src/main/python/sql/\n",
            "spark-3.3.2-bin-hadoop3/examples/src/main/python/sql/__init__.py\n",
            "spark-3.3.2-bin-hadoop3/examples/src/main/python/sql/arrow.py\n",
            "spark-3.3.2-bin-hadoop3/examples/src/main/python/sql/basic.py\n",
            "spark-3.3.2-bin-hadoop3/examples/src/main/python/sql/datasource.py\n",
            "spark-3.3.2-bin-hadoop3/examples/src/main/python/sql/hive.py\n",
            "spark-3.3.2-bin-hadoop3/examples/src/main/python/sql/streaming/\n",
            "spark-3.3.2-bin-hadoop3/examples/src/main/python/sql/streaming/__init__,py\n",
            "spark-3.3.2-bin-hadoop3/examples/src/main/python/sql/streaming/structured_kafka_wordcount.py\n",
            "spark-3.3.2-bin-hadoop3/examples/src/main/python/sql/streaming/structured_network_wordcount.py\n",
            "spark-3.3.2-bin-hadoop3/examples/src/main/python/sql/streaming/structured_network_wordcount_windowed.py\n",
            "spark-3.3.2-bin-hadoop3/examples/src/main/python/sql/streaming/structured_sessionization.py\n",
            "spark-3.3.2-bin-hadoop3/examples/src/main/python/status_api_demo.py\n",
            "spark-3.3.2-bin-hadoop3/examples/src/main/python/streaming/\n",
            "spark-3.3.2-bin-hadoop3/examples/src/main/python/streaming/__init__.py\n",
            "spark-3.3.2-bin-hadoop3/examples/src/main/python/streaming/hdfs_wordcount.py\n",
            "spark-3.3.2-bin-hadoop3/examples/src/main/python/streaming/network_wordcount.py\n",
            "spark-3.3.2-bin-hadoop3/examples/src/main/python/streaming/network_wordjoinsentiments.py\n",
            "spark-3.3.2-bin-hadoop3/examples/src/main/python/streaming/queue_stream.py\n",
            "spark-3.3.2-bin-hadoop3/examples/src/main/python/streaming/recoverable_network_wordcount.py\n",
            "spark-3.3.2-bin-hadoop3/examples/src/main/python/streaming/sql_network_wordcount.py\n",
            "spark-3.3.2-bin-hadoop3/examples/src/main/python/streaming/stateful_network_wordcount.py\n",
            "spark-3.3.2-bin-hadoop3/examples/src/main/python/transitive_closure.py\n",
            "spark-3.3.2-bin-hadoop3/examples/src/main/python/wordcount.py\n",
            "spark-3.3.2-bin-hadoop3/examples/src/main/r/\n",
            "spark-3.3.2-bin-hadoop3/examples/src/main/r/RSparkSQLExample.R\n",
            "spark-3.3.2-bin-hadoop3/examples/src/main/r/data-manipulation.R\n",
            "spark-3.3.2-bin-hadoop3/examples/src/main/r/dataframe.R\n",
            "spark-3.3.2-bin-hadoop3/examples/src/main/r/ml/\n",
            "spark-3.3.2-bin-hadoop3/examples/src/main/r/ml/als.R\n",
            "spark-3.3.2-bin-hadoop3/examples/src/main/r/ml/bisectingKmeans.R\n",
            "spark-3.3.2-bin-hadoop3/examples/src/main/r/ml/decisionTree.R\n",
            "spark-3.3.2-bin-hadoop3/examples/src/main/r/ml/fmClassifier.R\n",
            "spark-3.3.2-bin-hadoop3/examples/src/main/r/ml/fmRegressor.R\n",
            "spark-3.3.2-bin-hadoop3/examples/src/main/r/ml/fpm.R\n",
            "spark-3.3.2-bin-hadoop3/examples/src/main/r/ml/gaussianMixture.R\n",
            "spark-3.3.2-bin-hadoop3/examples/src/main/r/ml/gbt.R\n",
            "spark-3.3.2-bin-hadoop3/examples/src/main/r/ml/glm.R\n",
            "spark-3.3.2-bin-hadoop3/examples/src/main/r/ml/isoreg.R\n",
            "spark-3.3.2-bin-hadoop3/examples/src/main/r/ml/kmeans.R\n",
            "spark-3.3.2-bin-hadoop3/examples/src/main/r/ml/kstest.R\n",
            "spark-3.3.2-bin-hadoop3/examples/src/main/r/ml/lda.R\n",
            "spark-3.3.2-bin-hadoop3/examples/src/main/r/ml/lm_with_elastic_net.R\n",
            "spark-3.3.2-bin-hadoop3/examples/src/main/r/ml/logit.R\n",
            "spark-3.3.2-bin-hadoop3/examples/src/main/r/ml/ml.R\n",
            "spark-3.3.2-bin-hadoop3/examples/src/main/r/ml/mlp.R\n",
            "spark-3.3.2-bin-hadoop3/examples/src/main/r/ml/naiveBayes.R\n",
            "spark-3.3.2-bin-hadoop3/examples/src/main/r/ml/powerIterationClustering.R\n",
            "spark-3.3.2-bin-hadoop3/examples/src/main/r/ml/prefixSpan.R\n",
            "spark-3.3.2-bin-hadoop3/examples/src/main/r/ml/randomForest.R\n",
            "spark-3.3.2-bin-hadoop3/examples/src/main/r/ml/survreg.R\n",
            "spark-3.3.2-bin-hadoop3/examples/src/main/r/ml/svmLinear.R\n",
            "spark-3.3.2-bin-hadoop3/examples/src/main/r/streaming/\n",
            "spark-3.3.2-bin-hadoop3/examples/src/main/r/streaming/structured_network_wordcount.R\n",
            "spark-3.3.2-bin-hadoop3/examples/src/main/resources/\n",
            "spark-3.3.2-bin-hadoop3/examples/src/main/resources/META-INF/\n",
            "spark-3.3.2-bin-hadoop3/examples/src/main/resources/META-INF/services/\n",
            "spark-3.3.2-bin-hadoop3/examples/src/main/resources/META-INF/services/org.apache.spark.sql.SparkSessionExtensionsProvider\n",
            "spark-3.3.2-bin-hadoop3/examples/src/main/resources/META-INF/services/org.apache.spark.sql.jdbc.JdbcConnectionProvider\n",
            "spark-3.3.2-bin-hadoop3/examples/src/main/resources/dir1/\n",
            "spark-3.3.2-bin-hadoop3/examples/src/main/resources/dir1/dir2/\n",
            "spark-3.3.2-bin-hadoop3/examples/src/main/resources/dir1/dir2/file2.parquet\n",
            "spark-3.3.2-bin-hadoop3/examples/src/main/resources/dir1/file1.parquet\n",
            "spark-3.3.2-bin-hadoop3/examples/src/main/resources/dir1/file3.json\n",
            "spark-3.3.2-bin-hadoop3/examples/src/main/resources/employees.json\n",
            "spark-3.3.2-bin-hadoop3/examples/src/main/resources/full_user.avsc\n",
            "spark-3.3.2-bin-hadoop3/examples/src/main/resources/kv1.txt\n",
            "spark-3.3.2-bin-hadoop3/examples/src/main/resources/people.csv\n",
            "spark-3.3.2-bin-hadoop3/examples/src/main/resources/people.json\n",
            "spark-3.3.2-bin-hadoop3/examples/src/main/resources/people.txt\n",
            "spark-3.3.2-bin-hadoop3/examples/src/main/resources/user.avsc\n",
            "spark-3.3.2-bin-hadoop3/examples/src/main/resources/users.avro\n",
            "spark-3.3.2-bin-hadoop3/examples/src/main/resources/users.orc\n",
            "spark-3.3.2-bin-hadoop3/examples/src/main/resources/users.parquet\n",
            "spark-3.3.2-bin-hadoop3/examples/src/main/scala/\n",
            "spark-3.3.2-bin-hadoop3/examples/src/main/scala/org/\n",
            "spark-3.3.2-bin-hadoop3/examples/src/main/scala/org/apache/\n",
            "spark-3.3.2-bin-hadoop3/examples/src/main/scala/org/apache/spark/\n",
            "spark-3.3.2-bin-hadoop3/examples/src/main/scala/org/apache/spark/examples/\n",
            "spark-3.3.2-bin-hadoop3/examples/src/main/scala/org/apache/spark/examples/AccumulatorMetricsTest.scala\n",
            "spark-3.3.2-bin-hadoop3/examples/src/main/scala/org/apache/spark/examples/BroadcastTest.scala\n",
            "spark-3.3.2-bin-hadoop3/examples/src/main/scala/org/apache/spark/examples/DFSReadWriteTest.scala\n",
            "spark-3.3.2-bin-hadoop3/examples/src/main/scala/org/apache/spark/examples/DriverSubmissionTest.scala\n",
            "spark-3.3.2-bin-hadoop3/examples/src/main/scala/org/apache/spark/examples/ExceptionHandlingTest.scala\n",
            "spark-3.3.2-bin-hadoop3/examples/src/main/scala/org/apache/spark/examples/GroupByTest.scala\n",
            "spark-3.3.2-bin-hadoop3/examples/src/main/scala/org/apache/spark/examples/HdfsTest.scala\n",
            "spark-3.3.2-bin-hadoop3/examples/src/main/scala/org/apache/spark/examples/LocalALS.scala\n",
            "spark-3.3.2-bin-hadoop3/examples/src/main/scala/org/apache/spark/examples/LocalFileLR.scala\n",
            "spark-3.3.2-bin-hadoop3/examples/src/main/scala/org/apache/spark/examples/LocalKMeans.scala\n",
            "spark-3.3.2-bin-hadoop3/examples/src/main/scala/org/apache/spark/examples/LocalLR.scala\n",
            "spark-3.3.2-bin-hadoop3/examples/src/main/scala/org/apache/spark/examples/LocalPi.scala\n",
            "spark-3.3.2-bin-hadoop3/examples/src/main/scala/org/apache/spark/examples/LogQuery.scala\n",
            "spark-3.3.2-bin-hadoop3/examples/src/main/scala/org/apache/spark/examples/MiniReadWriteTest.scala\n",
            "spark-3.3.2-bin-hadoop3/examples/src/main/scala/org/apache/spark/examples/MultiBroadcastTest.scala\n",
            "spark-3.3.2-bin-hadoop3/examples/src/main/scala/org/apache/spark/examples/SimpleSkewedGroupByTest.scala\n",
            "spark-3.3.2-bin-hadoop3/examples/src/main/scala/org/apache/spark/examples/SkewedGroupByTest.scala\n",
            "spark-3.3.2-bin-hadoop3/examples/src/main/scala/org/apache/spark/examples/SparkALS.scala\n",
            "spark-3.3.2-bin-hadoop3/examples/src/main/scala/org/apache/spark/examples/SparkHdfsLR.scala\n",
            "spark-3.3.2-bin-hadoop3/examples/src/main/scala/org/apache/spark/examples/SparkKMeans.scala\n",
            "spark-3.3.2-bin-hadoop3/examples/src/main/scala/org/apache/spark/examples/SparkLR.scala\n",
            "spark-3.3.2-bin-hadoop3/examples/src/main/scala/org/apache/spark/examples/SparkPageRank.scala\n",
            "spark-3.3.2-bin-hadoop3/examples/src/main/scala/org/apache/spark/examples/SparkPi.scala\n",
            "spark-3.3.2-bin-hadoop3/examples/src/main/scala/org/apache/spark/examples/SparkRemoteFileTest.scala\n",
            "spark-3.3.2-bin-hadoop3/examples/src/main/scala/org/apache/spark/examples/SparkTC.scala\n",
            "spark-3.3.2-bin-hadoop3/examples/src/main/scala/org/apache/spark/examples/extensions/\n",
            "spark-3.3.2-bin-hadoop3/examples/src/main/scala/org/apache/spark/examples/extensions/AgeExample.scala\n",
            "spark-3.3.2-bin-hadoop3/examples/src/main/scala/org/apache/spark/examples/extensions/SessionExtensionsWithLoader.scala\n",
            "spark-3.3.2-bin-hadoop3/examples/src/main/scala/org/apache/spark/examples/extensions/SessionExtensionsWithoutLoader.scala\n",
            "spark-3.3.2-bin-hadoop3/examples/src/main/scala/org/apache/spark/examples/extensions/SparkSessionExtensionsTest.scala\n",
            "spark-3.3.2-bin-hadoop3/examples/src/main/scala/org/apache/spark/examples/graphx/\n",
            "spark-3.3.2-bin-hadoop3/examples/src/main/scala/org/apache/spark/examples/graphx/AggregateMessagesExample.scala\n",
            "spark-3.3.2-bin-hadoop3/examples/src/main/scala/org/apache/spark/examples/graphx/Analytics.scala\n",
            "spark-3.3.2-bin-hadoop3/examples/src/main/scala/org/apache/spark/examples/graphx/ComprehensiveExample.scala\n",
            "spark-3.3.2-bin-hadoop3/examples/src/main/scala/org/apache/spark/examples/graphx/ConnectedComponentsExample.scala\n",
            "spark-3.3.2-bin-hadoop3/examples/src/main/scala/org/apache/spark/examples/graphx/LiveJournalPageRank.scala\n",
            "spark-3.3.2-bin-hadoop3/examples/src/main/scala/org/apache/spark/examples/graphx/PageRankExample.scala\n",
            "spark-3.3.2-bin-hadoop3/examples/src/main/scala/org/apache/spark/examples/graphx/SSSPExample.scala\n",
            "spark-3.3.2-bin-hadoop3/examples/src/main/scala/org/apache/spark/examples/graphx/SynthBenchmark.scala\n",
            "spark-3.3.2-bin-hadoop3/examples/src/main/scala/org/apache/spark/examples/graphx/TriangleCountingExample.scala\n",
            "spark-3.3.2-bin-hadoop3/examples/src/main/scala/org/apache/spark/examples/ml/\n",
            "spark-3.3.2-bin-hadoop3/examples/src/main/scala/org/apache/spark/examples/ml/AFTSurvivalRegressionExample.scala\n",
            "spark-3.3.2-bin-hadoop3/examples/src/main/scala/org/apache/spark/examples/ml/ALSExample.scala\n",
            "spark-3.3.2-bin-hadoop3/examples/src/main/scala/org/apache/spark/examples/ml/BinarizerExample.scala\n",
            "spark-3.3.2-bin-hadoop3/examples/src/main/scala/org/apache/spark/examples/ml/BisectingKMeansExample.scala\n",
            "spark-3.3.2-bin-hadoop3/examples/src/main/scala/org/apache/spark/examples/ml/BucketedRandomProjectionLSHExample.scala\n",
            "spark-3.3.2-bin-hadoop3/examples/src/main/scala/org/apache/spark/examples/ml/BucketizerExample.scala\n",
            "spark-3.3.2-bin-hadoop3/examples/src/main/scala/org/apache/spark/examples/ml/ChiSqSelectorExample.scala\n",
            "spark-3.3.2-bin-hadoop3/examples/src/main/scala/org/apache/spark/examples/ml/ChiSquareTestExample.scala\n",
            "spark-3.3.2-bin-hadoop3/examples/src/main/scala/org/apache/spark/examples/ml/CorrelationExample.scala\n",
            "spark-3.3.2-bin-hadoop3/examples/src/main/scala/org/apache/spark/examples/ml/CountVectorizerExample.scala\n",
            "spark-3.3.2-bin-hadoop3/examples/src/main/scala/org/apache/spark/examples/ml/DCTExample.scala\n",
            "spark-3.3.2-bin-hadoop3/examples/src/main/scala/org/apache/spark/examples/ml/DataFrameExample.scala\n",
            "spark-3.3.2-bin-hadoop3/examples/src/main/scala/org/apache/spark/examples/ml/DecisionTreeClassificationExample.scala\n",
            "spark-3.3.2-bin-hadoop3/examples/src/main/scala/org/apache/spark/examples/ml/DecisionTreeExample.scala\n",
            "spark-3.3.2-bin-hadoop3/examples/src/main/scala/org/apache/spark/examples/ml/DecisionTreeRegressionExample.scala\n",
            "spark-3.3.2-bin-hadoop3/examples/src/main/scala/org/apache/spark/examples/ml/DeveloperApiExample.scala\n",
            "spark-3.3.2-bin-hadoop3/examples/src/main/scala/org/apache/spark/examples/ml/ElementwiseProductExample.scala\n",
            "spark-3.3.2-bin-hadoop3/examples/src/main/scala/org/apache/spark/examples/ml/EstimatorTransformerParamExample.scala\n",
            "spark-3.3.2-bin-hadoop3/examples/src/main/scala/org/apache/spark/examples/ml/FMClassifierExample.scala\n",
            "spark-3.3.2-bin-hadoop3/examples/src/main/scala/org/apache/spark/examples/ml/FMRegressorExample.scala\n",
            "spark-3.3.2-bin-hadoop3/examples/src/main/scala/org/apache/spark/examples/ml/FPGrowthExample.scala\n",
            "spark-3.3.2-bin-hadoop3/examples/src/main/scala/org/apache/spark/examples/ml/FeatureHasherExample.scala\n",
            "spark-3.3.2-bin-hadoop3/examples/src/main/scala/org/apache/spark/examples/ml/GBTExample.scala\n",
            "spark-3.3.2-bin-hadoop3/examples/src/main/scala/org/apache/spark/examples/ml/GaussianMixtureExample.scala\n",
            "spark-3.3.2-bin-hadoop3/examples/src/main/scala/org/apache/spark/examples/ml/GeneralizedLinearRegressionExample.scala\n",
            "spark-3.3.2-bin-hadoop3/examples/src/main/scala/org/apache/spark/examples/ml/GradientBoostedTreeClassifierExample.scala\n",
            "spark-3.3.2-bin-hadoop3/examples/src/main/scala/org/apache/spark/examples/ml/GradientBoostedTreeRegressorExample.scala\n",
            "spark-3.3.2-bin-hadoop3/examples/src/main/scala/org/apache/spark/examples/ml/ImputerExample.scala\n",
            "spark-3.3.2-bin-hadoop3/examples/src/main/scala/org/apache/spark/examples/ml/IndexToStringExample.scala\n",
            "spark-3.3.2-bin-hadoop3/examples/src/main/scala/org/apache/spark/examples/ml/InteractionExample.scala\n",
            "spark-3.3.2-bin-hadoop3/examples/src/main/scala/org/apache/spark/examples/ml/IsotonicRegressionExample.scala\n",
            "spark-3.3.2-bin-hadoop3/examples/src/main/scala/org/apache/spark/examples/ml/KMeansExample.scala\n",
            "spark-3.3.2-bin-hadoop3/examples/src/main/scala/org/apache/spark/examples/ml/LDAExample.scala\n",
            "spark-3.3.2-bin-hadoop3/examples/src/main/scala/org/apache/spark/examples/ml/LinearRegressionExample.scala\n",
            "spark-3.3.2-bin-hadoop3/examples/src/main/scala/org/apache/spark/examples/ml/LinearRegressionWithElasticNetExample.scala\n",
            "spark-3.3.2-bin-hadoop3/examples/src/main/scala/org/apache/spark/examples/ml/LinearSVCExample.scala\n",
            "spark-3.3.2-bin-hadoop3/examples/src/main/scala/org/apache/spark/examples/ml/LogisticRegressionExample.scala\n",
            "spark-3.3.2-bin-hadoop3/examples/src/main/scala/org/apache/spark/examples/ml/LogisticRegressionSummaryExample.scala\n",
            "spark-3.3.2-bin-hadoop3/examples/src/main/scala/org/apache/spark/examples/ml/LogisticRegressionWithElasticNetExample.scala\n",
            "spark-3.3.2-bin-hadoop3/examples/src/main/scala/org/apache/spark/examples/ml/MaxAbsScalerExample.scala\n",
            "spark-3.3.2-bin-hadoop3/examples/src/main/scala/org/apache/spark/examples/ml/MinHashLSHExample.scala\n",
            "spark-3.3.2-bin-hadoop3/examples/src/main/scala/org/apache/spark/examples/ml/MinMaxScalerExample.scala\n",
            "spark-3.3.2-bin-hadoop3/examples/src/main/scala/org/apache/spark/examples/ml/ModelSelectionViaCrossValidationExample.scala\n",
            "spark-3.3.2-bin-hadoop3/examples/src/main/scala/org/apache/spark/examples/ml/ModelSelectionViaTrainValidationSplitExample.scala\n",
            "spark-3.3.2-bin-hadoop3/examples/src/main/scala/org/apache/spark/examples/ml/MulticlassLogisticRegressionWithElasticNetExample.scala\n",
            "spark-3.3.2-bin-hadoop3/examples/src/main/scala/org/apache/spark/examples/ml/MultilayerPerceptronClassifierExample.scala\n",
            "spark-3.3.2-bin-hadoop3/examples/src/main/scala/org/apache/spark/examples/ml/NGramExample.scala\n",
            "spark-3.3.2-bin-hadoop3/examples/src/main/scala/org/apache/spark/examples/ml/NaiveBayesExample.scala\n",
            "spark-3.3.2-bin-hadoop3/examples/src/main/scala/org/apache/spark/examples/ml/NormalizerExample.scala\n",
            "spark-3.3.2-bin-hadoop3/examples/src/main/scala/org/apache/spark/examples/ml/OneHotEncoderExample.scala\n",
            "spark-3.3.2-bin-hadoop3/examples/src/main/scala/org/apache/spark/examples/ml/OneVsRestExample.scala\n",
            "spark-3.3.2-bin-hadoop3/examples/src/main/scala/org/apache/spark/examples/ml/PCAExample.scala\n",
            "spark-3.3.2-bin-hadoop3/examples/src/main/scala/org/apache/spark/examples/ml/PipelineExample.scala\n",
            "spark-3.3.2-bin-hadoop3/examples/src/main/scala/org/apache/spark/examples/ml/PolynomialExpansionExample.scala\n",
            "spark-3.3.2-bin-hadoop3/examples/src/main/scala/org/apache/spark/examples/ml/PowerIterationClusteringExample.scala\n",
            "spark-3.3.2-bin-hadoop3/examples/src/main/scala/org/apache/spark/examples/ml/PrefixSpanExample.scala\n",
            "spark-3.3.2-bin-hadoop3/examples/src/main/scala/org/apache/spark/examples/ml/QuantileDiscretizerExample.scala\n",
            "spark-3.3.2-bin-hadoop3/examples/src/main/scala/org/apache/spark/examples/ml/RFormulaExample.scala\n",
            "spark-3.3.2-bin-hadoop3/examples/src/main/scala/org/apache/spark/examples/ml/RandomForestClassifierExample.scala\n",
            "spark-3.3.2-bin-hadoop3/examples/src/main/scala/org/apache/spark/examples/ml/RandomForestExample.scala\n",
            "spark-3.3.2-bin-hadoop3/examples/src/main/scala/org/apache/spark/examples/ml/RandomForestRegressorExample.scala\n",
            "spark-3.3.2-bin-hadoop3/examples/src/main/scala/org/apache/spark/examples/ml/RobustScalerExample.scala\n",
            "spark-3.3.2-bin-hadoop3/examples/src/main/scala/org/apache/spark/examples/ml/SQLTransformerExample.scala\n",
            "spark-3.3.2-bin-hadoop3/examples/src/main/scala/org/apache/spark/examples/ml/StandardScalerExample.scala\n",
            "spark-3.3.2-bin-hadoop3/examples/src/main/scala/org/apache/spark/examples/ml/StopWordsRemoverExample.scala\n",
            "spark-3.3.2-bin-hadoop3/examples/src/main/scala/org/apache/spark/examples/ml/StringIndexerExample.scala\n",
            "spark-3.3.2-bin-hadoop3/examples/src/main/scala/org/apache/spark/examples/ml/SummarizerExample.scala\n",
            "spark-3.3.2-bin-hadoop3/examples/src/main/scala/org/apache/spark/examples/ml/TfIdfExample.scala\n",
            "spark-3.3.2-bin-hadoop3/examples/src/main/scala/org/apache/spark/examples/ml/TokenizerExample.scala\n",
            "spark-3.3.2-bin-hadoop3/examples/src/main/scala/org/apache/spark/examples/ml/UnaryTransformerExample.scala\n",
            "spark-3.3.2-bin-hadoop3/examples/src/main/scala/org/apache/spark/examples/ml/UnivariateFeatureSelectorExample.scala\n",
            "spark-3.3.2-bin-hadoop3/examples/src/main/scala/org/apache/spark/examples/ml/VarianceThresholdSelectorExample.scala\n",
            "spark-3.3.2-bin-hadoop3/examples/src/main/scala/org/apache/spark/examples/ml/VectorAssemblerExample.scala\n",
            "spark-3.3.2-bin-hadoop3/examples/src/main/scala/org/apache/spark/examples/ml/VectorIndexerExample.scala\n",
            "spark-3.3.2-bin-hadoop3/examples/src/main/scala/org/apache/spark/examples/ml/VectorSizeHintExample.scala\n",
            "spark-3.3.2-bin-hadoop3/examples/src/main/scala/org/apache/spark/examples/ml/VectorSlicerExample.scala\n",
            "spark-3.3.2-bin-hadoop3/examples/src/main/scala/org/apache/spark/examples/ml/Word2VecExample.scala\n",
            "spark-3.3.2-bin-hadoop3/examples/src/main/scala/org/apache/spark/examples/mllib/\n",
            "spark-3.3.2-bin-hadoop3/examples/src/main/scala/org/apache/spark/examples/mllib/AbstractParams.scala\n",
            "spark-3.3.2-bin-hadoop3/examples/src/main/scala/org/apache/spark/examples/mllib/AssociationRulesExample.scala\n",
            "spark-3.3.2-bin-hadoop3/examples/src/main/scala/org/apache/spark/examples/mllib/BinaryClassification.scala\n",
            "spark-3.3.2-bin-hadoop3/examples/src/main/scala/org/apache/spark/examples/mllib/BinaryClassificationMetricsExample.scala\n",
            "spark-3.3.2-bin-hadoop3/examples/src/main/scala/org/apache/spark/examples/mllib/BisectingKMeansExample.scala\n",
            "spark-3.3.2-bin-hadoop3/examples/src/main/scala/org/apache/spark/examples/mllib/ChiSqSelectorExample.scala\n",
            "spark-3.3.2-bin-hadoop3/examples/src/main/scala/org/apache/spark/examples/mllib/Correlations.scala\n",
            "spark-3.3.2-bin-hadoop3/examples/src/main/scala/org/apache/spark/examples/mllib/CorrelationsExample.scala\n",
            "spark-3.3.2-bin-hadoop3/examples/src/main/scala/org/apache/spark/examples/mllib/CosineSimilarity.scala\n",
            "spark-3.3.2-bin-hadoop3/examples/src/main/scala/org/apache/spark/examples/mllib/DecisionTreeClassificationExample.scala\n",
            "spark-3.3.2-bin-hadoop3/examples/src/main/scala/org/apache/spark/examples/mllib/DecisionTreeRegressionExample.scala\n",
            "spark-3.3.2-bin-hadoop3/examples/src/main/scala/org/apache/spark/examples/mllib/DecisionTreeRunner.scala\n",
            "spark-3.3.2-bin-hadoop3/examples/src/main/scala/org/apache/spark/examples/mllib/DenseKMeans.scala\n",
            "spark-3.3.2-bin-hadoop3/examples/src/main/scala/org/apache/spark/examples/mllib/ElementwiseProductExample.scala\n",
            "spark-3.3.2-bin-hadoop3/examples/src/main/scala/org/apache/spark/examples/mllib/FPGrowthExample.scala\n",
            "spark-3.3.2-bin-hadoop3/examples/src/main/scala/org/apache/spark/examples/mllib/GaussianMixtureExample.scala\n",
            "spark-3.3.2-bin-hadoop3/examples/src/main/scala/org/apache/spark/examples/mllib/GradientBoostedTreesRunner.scala\n",
            "spark-3.3.2-bin-hadoop3/examples/src/main/scala/org/apache/spark/examples/mllib/GradientBoostingClassificationExample.scala\n",
            "spark-3.3.2-bin-hadoop3/examples/src/main/scala/org/apache/spark/examples/mllib/GradientBoostingRegressionExample.scala\n",
            "spark-3.3.2-bin-hadoop3/examples/src/main/scala/org/apache/spark/examples/mllib/HypothesisTestingExample.scala\n",
            "spark-3.3.2-bin-hadoop3/examples/src/main/scala/org/apache/spark/examples/mllib/HypothesisTestingKolmogorovSmirnovTestExample.scala\n",
            "spark-3.3.2-bin-hadoop3/examples/src/main/scala/org/apache/spark/examples/mllib/IsotonicRegressionExample.scala\n",
            "spark-3.3.2-bin-hadoop3/examples/src/main/scala/org/apache/spark/examples/mllib/KMeansExample.scala\n",
            "spark-3.3.2-bin-hadoop3/examples/src/main/scala/org/apache/spark/examples/mllib/KernelDensityEstimationExample.scala\n",
            "spark-3.3.2-bin-hadoop3/examples/src/main/scala/org/apache/spark/examples/mllib/LBFGSExample.scala\n",
            "spark-3.3.2-bin-hadoop3/examples/src/main/scala/org/apache/spark/examples/mllib/LDAExample.scala\n",
            "spark-3.3.2-bin-hadoop3/examples/src/main/scala/org/apache/spark/examples/mllib/LatentDirichletAllocationExample.scala\n",
            "spark-3.3.2-bin-hadoop3/examples/src/main/scala/org/apache/spark/examples/mllib/LogisticRegressionWithLBFGSExample.scala\n",
            "spark-3.3.2-bin-hadoop3/examples/src/main/scala/org/apache/spark/examples/mllib/MovieLensALS.scala\n",
            "spark-3.3.2-bin-hadoop3/examples/src/main/scala/org/apache/spark/examples/mllib/MultiLabelMetricsExample.scala\n",
            "spark-3.3.2-bin-hadoop3/examples/src/main/scala/org/apache/spark/examples/mllib/MulticlassMetricsExample.scala\n",
            "spark-3.3.2-bin-hadoop3/examples/src/main/scala/org/apache/spark/examples/mllib/MultivariateSummarizer.scala\n",
            "spark-3.3.2-bin-hadoop3/examples/src/main/scala/org/apache/spark/examples/mllib/NaiveBayesExample.scala\n",
            "spark-3.3.2-bin-hadoop3/examples/src/main/scala/org/apache/spark/examples/mllib/NormalizerExample.scala\n",
            "spark-3.3.2-bin-hadoop3/examples/src/main/scala/org/apache/spark/examples/mllib/PCAOnRowMatrixExample.scala\n",
            "spark-3.3.2-bin-hadoop3/examples/src/main/scala/org/apache/spark/examples/mllib/PCAOnSourceVectorExample.scala\n",
            "spark-3.3.2-bin-hadoop3/examples/src/main/scala/org/apache/spark/examples/mllib/PMMLModelExportExample.scala\n",
            "spark-3.3.2-bin-hadoop3/examples/src/main/scala/org/apache/spark/examples/mllib/PowerIterationClusteringExample.scala\n",
            "spark-3.3.2-bin-hadoop3/examples/src/main/scala/org/apache/spark/examples/mllib/PrefixSpanExample.scala\n",
            "spark-3.3.2-bin-hadoop3/examples/src/main/scala/org/apache/spark/examples/mllib/RandomForestClassificationExample.scala\n",
            "spark-3.3.2-bin-hadoop3/examples/src/main/scala/org/apache/spark/examples/mllib/RandomForestRegressionExample.scala\n",
            "spark-3.3.2-bin-hadoop3/examples/src/main/scala/org/apache/spark/examples/mllib/RandomRDDGeneration.scala\n",
            "spark-3.3.2-bin-hadoop3/examples/src/main/scala/org/apache/spark/examples/mllib/RankingMetricsExample.scala\n",
            "spark-3.3.2-bin-hadoop3/examples/src/main/scala/org/apache/spark/examples/mllib/RecommendationExample.scala\n",
            "spark-3.3.2-bin-hadoop3/examples/src/main/scala/org/apache/spark/examples/mllib/SVDExample.scala\n",
            "spark-3.3.2-bin-hadoop3/examples/src/main/scala/org/apache/spark/examples/mllib/SVMWithSGDExample.scala\n",
            "spark-3.3.2-bin-hadoop3/examples/src/main/scala/org/apache/spark/examples/mllib/SampledRDDs.scala\n",
            "spark-3.3.2-bin-hadoop3/examples/src/main/scala/org/apache/spark/examples/mllib/SimpleFPGrowth.scala\n",
            "spark-3.3.2-bin-hadoop3/examples/src/main/scala/org/apache/spark/examples/mllib/SparseNaiveBayes.scala\n",
            "spark-3.3.2-bin-hadoop3/examples/src/main/scala/org/apache/spark/examples/mllib/StandardScalerExample.scala\n",
            "spark-3.3.2-bin-hadoop3/examples/src/main/scala/org/apache/spark/examples/mllib/StratifiedSamplingExample.scala\n",
            "spark-3.3.2-bin-hadoop3/examples/src/main/scala/org/apache/spark/examples/mllib/StreamingKMeansExample.scala\n",
            "spark-3.3.2-bin-hadoop3/examples/src/main/scala/org/apache/spark/examples/mllib/StreamingLinearRegressionExample.scala\n",
            "spark-3.3.2-bin-hadoop3/examples/src/main/scala/org/apache/spark/examples/mllib/StreamingLogisticRegression.scala\n",
            "spark-3.3.2-bin-hadoop3/examples/src/main/scala/org/apache/spark/examples/mllib/StreamingTestExample.scala\n",
            "spark-3.3.2-bin-hadoop3/examples/src/main/scala/org/apache/spark/examples/mllib/SummaryStatisticsExample.scala\n",
            "spark-3.3.2-bin-hadoop3/examples/src/main/scala/org/apache/spark/examples/mllib/TFIDFExample.scala\n",
            "spark-3.3.2-bin-hadoop3/examples/src/main/scala/org/apache/spark/examples/mllib/TallSkinnyPCA.scala\n",
            "spark-3.3.2-bin-hadoop3/examples/src/main/scala/org/apache/spark/examples/mllib/TallSkinnySVD.scala\n",
            "spark-3.3.2-bin-hadoop3/examples/src/main/scala/org/apache/spark/examples/mllib/Word2VecExample.scala\n",
            "spark-3.3.2-bin-hadoop3/examples/src/main/scala/org/apache/spark/examples/pythonconverters/\n",
            "spark-3.3.2-bin-hadoop3/examples/src/main/scala/org/apache/spark/examples/pythonconverters/AvroConverters.scala\n",
            "spark-3.3.2-bin-hadoop3/examples/src/main/scala/org/apache/spark/examples/sql/\n",
            "spark-3.3.2-bin-hadoop3/examples/src/main/scala/org/apache/spark/examples/sql/RDDRelation.scala\n",
            "spark-3.3.2-bin-hadoop3/examples/src/main/scala/org/apache/spark/examples/sql/SQLDataSourceExample.scala\n",
            "spark-3.3.2-bin-hadoop3/examples/src/main/scala/org/apache/spark/examples/sql/SimpleTypedAggregator.scala\n",
            "spark-3.3.2-bin-hadoop3/examples/src/main/scala/org/apache/spark/examples/sql/SparkSQLExample.scala\n",
            "spark-3.3.2-bin-hadoop3/examples/src/main/scala/org/apache/spark/examples/sql/UserDefinedScalar.scala\n",
            "spark-3.3.2-bin-hadoop3/examples/src/main/scala/org/apache/spark/examples/sql/UserDefinedTypedAggregation.scala\n",
            "spark-3.3.2-bin-hadoop3/examples/src/main/scala/org/apache/spark/examples/sql/UserDefinedUntypedAggregation.scala\n",
            "spark-3.3.2-bin-hadoop3/examples/src/main/scala/org/apache/spark/examples/sql/hive/\n",
            "spark-3.3.2-bin-hadoop3/examples/src/main/scala/org/apache/spark/examples/sql/hive/SparkHiveExample.scala\n",
            "spark-3.3.2-bin-hadoop3/examples/src/main/scala/org/apache/spark/examples/sql/jdbc/\n",
            "spark-3.3.2-bin-hadoop3/examples/src/main/scala/org/apache/spark/examples/sql/jdbc/ExampleJdbcConnectionProvider.scala\n",
            "spark-3.3.2-bin-hadoop3/examples/src/main/scala/org/apache/spark/examples/sql/streaming/\n",
            "spark-3.3.2-bin-hadoop3/examples/src/main/scala/org/apache/spark/examples/sql/streaming/StructuredComplexSessionization.scala\n",
            "spark-3.3.2-bin-hadoop3/examples/src/main/scala/org/apache/spark/examples/sql/streaming/StructuredKafkaWordCount.scala\n",
            "spark-3.3.2-bin-hadoop3/examples/src/main/scala/org/apache/spark/examples/sql/streaming/StructuredKerberizedKafkaWordCount.scala\n",
            "spark-3.3.2-bin-hadoop3/examples/src/main/scala/org/apache/spark/examples/sql/streaming/StructuredNetworkWordCount.scala\n",
            "spark-3.3.2-bin-hadoop3/examples/src/main/scala/org/apache/spark/examples/sql/streaming/StructuredNetworkWordCountWindowed.scala\n",
            "spark-3.3.2-bin-hadoop3/examples/src/main/scala/org/apache/spark/examples/sql/streaming/StructuredSessionization.scala\n",
            "spark-3.3.2-bin-hadoop3/examples/src/main/scala/org/apache/spark/examples/streaming/\n",
            "spark-3.3.2-bin-hadoop3/examples/src/main/scala/org/apache/spark/examples/streaming/CustomReceiver.scala\n",
            "spark-3.3.2-bin-hadoop3/examples/src/main/scala/org/apache/spark/examples/streaming/DirectKafkaWordCount.scala\n",
            "spark-3.3.2-bin-hadoop3/examples/src/main/scala/org/apache/spark/examples/streaming/DirectKerberizedKafkaWordCount.scala\n",
            "spark-3.3.2-bin-hadoop3/examples/src/main/scala/org/apache/spark/examples/streaming/HdfsWordCount.scala\n",
            "spark-3.3.2-bin-hadoop3/examples/src/main/scala/org/apache/spark/examples/streaming/NetworkWordCount.scala\n",
            "spark-3.3.2-bin-hadoop3/examples/src/main/scala/org/apache/spark/examples/streaming/QueueStream.scala\n",
            "spark-3.3.2-bin-hadoop3/examples/src/main/scala/org/apache/spark/examples/streaming/RawNetworkGrep.scala\n",
            "spark-3.3.2-bin-hadoop3/examples/src/main/scala/org/apache/spark/examples/streaming/RecoverableNetworkWordCount.scala\n",
            "spark-3.3.2-bin-hadoop3/examples/src/main/scala/org/apache/spark/examples/streaming/SqlNetworkWordCount.scala\n",
            "spark-3.3.2-bin-hadoop3/examples/src/main/scala/org/apache/spark/examples/streaming/StatefulNetworkWordCount.scala\n",
            "spark-3.3.2-bin-hadoop3/examples/src/main/scala/org/apache/spark/examples/streaming/StreamingExamples.scala\n",
            "spark-3.3.2-bin-hadoop3/examples/src/main/scala/org/apache/spark/examples/streaming/clickstream/\n",
            "spark-3.3.2-bin-hadoop3/examples/src/main/scala/org/apache/spark/examples/streaming/clickstream/PageViewGenerator.scala\n",
            "spark-3.3.2-bin-hadoop3/examples/src/main/scala/org/apache/spark/examples/streaming/clickstream/PageViewStream.scala\n",
            "spark-3.3.2-bin-hadoop3/examples/src/main/scripts/\n",
            "spark-3.3.2-bin-hadoop3/examples/src/main/scripts/getGpusResources.sh\n",
            "spark-3.3.2-bin-hadoop3/jars/\n",
            "spark-3.3.2-bin-hadoop3/jars/HikariCP-2.5.1.jar\n",
            "spark-3.3.2-bin-hadoop3/jars/JLargeArrays-1.5.jar\n",
            "spark-3.3.2-bin-hadoop3/jars/JTransforms-3.1.jar\n",
            "spark-3.3.2-bin-hadoop3/jars/RoaringBitmap-0.9.25.jar\n",
            "spark-3.3.2-bin-hadoop3/jars/ST4-4.0.4.jar\n",
            "spark-3.3.2-bin-hadoop3/jars/activation-1.1.1.jar\n",
            "spark-3.3.2-bin-hadoop3/jars/aircompressor-0.21.jar\n",
            "spark-3.3.2-bin-hadoop3/jars/algebra_2.12-2.0.1.jar\n",
            "spark-3.3.2-bin-hadoop3/jars/annotations-17.0.0.jar\n",
            "spark-3.3.2-bin-hadoop3/jars/antlr-runtime-3.5.2.jar\n",
            "spark-3.3.2-bin-hadoop3/jars/antlr4-runtime-4.8.jar\n",
            "spark-3.3.2-bin-hadoop3/jars/aopalliance-repackaged-2.6.1.jar\n",
            "spark-3.3.2-bin-hadoop3/jars/arpack-2.2.1.jar\n",
            "spark-3.3.2-bin-hadoop3/jars/arpack_combined_all-0.1.jar\n",
            "spark-3.3.2-bin-hadoop3/jars/arrow-format-7.0.0.jar\n",
            "spark-3.3.2-bin-hadoop3/jars/arrow-memory-core-7.0.0.jar\n",
            "spark-3.3.2-bin-hadoop3/jars/arrow-memory-netty-7.0.0.jar\n",
            "spark-3.3.2-bin-hadoop3/jars/arrow-vector-7.0.0.jar\n",
            "spark-3.3.2-bin-hadoop3/jars/audience-annotations-0.5.0.jar\n",
            "spark-3.3.2-bin-hadoop3/jars/automaton-1.11-8.jar\n",
            "spark-3.3.2-bin-hadoop3/jars/avro-1.11.0.jar\n",
            "spark-3.3.2-bin-hadoop3/jars/avro-ipc-1.11.0.jar\n",
            "spark-3.3.2-bin-hadoop3/jars/avro-mapred-1.11.0.jar\n",
            "spark-3.3.2-bin-hadoop3/jars/blas-2.2.1.jar\n",
            "spark-3.3.2-bin-hadoop3/jars/bonecp-0.8.0.RELEASE.jar\n",
            "spark-3.3.2-bin-hadoop3/jars/breeze-macros_2.12-1.2.jar\n",
            "spark-3.3.2-bin-hadoop3/jars/breeze_2.12-1.2.jar\n",
            "spark-3.3.2-bin-hadoop3/jars/cats-kernel_2.12-2.1.1.jar\n",
            "spark-3.3.2-bin-hadoop3/jars/chill-java-0.10.0.jar\n",
            "spark-3.3.2-bin-hadoop3/jars/chill_2.12-0.10.0.jar\n",
            "spark-3.3.2-bin-hadoop3/jars/commons-cli-1.5.0.jar\n",
            "spark-3.3.2-bin-hadoop3/jars/commons-codec-1.15.jar\n",
            "spark-3.3.2-bin-hadoop3/jars/commons-collections-3.2.2.jar\n",
            "spark-3.3.2-bin-hadoop3/jars/commons-collections4-4.4.jar\n",
            "spark-3.3.2-bin-hadoop3/jars/commons-compiler-3.0.16.jar\n",
            "spark-3.3.2-bin-hadoop3/jars/commons-compress-1.21.jar\n",
            "spark-3.3.2-bin-hadoop3/jars/commons-crypto-1.1.0.jar\n",
            "spark-3.3.2-bin-hadoop3/jars/commons-dbcp-1.4.jar\n",
            "spark-3.3.2-bin-hadoop3/jars/commons-io-2.11.0.jar\n",
            "spark-3.3.2-bin-hadoop3/jars/commons-lang-2.6.jar\n",
            "spark-3.3.2-bin-hadoop3/jars/commons-lang3-3.12.0.jar\n",
            "spark-3.3.2-bin-hadoop3/jars/commons-logging-1.1.3.jar\n",
            "spark-3.3.2-bin-hadoop3/jars/commons-math3-3.6.1.jar\n",
            "spark-3.3.2-bin-hadoop3/jars/commons-pool-1.5.4.jar\n",
            "spark-3.3.2-bin-hadoop3/jars/commons-text-1.10.0.jar\n",
            "spark-3.3.2-bin-hadoop3/jars/compress-lzf-1.1.jar\n",
            "spark-3.3.2-bin-hadoop3/jars/core-1.1.2.jar\n",
            "spark-3.3.2-bin-hadoop3/jars/curator-client-2.13.0.jar\n",
            "spark-3.3.2-bin-hadoop3/jars/curator-framework-2.13.0.jar\n",
            "spark-3.3.2-bin-hadoop3/jars/curator-recipes-2.13.0.jar\n",
            "spark-3.3.2-bin-hadoop3/jars/datanucleus-api-jdo-4.2.4.jar\n",
            "spark-3.3.2-bin-hadoop3/jars/datanucleus-core-4.1.17.jar\n",
            "spark-3.3.2-bin-hadoop3/jars/datanucleus-rdbms-4.1.19.jar\n",
            "spark-3.3.2-bin-hadoop3/jars/derby-10.14.2.0.jar\n",
            "spark-3.3.2-bin-hadoop3/jars/dropwizard-metrics-hadoop-metrics2-reporter-0.1.2.jar\n",
            "spark-3.3.2-bin-hadoop3/jars/flatbuffers-java-1.12.0.jar\n",
            "spark-3.3.2-bin-hadoop3/jars/generex-1.0.2.jar\n",
            "spark-3.3.2-bin-hadoop3/jars/gson-2.2.4.jar\n",
            "spark-3.3.2-bin-hadoop3/jars/guava-14.0.1.jar\n",
            "spark-3.3.2-bin-hadoop3/jars/hadoop-client-api-3.3.2.jar\n",
            "spark-3.3.2-bin-hadoop3/jars/hadoop-client-runtime-3.3.2.jar\n",
            "spark-3.3.2-bin-hadoop3/jars/hadoop-shaded-guava-1.1.1.jar\n",
            "spark-3.3.2-bin-hadoop3/jars/hadoop-yarn-server-web-proxy-3.3.2.jar\n",
            "spark-3.3.2-bin-hadoop3/jars/hive-beeline-2.3.9.jar\n",
            "spark-3.3.2-bin-hadoop3/jars/hive-cli-2.3.9.jar\n",
            "spark-3.3.2-bin-hadoop3/jars/hive-common-2.3.9.jar\n",
            "spark-3.3.2-bin-hadoop3/jars/hive-exec-2.3.9-core.jar\n",
            "spark-3.3.2-bin-hadoop3/jars/hive-jdbc-2.3.9.jar\n",
            "spark-3.3.2-bin-hadoop3/jars/hive-llap-common-2.3.9.jar\n",
            "spark-3.3.2-bin-hadoop3/jars/hive-metastore-2.3.9.jar\n",
            "spark-3.3.2-bin-hadoop3/jars/hive-serde-2.3.9.jar\n",
            "spark-3.3.2-bin-hadoop3/jars/hive-service-rpc-3.1.2.jar\n",
            "spark-3.3.2-bin-hadoop3/jars/hive-shims-0.23-2.3.9.jar\n",
            "spark-3.3.2-bin-hadoop3/jars/hive-shims-2.3.9.jar\n",
            "spark-3.3.2-bin-hadoop3/jars/hive-shims-common-2.3.9.jar\n",
            "spark-3.3.2-bin-hadoop3/jars/hive-shims-scheduler-2.3.9.jar\n",
            "spark-3.3.2-bin-hadoop3/jars/hive-storage-api-2.7.2.jar\n",
            "spark-3.3.2-bin-hadoop3/jars/hive-vector-code-gen-2.3.9.jar\n",
            "spark-3.3.2-bin-hadoop3/jars/hk2-api-2.6.1.jar\n",
            "spark-3.3.2-bin-hadoop3/jars/hk2-locator-2.6.1.jar\n",
            "spark-3.3.2-bin-hadoop3/jars/hk2-utils-2.6.1.jar\n",
            "spark-3.3.2-bin-hadoop3/jars/httpclient-4.5.13.jar\n",
            "spark-3.3.2-bin-hadoop3/jars/httpcore-4.4.14.jar\n",
            "spark-3.3.2-bin-hadoop3/jars/istack-commons-runtime-3.0.8.jar\n",
            "spark-3.3.2-bin-hadoop3/jars/ivy-2.5.1.jar\n",
            "spark-3.3.2-bin-hadoop3/jars/jackson-annotations-2.13.4.jar\n",
            "spark-3.3.2-bin-hadoop3/jars/jackson-core-2.13.4.jar\n",
            "spark-3.3.2-bin-hadoop3/jars/jackson-core-asl-1.9.13.jar\n",
            "spark-3.3.2-bin-hadoop3/jars/jackson-databind-2.13.4.2.jar\n",
            "spark-3.3.2-bin-hadoop3/jars/jackson-dataformat-yaml-2.13.4.jar\n",
            "spark-3.3.2-bin-hadoop3/jars/jackson-datatype-jsr310-2.13.4.jar\n",
            "spark-3.3.2-bin-hadoop3/jars/jackson-mapper-asl-1.9.13.jar\n",
            "spark-3.3.2-bin-hadoop3/jars/jackson-module-scala_2.12-2.13.4.jar\n",
            "spark-3.3.2-bin-hadoop3/jars/jakarta.annotation-api-1.3.5.jar\n",
            "spark-3.3.2-bin-hadoop3/jars/jakarta.inject-2.6.1.jar\n",
            "spark-3.3.2-bin-hadoop3/jars/jakarta.servlet-api-4.0.3.jar\n",
            "spark-3.3.2-bin-hadoop3/jars/jakarta.validation-api-2.0.2.jar\n",
            "spark-3.3.2-bin-hadoop3/jars/jakarta.ws.rs-api-2.1.6.jar\n",
            "spark-3.3.2-bin-hadoop3/jars/jakarta.xml.bind-api-2.3.2.jar\n",
            "spark-3.3.2-bin-hadoop3/jars/janino-3.0.16.jar\n",
            "spark-3.3.2-bin-hadoop3/jars/javassist-3.25.0-GA.jar\n",
            "spark-3.3.2-bin-hadoop3/jars/javax.jdo-3.2.0-m3.jar\n",
            "spark-3.3.2-bin-hadoop3/jars/javolution-5.5.1.jar\n",
            "spark-3.3.2-bin-hadoop3/jars/jaxb-runtime-2.3.2.jar\n",
            "spark-3.3.2-bin-hadoop3/jars/jcl-over-slf4j-1.7.32.jar\n",
            "spark-3.3.2-bin-hadoop3/jars/jdo-api-3.0.1.jar\n",
            "spark-3.3.2-bin-hadoop3/jars/jersey-client-2.36.jar\n",
            "spark-3.3.2-bin-hadoop3/jars/jersey-common-2.36.jar\n",
            "spark-3.3.2-bin-hadoop3/jars/jersey-container-servlet-2.36.jar\n",
            "spark-3.3.2-bin-hadoop3/jars/jersey-container-servlet-core-2.36.jar\n",
            "spark-3.3.2-bin-hadoop3/jars/jersey-hk2-2.36.jar\n",
            "spark-3.3.2-bin-hadoop3/jars/jersey-server-2.36.jar\n",
            "spark-3.3.2-bin-hadoop3/jars/jline-2.14.6.jar\n",
            "spark-3.3.2-bin-hadoop3/jars/joda-time-2.10.13.jar\n",
            "spark-3.3.2-bin-hadoop3/jars/jodd-core-3.5.2.jar\n",
            "spark-3.3.2-bin-hadoop3/jars/jpam-1.1.jar\n",
            "spark-3.3.2-bin-hadoop3/jars/json-1.8.jar\n",
            "spark-3.3.2-bin-hadoop3/jars/json4s-ast_2.12-3.7.0-M11.jar\n",
            "spark-3.3.2-bin-hadoop3/jars/json4s-core_2.12-3.7.0-M11.jar\n",
            "spark-3.3.2-bin-hadoop3/jars/json4s-jackson_2.12-3.7.0-M11.jar\n",
            "spark-3.3.2-bin-hadoop3/jars/json4s-scalap_2.12-3.7.0-M11.jar\n",
            "spark-3.3.2-bin-hadoop3/jars/jsr305-3.0.0.jar\n",
            "spark-3.3.2-bin-hadoop3/jars/jta-1.1.jar\n",
            "spark-3.3.2-bin-hadoop3/jars/jul-to-slf4j-1.7.32.jar\n",
            "spark-3.3.2-bin-hadoop3/jars/kryo-shaded-4.0.2.jar\n",
            "spark-3.3.2-bin-hadoop3/jars/kubernetes-client-5.12.2.jar\n",
            "spark-3.3.2-bin-hadoop3/jars/kubernetes-model-admissionregistration-5.12.2.jar\n",
            "spark-3.3.2-bin-hadoop3/jars/kubernetes-model-apiextensions-5.12.2.jar\n",
            "spark-3.3.2-bin-hadoop3/jars/kubernetes-model-apps-5.12.2.jar\n",
            "spark-3.3.2-bin-hadoop3/jars/kubernetes-model-autoscaling-5.12.2.jar\n",
            "spark-3.3.2-bin-hadoop3/jars/kubernetes-model-batch-5.12.2.jar\n",
            "spark-3.3.2-bin-hadoop3/jars/kubernetes-model-certificates-5.12.2.jar\n",
            "spark-3.3.2-bin-hadoop3/jars/kubernetes-model-common-5.12.2.jar\n",
            "spark-3.3.2-bin-hadoop3/jars/kubernetes-model-coordination-5.12.2.jar\n",
            "spark-3.3.2-bin-hadoop3/jars/kubernetes-model-core-5.12.2.jar\n",
            "spark-3.3.2-bin-hadoop3/jars/kubernetes-model-discovery-5.12.2.jar\n",
            "spark-3.3.2-bin-hadoop3/jars/kubernetes-model-events-5.12.2.jar\n",
            "spark-3.3.2-bin-hadoop3/jars/kubernetes-model-extensions-5.12.2.jar\n",
            "spark-3.3.2-bin-hadoop3/jars/kubernetes-model-flowcontrol-5.12.2.jar\n",
            "spark-3.3.2-bin-hadoop3/jars/kubernetes-model-metrics-5.12.2.jar\n",
            "spark-3.3.2-bin-hadoop3/jars/kubernetes-model-networking-5.12.2.jar\n",
            "spark-3.3.2-bin-hadoop3/jars/kubernetes-model-node-5.12.2.jar\n",
            "spark-3.3.2-bin-hadoop3/jars/kubernetes-model-policy-5.12.2.jar\n",
            "spark-3.3.2-bin-hadoop3/jars/kubernetes-model-rbac-5.12.2.jar\n",
            "spark-3.3.2-bin-hadoop3/jars/kubernetes-model-scheduling-5.12.2.jar\n",
            "spark-3.3.2-bin-hadoop3/jars/kubernetes-model-storageclass-5.12.2.jar\n",
            "spark-3.3.2-bin-hadoop3/jars/lapack-2.2.1.jar\n",
            "spark-3.3.2-bin-hadoop3/jars/leveldbjni-all-1.8.jar\n",
            "spark-3.3.2-bin-hadoop3/jars/libfb303-0.9.3.jar\n",
            "spark-3.3.2-bin-hadoop3/jars/libthrift-0.12.0.jar\n",
            "spark-3.3.2-bin-hadoop3/jars/log4j-1.2-api-2.17.2.jar\n",
            "spark-3.3.2-bin-hadoop3/jars/log4j-api-2.17.2.jar\n",
            "spark-3.3.2-bin-hadoop3/jars/log4j-core-2.17.2.jar\n",
            "spark-3.3.2-bin-hadoop3/jars/log4j-slf4j-impl-2.17.2.jar\n",
            "spark-3.3.2-bin-hadoop3/jars/logging-interceptor-3.12.12.jar\n",
            "spark-3.3.2-bin-hadoop3/jars/lz4-java-1.8.0.jar\n",
            "spark-3.3.2-bin-hadoop3/jars/mesos-1.4.3-shaded-protobuf.jar\n",
            "spark-3.3.2-bin-hadoop3/jars/metrics-core-4.2.7.jar\n",
            "spark-3.3.2-bin-hadoop3/jars/metrics-graphite-4.2.7.jar\n",
            "spark-3.3.2-bin-hadoop3/jars/metrics-jmx-4.2.7.jar\n",
            "spark-3.3.2-bin-hadoop3/jars/metrics-json-4.2.7.jar\n",
            "spark-3.3.2-bin-hadoop3/jars/metrics-jvm-4.2.7.jar\n",
            "spark-3.3.2-bin-hadoop3/jars/minlog-1.3.0.jar\n",
            "spark-3.3.2-bin-hadoop3/jars/netty-all-4.1.74.Final.jar\n",
            "spark-3.3.2-bin-hadoop3/jars/netty-buffer-4.1.74.Final.jar\n",
            "spark-3.3.2-bin-hadoop3/jars/netty-codec-4.1.74.Final.jar\n",
            "spark-3.3.2-bin-hadoop3/jars/netty-common-4.1.74.Final.jar\n",
            "spark-3.3.2-bin-hadoop3/jars/netty-handler-4.1.74.Final.jar\n",
            "spark-3.3.2-bin-hadoop3/jars/netty-resolver-4.1.74.Final.jar\n",
            "spark-3.3.2-bin-hadoop3/jars/netty-tcnative-classes-2.0.48.Final.jar\n",
            "spark-3.3.2-bin-hadoop3/jars/netty-transport-4.1.74.Final.jar\n",
            "spark-3.3.2-bin-hadoop3/jars/netty-transport-classes-epoll-4.1.74.Final.jar\n",
            "spark-3.3.2-bin-hadoop3/jars/netty-transport-classes-kqueue-4.1.74.Final.jar\n",
            "spark-3.3.2-bin-hadoop3/jars/netty-transport-native-epoll-4.1.74.Final-linux-aarch_64.jar\n",
            "spark-3.3.2-bin-hadoop3/jars/netty-transport-native-epoll-4.1.74.Final-linux-x86_64.jar\n",
            "spark-3.3.2-bin-hadoop3/jars/netty-transport-native-kqueue-4.1.74.Final-osx-aarch_64.jar\n",
            "spark-3.3.2-bin-hadoop3/jars/netty-transport-native-kqueue-4.1.74.Final-osx-x86_64.jar\n",
            "spark-3.3.2-bin-hadoop3/jars/netty-transport-native-unix-common-4.1.74.Final.jar\n",
            "spark-3.3.2-bin-hadoop3/jars/objenesis-3.2.jar\n",
            "spark-3.3.2-bin-hadoop3/jars/okhttp-3.12.12.jar\n",
            "spark-3.3.2-bin-hadoop3/jars/okio-1.14.0.jar\n",
            "spark-3.3.2-bin-hadoop3/jars/opencsv-2.3.jar\n",
            "spark-3.3.2-bin-hadoop3/jars/orc-core-1.7.8.jar\n",
            "spark-3.3.2-bin-hadoop3/jars/orc-mapreduce-1.7.8.jar\n",
            "spark-3.3.2-bin-hadoop3/jars/orc-shims-1.7.8.jar\n",
            "spark-3.3.2-bin-hadoop3/jars/oro-2.0.8.jar\n",
            "spark-3.3.2-bin-hadoop3/jars/osgi-resource-locator-1.0.3.jar\n",
            "spark-3.3.2-bin-hadoop3/jars/paranamer-2.8.jar\n",
            "spark-3.3.2-bin-hadoop3/jars/parquet-column-1.12.2.jar\n",
            "spark-3.3.2-bin-hadoop3/jars/parquet-common-1.12.2.jar\n",
            "spark-3.3.2-bin-hadoop3/jars/parquet-encoding-1.12.2.jar\n",
            "spark-3.3.2-bin-hadoop3/jars/parquet-format-structures-1.12.2.jar\n",
            "spark-3.3.2-bin-hadoop3/jars/parquet-hadoop-1.12.2.jar\n",
            "spark-3.3.2-bin-hadoop3/jars/parquet-jackson-1.12.2.jar\n",
            "spark-3.3.2-bin-hadoop3/jars/pickle-1.2.jar\n",
            "spark-3.3.2-bin-hadoop3/jars/protobuf-java-2.5.0.jar\n",
            "spark-3.3.2-bin-hadoop3/jars/py4j-0.10.9.5.jar\n",
            "spark-3.3.2-bin-hadoop3/jars/rocksdbjni-6.20.3.jar\n",
            "spark-3.3.2-bin-hadoop3/jars/scala-collection-compat_2.12-2.1.1.jar\n",
            "spark-3.3.2-bin-hadoop3/jars/scala-compiler-2.12.15.jar\n",
            "spark-3.3.2-bin-hadoop3/jars/scala-library-2.12.15.jar\n",
            "spark-3.3.2-bin-hadoop3/jars/scala-parser-combinators_2.12-1.1.2.jar\n",
            "spark-3.3.2-bin-hadoop3/jars/scala-reflect-2.12.15.jar\n",
            "spark-3.3.2-bin-hadoop3/jars/scala-xml_2.12-1.2.0.jar\n",
            "spark-3.3.2-bin-hadoop3/jars/shapeless_2.12-2.3.7.jar\n",
            "spark-3.3.2-bin-hadoop3/jars/shims-0.9.25.jar\n",
            "spark-3.3.2-bin-hadoop3/jars/slf4j-api-1.7.32.jar\n",
            "spark-3.3.2-bin-hadoop3/jars/snakeyaml-1.31.jar\n",
            "spark-3.3.2-bin-hadoop3/jars/snappy-java-1.1.8.4.jar\n",
            "spark-3.3.2-bin-hadoop3/jars/spark-catalyst_2.12-3.3.2.jar\n",
            "spark-3.3.2-bin-hadoop3/jars/spark-core_2.12-3.3.2.jar\n",
            "spark-3.3.2-bin-hadoop3/jars/spark-graphx_2.12-3.3.2.jar\n",
            "spark-3.3.2-bin-hadoop3/jars/spark-hive-thriftserver_2.12-3.3.2.jar\n",
            "spark-3.3.2-bin-hadoop3/jars/spark-hive_2.12-3.3.2.jar\n",
            "spark-3.3.2-bin-hadoop3/jars/spark-kubernetes_2.12-3.3.2.jar\n",
            "spark-3.3.2-bin-hadoop3/jars/spark-kvstore_2.12-3.3.2.jar\n",
            "spark-3.3.2-bin-hadoop3/jars/spark-launcher_2.12-3.3.2.jar\n",
            "spark-3.3.2-bin-hadoop3/jars/spark-mesos_2.12-3.3.2.jar\n",
            "spark-3.3.2-bin-hadoop3/jars/spark-mllib-local_2.12-3.3.2.jar\n",
            "spark-3.3.2-bin-hadoop3/jars/spark-mllib_2.12-3.3.2.jar\n",
            "spark-3.3.2-bin-hadoop3/jars/spark-network-common_2.12-3.3.2.jar\n",
            "spark-3.3.2-bin-hadoop3/jars/spark-network-shuffle_2.12-3.3.2.jar\n",
            "spark-3.3.2-bin-hadoop3/jars/spark-repl_2.12-3.3.2.jar\n",
            "spark-3.3.2-bin-hadoop3/jars/spark-sketch_2.12-3.3.2.jar\n",
            "spark-3.3.2-bin-hadoop3/jars/spark-sql_2.12-3.3.2.jar\n",
            "spark-3.3.2-bin-hadoop3/jars/spark-streaming_2.12-3.3.2.jar\n",
            "spark-3.3.2-bin-hadoop3/jars/spark-tags_2.12-3.3.2-tests.jar\n",
            "spark-3.3.2-bin-hadoop3/jars/spark-tags_2.12-3.3.2.jar\n",
            "spark-3.3.2-bin-hadoop3/jars/spark-unsafe_2.12-3.3.2.jar\n",
            "spark-3.3.2-bin-hadoop3/jars/spark-yarn_2.12-3.3.2.jar\n",
            "spark-3.3.2-bin-hadoop3/jars/spire-macros_2.12-0.17.0.jar\n",
            "spark-3.3.2-bin-hadoop3/jars/spire-platform_2.12-0.17.0.jar\n",
            "spark-3.3.2-bin-hadoop3/jars/spire-util_2.12-0.17.0.jar\n",
            "spark-3.3.2-bin-hadoop3/jars/spire_2.12-0.17.0.jar\n",
            "spark-3.3.2-bin-hadoop3/jars/stax-api-1.0.1.jar\n",
            "spark-3.3.2-bin-hadoop3/jars/stream-2.9.6.jar\n",
            "spark-3.3.2-bin-hadoop3/jars/super-csv-2.2.0.jar\n",
            "spark-3.3.2-bin-hadoop3/jars/threeten-extra-1.5.0.jar\n",
            "spark-3.3.2-bin-hadoop3/jars/tink-1.6.1.jar\n",
            "spark-3.3.2-bin-hadoop3/jars/transaction-api-1.1.jar\n",
            "spark-3.3.2-bin-hadoop3/jars/univocity-parsers-2.9.1.jar\n",
            "spark-3.3.2-bin-hadoop3/jars/velocity-1.5.jar\n",
            "spark-3.3.2-bin-hadoop3/jars/xbean-asm9-shaded-4.20.jar\n",
            "spark-3.3.2-bin-hadoop3/jars/xz-1.9.jar\n",
            "spark-3.3.2-bin-hadoop3/jars/zjsonpatch-0.3.0.jar\n",
            "spark-3.3.2-bin-hadoop3/jars/zookeeper-3.6.2.jar\n",
            "spark-3.3.2-bin-hadoop3/jars/zookeeper-jute-3.6.2.jar\n",
            "spark-3.3.2-bin-hadoop3/jars/zstd-jni-1.5.2-1.jar\n",
            "spark-3.3.2-bin-hadoop3/kubernetes/\n",
            "spark-3.3.2-bin-hadoop3/kubernetes/dockerfiles/\n",
            "spark-3.3.2-bin-hadoop3/kubernetes/dockerfiles/spark/\n",
            "spark-3.3.2-bin-hadoop3/kubernetes/dockerfiles/spark/Dockerfile\n",
            "spark-3.3.2-bin-hadoop3/kubernetes/dockerfiles/spark/Dockerfile.java17\n",
            "spark-3.3.2-bin-hadoop3/kubernetes/dockerfiles/spark/bindings/\n",
            "spark-3.3.2-bin-hadoop3/kubernetes/dockerfiles/spark/bindings/R/\n",
            "spark-3.3.2-bin-hadoop3/kubernetes/dockerfiles/spark/bindings/R/Dockerfile\n",
            "spark-3.3.2-bin-hadoop3/kubernetes/dockerfiles/spark/bindings/python/\n",
            "spark-3.3.2-bin-hadoop3/kubernetes/dockerfiles/spark/bindings/python/Dockerfile\n",
            "spark-3.3.2-bin-hadoop3/kubernetes/dockerfiles/spark/decom.sh\n",
            "spark-3.3.2-bin-hadoop3/kubernetes/dockerfiles/spark/entrypoint.sh\n",
            "spark-3.3.2-bin-hadoop3/kubernetes/tests/\n",
            "spark-3.3.2-bin-hadoop3/kubernetes/tests/autoscale.py\n",
            "spark-3.3.2-bin-hadoop3/kubernetes/tests/decommissioning.py\n",
            "spark-3.3.2-bin-hadoop3/kubernetes/tests/decommissioning_cleanup.py\n",
            "spark-3.3.2-bin-hadoop3/kubernetes/tests/py_container_checks.py\n",
            "spark-3.3.2-bin-hadoop3/kubernetes/tests/pyfiles.py\n",
            "spark-3.3.2-bin-hadoop3/kubernetes/tests/python_executable_check.py\n",
            "spark-3.3.2-bin-hadoop3/kubernetes/tests/worker_memory_check.py\n",
            "spark-3.3.2-bin-hadoop3/licenses/\n",
            "spark-3.3.2-bin-hadoop3/licenses/LICENSE-AnchorJS.txt\n",
            "spark-3.3.2-bin-hadoop3/licenses/LICENSE-CC0.txt\n",
            "spark-3.3.2-bin-hadoop3/licenses/LICENSE-JLargeArrays.txt\n",
            "spark-3.3.2-bin-hadoop3/licenses/LICENSE-JTransforms.txt\n",
            "spark-3.3.2-bin-hadoop3/licenses/LICENSE-antlr.txt\n",
            "spark-3.3.2-bin-hadoop3/licenses/LICENSE-arpack.txt\n",
            "spark-3.3.2-bin-hadoop3/licenses/LICENSE-automaton.txt\n",
            "spark-3.3.2-bin-hadoop3/licenses/LICENSE-blas.txt\n",
            "spark-3.3.2-bin-hadoop3/licenses/LICENSE-bootstrap.txt\n",
            "spark-3.3.2-bin-hadoop3/licenses/LICENSE-cloudpickle.txt\n",
            "spark-3.3.2-bin-hadoop3/licenses/LICENSE-d3.min.js.txt\n",
            "spark-3.3.2-bin-hadoop3/licenses/LICENSE-dagre-d3.txt\n",
            "spark-3.3.2-bin-hadoop3/licenses/LICENSE-datatables.txt\n",
            "spark-3.3.2-bin-hadoop3/licenses/LICENSE-dnsjava.txt\n",
            "spark-3.3.2-bin-hadoop3/licenses/LICENSE-f2j.txt\n",
            "spark-3.3.2-bin-hadoop3/licenses/LICENSE-graphlib-dot.txt\n",
            "spark-3.3.2-bin-hadoop3/licenses/LICENSE-istack-commons-runtime.txt\n",
            "spark-3.3.2-bin-hadoop3/licenses/LICENSE-jakarta-annotation-api\n",
            "spark-3.3.2-bin-hadoop3/licenses/LICENSE-jakarta-ws-rs-api\n",
            "spark-3.3.2-bin-hadoop3/licenses/LICENSE-jakarta.activation-api.txt\n",
            "spark-3.3.2-bin-hadoop3/licenses/LICENSE-jakarta.xml.bind-api.txt\n",
            "spark-3.3.2-bin-hadoop3/licenses/LICENSE-janino.txt\n",
            "spark-3.3.2-bin-hadoop3/licenses/LICENSE-javassist.html\n",
            "spark-3.3.2-bin-hadoop3/licenses/LICENSE-javax-transaction-transaction-api.txt\n",
            "spark-3.3.2-bin-hadoop3/licenses/LICENSE-javolution.txt\n",
            "spark-3.3.2-bin-hadoop3/licenses/LICENSE-jaxb-runtime.txt\n",
            "spark-3.3.2-bin-hadoop3/licenses/LICENSE-jline.txt\n",
            "spark-3.3.2-bin-hadoop3/licenses/LICENSE-jodd.txt\n",
            "spark-3.3.2-bin-hadoop3/licenses/LICENSE-join.txt\n",
            "spark-3.3.2-bin-hadoop3/licenses/LICENSE-jquery.txt\n",
            "spark-3.3.2-bin-hadoop3/licenses/LICENSE-json-formatter.txt\n",
            "spark-3.3.2-bin-hadoop3/licenses/LICENSE-jsp-api.txt\n",
            "spark-3.3.2-bin-hadoop3/licenses/LICENSE-kryo.txt\n",
            "spark-3.3.2-bin-hadoop3/licenses/LICENSE-leveldbjni.txt\n",
            "spark-3.3.2-bin-hadoop3/licenses/LICENSE-machinist.txt\n",
            "spark-3.3.2-bin-hadoop3/licenses/LICENSE-matchMedia-polyfill.txt\n",
            "spark-3.3.2-bin-hadoop3/licenses/LICENSE-minlog.txt\n",
            "spark-3.3.2-bin-hadoop3/licenses/LICENSE-modernizr.txt\n",
            "spark-3.3.2-bin-hadoop3/licenses/LICENSE-mustache.txt\n",
            "spark-3.3.2-bin-hadoop3/licenses/LICENSE-netlib.txt\n",
            "spark-3.3.2-bin-hadoop3/licenses/LICENSE-paranamer.txt\n",
            "spark-3.3.2-bin-hadoop3/licenses/LICENSE-pmml-model.txt\n",
            "spark-3.3.2-bin-hadoop3/licenses/LICENSE-protobuf.txt\n",
            "spark-3.3.2-bin-hadoop3/licenses/LICENSE-py4j.txt\n",
            "spark-3.3.2-bin-hadoop3/licenses/LICENSE-pyrolite.txt\n",
            "spark-3.3.2-bin-hadoop3/licenses/LICENSE-re2j.txt\n",
            "spark-3.3.2-bin-hadoop3/licenses/LICENSE-reflectasm.txt\n",
            "spark-3.3.2-bin-hadoop3/licenses/LICENSE-respond.txt\n",
            "spark-3.3.2-bin-hadoop3/licenses/LICENSE-sbt-launch-lib.txt\n",
            "spark-3.3.2-bin-hadoop3/licenses/LICENSE-scala.txt\n",
            "spark-3.3.2-bin-hadoop3/licenses/LICENSE-scopt.txt\n",
            "spark-3.3.2-bin-hadoop3/licenses/LICENSE-slf4j.txt\n",
            "spark-3.3.2-bin-hadoop3/licenses/LICENSE-sorttable.js.txt\n",
            "spark-3.3.2-bin-hadoop3/licenses/LICENSE-spire.txt\n",
            "spark-3.3.2-bin-hadoop3/licenses/LICENSE-vis-timeline.txt\n",
            "spark-3.3.2-bin-hadoop3/licenses/LICENSE-xmlenc.txt\n",
            "spark-3.3.2-bin-hadoop3/licenses/LICENSE-zstd-jni.txt\n",
            "spark-3.3.2-bin-hadoop3/licenses/LICENSE-zstd.txt\n",
            "spark-3.3.2-bin-hadoop3/python/\n",
            "spark-3.3.2-bin-hadoop3/python/.coveragerc\n",
            "spark-3.3.2-bin-hadoop3/python/.gitignore\n",
            "spark-3.3.2-bin-hadoop3/python/MANIFEST.in\n",
            "spark-3.3.2-bin-hadoop3/python/README.md\n",
            "spark-3.3.2-bin-hadoop3/python/dist/\n",
            "spark-3.3.2-bin-hadoop3/python/docs/\n",
            "spark-3.3.2-bin-hadoop3/python/docs/Makefile\n",
            "spark-3.3.2-bin-hadoop3/python/docs/make.bat\n",
            "spark-3.3.2-bin-hadoop3/python/docs/make2.bat\n",
            "spark-3.3.2-bin-hadoop3/python/docs/source/\n",
            "spark-3.3.2-bin-hadoop3/python/docs/source/_static/\n",
            "spark-3.3.2-bin-hadoop3/python/docs/source/_static/copybutton.js\n",
            "spark-3.3.2-bin-hadoop3/python/docs/source/_static/css/\n",
            "spark-3.3.2-bin-hadoop3/python/docs/source/_static/css/pyspark.css\n",
            "spark-3.3.2-bin-hadoop3/python/docs/source/_templates/\n",
            "spark-3.3.2-bin-hadoop3/python/docs/source/_templates/autosummary/\n",
            "spark-3.3.2-bin-hadoop3/python/docs/source/_templates/autosummary/class.rst\n",
            "spark-3.3.2-bin-hadoop3/python/docs/source/_templates/autosummary/class_with_docs.rst\n",
            "spark-3.3.2-bin-hadoop3/python/docs/source/conf.py\n",
            "spark-3.3.2-bin-hadoop3/python/docs/source/development/\n",
            "spark-3.3.2-bin-hadoop3/python/docs/source/development/contributing.rst\n",
            "spark-3.3.2-bin-hadoop3/python/docs/source/development/debugging.rst\n",
            "spark-3.3.2-bin-hadoop3/python/docs/source/development/index.rst\n",
            "spark-3.3.2-bin-hadoop3/python/docs/source/development/setting_ide.rst\n",
            "spark-3.3.2-bin-hadoop3/python/docs/source/development/testing.rst\n",
            "spark-3.3.2-bin-hadoop3/python/docs/source/getting_started/\n",
            "spark-3.3.2-bin-hadoop3/python/docs/source/getting_started/index.rst\n",
            "spark-3.3.2-bin-hadoop3/python/docs/source/getting_started/install.rst\n",
            "spark-3.3.2-bin-hadoop3/python/docs/source/getting_started/quickstart_df.ipynb\n",
            "spark-3.3.2-bin-hadoop3/python/docs/source/getting_started/quickstart_ps.ipynb\n",
            "spark-3.3.2-bin-hadoop3/python/docs/source/index.rst\n",
            "spark-3.3.2-bin-hadoop3/python/docs/source/migration_guide/\n",
            "spark-3.3.2-bin-hadoop3/python/docs/source/migration_guide/index.rst\n",
            "spark-3.3.2-bin-hadoop3/python/docs/source/migration_guide/koalas_to_pyspark.rst\n",
            "spark-3.3.2-bin-hadoop3/python/docs/source/migration_guide/pyspark_1.0_1.2_to_1.3.rst\n",
            "spark-3.3.2-bin-hadoop3/python/docs/source/migration_guide/pyspark_1.4_to_1.5.rst\n",
            "spark-3.3.2-bin-hadoop3/python/docs/source/migration_guide/pyspark_2.2_to_2.3.rst\n",
            "spark-3.3.2-bin-hadoop3/python/docs/source/migration_guide/pyspark_2.3.0_to_2.3.1_above.rst\n",
            "spark-3.3.2-bin-hadoop3/python/docs/source/migration_guide/pyspark_2.3_to_2.4.rst\n",
            "spark-3.3.2-bin-hadoop3/python/docs/source/migration_guide/pyspark_2.4_to_3.0.rst\n",
            "spark-3.3.2-bin-hadoop3/python/docs/source/migration_guide/pyspark_3.1_to_3.2.rst\n",
            "spark-3.3.2-bin-hadoop3/python/docs/source/migration_guide/pyspark_3.2_to_3.3.rst\n",
            "spark-3.3.2-bin-hadoop3/python/docs/source/reference/\n",
            "spark-3.3.2-bin-hadoop3/python/docs/source/reference/index.rst\n",
            "spark-3.3.2-bin-hadoop3/python/docs/source/reference/pyspark.ml.rst\n",
            "spark-3.3.2-bin-hadoop3/python/docs/source/reference/pyspark.mllib.rst\n",
            "spark-3.3.2-bin-hadoop3/python/docs/source/reference/pyspark.pandas/\n",
            "spark-3.3.2-bin-hadoop3/python/docs/source/reference/pyspark.pandas/extensions.rst\n",
            "spark-3.3.2-bin-hadoop3/python/docs/source/reference/pyspark.pandas/frame.rst\n",
            "spark-3.3.2-bin-hadoop3/python/docs/source/reference/pyspark.pandas/general_functions.rst\n",
            "spark-3.3.2-bin-hadoop3/python/docs/source/reference/pyspark.pandas/groupby.rst\n",
            "spark-3.3.2-bin-hadoop3/python/docs/source/reference/pyspark.pandas/index.rst\n",
            "spark-3.3.2-bin-hadoop3/python/docs/source/reference/pyspark.pandas/indexing.rst\n",
            "spark-3.3.2-bin-hadoop3/python/docs/source/reference/pyspark.pandas/io.rst\n",
            "spark-3.3.2-bin-hadoop3/python/docs/source/reference/pyspark.pandas/ml.rst\n",
            "spark-3.3.2-bin-hadoop3/python/docs/source/reference/pyspark.pandas/series.rst\n",
            "spark-3.3.2-bin-hadoop3/python/docs/source/reference/pyspark.pandas/window.rst\n",
            "spark-3.3.2-bin-hadoop3/python/docs/source/reference/pyspark.resource.rst\n",
            "spark-3.3.2-bin-hadoop3/python/docs/source/reference/pyspark.rst\n",
            "spark-3.3.2-bin-hadoop3/python/docs/source/reference/pyspark.sql/\n",
            "spark-3.3.2-bin-hadoop3/python/docs/source/reference/pyspark.sql/avro.rst\n",
            "spark-3.3.2-bin-hadoop3/python/docs/source/reference/pyspark.sql/catalog.rst\n",
            "spark-3.3.2-bin-hadoop3/python/docs/source/reference/pyspark.sql/column.rst\n",
            "spark-3.3.2-bin-hadoop3/python/docs/source/reference/pyspark.sql/configuration.rst\n",
            "spark-3.3.2-bin-hadoop3/python/docs/source/reference/pyspark.sql/core_classes.rst\n",
            "spark-3.3.2-bin-hadoop3/python/docs/source/reference/pyspark.sql/data_types.rst\n",
            "spark-3.3.2-bin-hadoop3/python/docs/source/reference/pyspark.sql/dataframe.rst\n",
            "spark-3.3.2-bin-hadoop3/python/docs/source/reference/pyspark.sql/functions.rst\n",
            "spark-3.3.2-bin-hadoop3/python/docs/source/reference/pyspark.sql/grouping.rst\n",
            "spark-3.3.2-bin-hadoop3/python/docs/source/reference/pyspark.sql/index.rst\n",
            "spark-3.3.2-bin-hadoop3/python/docs/source/reference/pyspark.sql/io.rst\n",
            "spark-3.3.2-bin-hadoop3/python/docs/source/reference/pyspark.sql/observation.rst\n",
            "spark-3.3.2-bin-hadoop3/python/docs/source/reference/pyspark.sql/row.rst\n",
            "spark-3.3.2-bin-hadoop3/python/docs/source/reference/pyspark.sql/spark_session.rst\n",
            "spark-3.3.2-bin-hadoop3/python/docs/source/reference/pyspark.sql/window.rst\n",
            "spark-3.3.2-bin-hadoop3/python/docs/source/reference/pyspark.ss/\n",
            "spark-3.3.2-bin-hadoop3/python/docs/source/reference/pyspark.ss/core_classes.rst\n",
            "spark-3.3.2-bin-hadoop3/python/docs/source/reference/pyspark.ss/index.rst\n",
            "spark-3.3.2-bin-hadoop3/python/docs/source/reference/pyspark.ss/io.rst\n",
            "spark-3.3.2-bin-hadoop3/python/docs/source/reference/pyspark.ss/query_management.rst\n",
            "spark-3.3.2-bin-hadoop3/python/docs/source/reference/pyspark.streaming.rst\n",
            "spark-3.3.2-bin-hadoop3/python/docs/source/user_guide/\n",
            "spark-3.3.2-bin-hadoop3/python/docs/source/user_guide/arrow_pandas.rst\n",
            "spark-3.3.2-bin-hadoop3/python/docs/source/user_guide/index.rst\n",
            "spark-3.3.2-bin-hadoop3/python/docs/source/user_guide/pandas_on_spark/\n",
            "spark-3.3.2-bin-hadoop3/python/docs/source/user_guide/pandas_on_spark/best_practices.rst\n",
            "spark-3.3.2-bin-hadoop3/python/docs/source/user_guide/pandas_on_spark/faq.rst\n",
            "spark-3.3.2-bin-hadoop3/python/docs/source/user_guide/pandas_on_spark/from_to_dbms.rst\n",
            "spark-3.3.2-bin-hadoop3/python/docs/source/user_guide/pandas_on_spark/index.rst\n",
            "spark-3.3.2-bin-hadoop3/python/docs/source/user_guide/pandas_on_spark/options.rst\n",
            "spark-3.3.2-bin-hadoop3/python/docs/source/user_guide/pandas_on_spark/pandas_pyspark.rst\n",
            "spark-3.3.2-bin-hadoop3/python/docs/source/user_guide/pandas_on_spark/supported_pandas_api.rst\n",
            "spark-3.3.2-bin-hadoop3/python/docs/source/user_guide/pandas_on_spark/transform_apply.rst\n",
            "spark-3.3.2-bin-hadoop3/python/docs/source/user_guide/pandas_on_spark/typehints.rst\n",
            "spark-3.3.2-bin-hadoop3/python/docs/source/user_guide/pandas_on_spark/types.rst\n",
            "spark-3.3.2-bin-hadoop3/python/docs/source/user_guide/python_packaging.rst\n",
            "spark-3.3.2-bin-hadoop3/python/docs/source/user_guide/sql/\n",
            "spark-3.3.2-bin-hadoop3/python/docs/source/user_guide/sql/arrow_pandas.rst\n",
            "spark-3.3.2-bin-hadoop3/python/docs/source/user_guide/sql/index.rst\n",
            "spark-3.3.2-bin-hadoop3/python/lib/\n",
            "spark-3.3.2-bin-hadoop3/python/lib/PY4J_LICENSE.txt\n",
            "spark-3.3.2-bin-hadoop3/python/lib/py4j-0.10.9.5-src.zip\n",
            "spark-3.3.2-bin-hadoop3/python/lib/pyspark.zip\n",
            "spark-3.3.2-bin-hadoop3/python/mypy.ini\n",
            "spark-3.3.2-bin-hadoop3/python/pyspark/\n",
            "spark-3.3.2-bin-hadoop3/python/pyspark/__init__.py\n",
            "spark-3.3.2-bin-hadoop3/python/pyspark/__pycache__/\n",
            "spark-3.3.2-bin-hadoop3/python/pyspark/__pycache__/install.cpython-38.pyc\n",
            "spark-3.3.2-bin-hadoop3/python/pyspark/_globals.py\n",
            "spark-3.3.2-bin-hadoop3/python/pyspark/_typing.pyi\n",
            "spark-3.3.2-bin-hadoop3/python/pyspark/accumulators.py\n",
            "spark-3.3.2-bin-hadoop3/python/pyspark/broadcast.py\n",
            "spark-3.3.2-bin-hadoop3/python/pyspark/cloudpickle/\n",
            "spark-3.3.2-bin-hadoop3/python/pyspark/cloudpickle/__init__.py\n",
            "spark-3.3.2-bin-hadoop3/python/pyspark/cloudpickle/cloudpickle.py\n",
            "spark-3.3.2-bin-hadoop3/python/pyspark/cloudpickle/cloudpickle_fast.py\n",
            "spark-3.3.2-bin-hadoop3/python/pyspark/cloudpickle/compat.py\n",
            "spark-3.3.2-bin-hadoop3/python/pyspark/conf.py\n",
            "spark-3.3.2-bin-hadoop3/python/pyspark/context.py\n",
            "spark-3.3.2-bin-hadoop3/python/pyspark/daemon.py\n",
            "spark-3.3.2-bin-hadoop3/python/pyspark/files.py\n",
            "spark-3.3.2-bin-hadoop3/python/pyspark/find_spark_home.py\n",
            "spark-3.3.2-bin-hadoop3/python/pyspark/install.py\n",
            "spark-3.3.2-bin-hadoop3/python/pyspark/instrumentation_utils.py\n",
            "spark-3.3.2-bin-hadoop3/python/pyspark/java_gateway.py\n",
            "spark-3.3.2-bin-hadoop3/python/pyspark/join.py\n",
            "spark-3.3.2-bin-hadoop3/python/pyspark/ml/\n",
            "spark-3.3.2-bin-hadoop3/python/pyspark/ml/__init__.py\n",
            "spark-3.3.2-bin-hadoop3/python/pyspark/ml/_typing.pyi\n",
            "spark-3.3.2-bin-hadoop3/python/pyspark/ml/base.py\n",
            "spark-3.3.2-bin-hadoop3/python/pyspark/ml/classification.py\n",
            "spark-3.3.2-bin-hadoop3/python/pyspark/ml/clustering.py\n",
            "spark-3.3.2-bin-hadoop3/python/pyspark/ml/common.py\n",
            "spark-3.3.2-bin-hadoop3/python/pyspark/ml/evaluation.py\n",
            "spark-3.3.2-bin-hadoop3/python/pyspark/ml/feature.py\n",
            "spark-3.3.2-bin-hadoop3/python/pyspark/ml/fpm.py\n",
            "spark-3.3.2-bin-hadoop3/python/pyspark/ml/functions.py\n",
            "spark-3.3.2-bin-hadoop3/python/pyspark/ml/image.py\n",
            "spark-3.3.2-bin-hadoop3/python/pyspark/ml/linalg/\n",
            "spark-3.3.2-bin-hadoop3/python/pyspark/ml/linalg/__init__.py\n",
            "spark-3.3.2-bin-hadoop3/python/pyspark/ml/param/\n",
            "spark-3.3.2-bin-hadoop3/python/pyspark/ml/param/__init__.py\n",
            "spark-3.3.2-bin-hadoop3/python/pyspark/ml/param/_shared_params_code_gen.py\n",
            "spark-3.3.2-bin-hadoop3/python/pyspark/ml/param/shared.py\n",
            "spark-3.3.2-bin-hadoop3/python/pyspark/ml/pipeline.py\n",
            "spark-3.3.2-bin-hadoop3/python/pyspark/ml/recommendation.py\n",
            "spark-3.3.2-bin-hadoop3/python/pyspark/ml/regression.py\n",
            "spark-3.3.2-bin-hadoop3/python/pyspark/ml/stat.py\n",
            "spark-3.3.2-bin-hadoop3/python/pyspark/ml/tests/\n",
            "spark-3.3.2-bin-hadoop3/python/pyspark/ml/tests/__init__.py\n",
            "spark-3.3.2-bin-hadoop3/python/pyspark/ml/tests/test_algorithms.py\n",
            "spark-3.3.2-bin-hadoop3/python/pyspark/ml/tests/test_base.py\n",
            "spark-3.3.2-bin-hadoop3/python/pyspark/ml/tests/test_evaluation.py\n",
            "spark-3.3.2-bin-hadoop3/python/pyspark/ml/tests/test_feature.py\n",
            "spark-3.3.2-bin-hadoop3/python/pyspark/ml/tests/test_image.py\n",
            "spark-3.3.2-bin-hadoop3/python/pyspark/ml/tests/test_linalg.py\n",
            "spark-3.3.2-bin-hadoop3/python/pyspark/ml/tests/test_param.py\n",
            "spark-3.3.2-bin-hadoop3/python/pyspark/ml/tests/test_persistence.py\n",
            "spark-3.3.2-bin-hadoop3/python/pyspark/ml/tests/test_pipeline.py\n",
            "spark-3.3.2-bin-hadoop3/python/pyspark/ml/tests/test_stat.py\n",
            "spark-3.3.2-bin-hadoop3/python/pyspark/ml/tests/test_training_summary.py\n",
            "spark-3.3.2-bin-hadoop3/python/pyspark/ml/tests/test_tuning.py\n",
            "spark-3.3.2-bin-hadoop3/python/pyspark/ml/tests/test_util.py\n",
            "spark-3.3.2-bin-hadoop3/python/pyspark/ml/tests/test_wrapper.py\n",
            "spark-3.3.2-bin-hadoop3/python/pyspark/ml/tests/typing/\n",
            "spark-3.3.2-bin-hadoop3/python/pyspark/ml/tests/typing/test_classification.yml\n",
            "spark-3.3.2-bin-hadoop3/python/pyspark/ml/tests/typing/test_clustering.yaml\n",
            "spark-3.3.2-bin-hadoop3/python/pyspark/ml/tests/typing/test_evaluation.yml\n",
            "spark-3.3.2-bin-hadoop3/python/pyspark/ml/tests/typing/test_feature.yml\n",
            "spark-3.3.2-bin-hadoop3/python/pyspark/ml/tests/typing/test_param.yml\n",
            "spark-3.3.2-bin-hadoop3/python/pyspark/ml/tests/typing/test_readable.yml\n",
            "spark-3.3.2-bin-hadoop3/python/pyspark/ml/tests/typing/test_regression.yml\n",
            "spark-3.3.2-bin-hadoop3/python/pyspark/ml/tree.py\n",
            "spark-3.3.2-bin-hadoop3/python/pyspark/ml/tuning.py\n",
            "spark-3.3.2-bin-hadoop3/python/pyspark/ml/util.py\n",
            "spark-3.3.2-bin-hadoop3/python/pyspark/ml/wrapper.py\n",
            "spark-3.3.2-bin-hadoop3/python/pyspark/mllib/\n",
            "spark-3.3.2-bin-hadoop3/python/pyspark/mllib/__init__.py\n",
            "spark-3.3.2-bin-hadoop3/python/pyspark/mllib/_typing.pyi\n",
            "spark-3.3.2-bin-hadoop3/python/pyspark/mllib/classification.py\n",
            "spark-3.3.2-bin-hadoop3/python/pyspark/mllib/clustering.py\n",
            "spark-3.3.2-bin-hadoop3/python/pyspark/mllib/common.py\n",
            "spark-3.3.2-bin-hadoop3/python/pyspark/mllib/evaluation.py\n",
            "spark-3.3.2-bin-hadoop3/python/pyspark/mllib/feature.py\n",
            "spark-3.3.2-bin-hadoop3/python/pyspark/mllib/fpm.py\n",
            "spark-3.3.2-bin-hadoop3/python/pyspark/mllib/linalg/\n",
            "spark-3.3.2-bin-hadoop3/python/pyspark/mllib/linalg/__init__.py\n",
            "spark-3.3.2-bin-hadoop3/python/pyspark/mllib/linalg/distributed.py\n",
            "spark-3.3.2-bin-hadoop3/python/pyspark/mllib/random.py\n",
            "spark-3.3.2-bin-hadoop3/python/pyspark/mllib/random.pyi\n",
            "spark-3.3.2-bin-hadoop3/python/pyspark/mllib/recommendation.py\n",
            "spark-3.3.2-bin-hadoop3/python/pyspark/mllib/recommendation.pyi\n",
            "spark-3.3.2-bin-hadoop3/python/pyspark/mllib/regression.py\n",
            "spark-3.3.2-bin-hadoop3/python/pyspark/mllib/stat/\n",
            "spark-3.3.2-bin-hadoop3/python/pyspark/mllib/stat/KernelDensity.py\n",
            "spark-3.3.2-bin-hadoop3/python/pyspark/mllib/stat/__init__.py\n",
            "spark-3.3.2-bin-hadoop3/python/pyspark/mllib/stat/_statistics.py\n",
            "spark-3.3.2-bin-hadoop3/python/pyspark/mllib/stat/distribution.py\n",
            "spark-3.3.2-bin-hadoop3/python/pyspark/mllib/stat/test.py\n",
            "spark-3.3.2-bin-hadoop3/python/pyspark/mllib/tests/\n",
            "spark-3.3.2-bin-hadoop3/python/pyspark/mllib/tests/__init__.py\n",
            "spark-3.3.2-bin-hadoop3/python/pyspark/mllib/tests/test_algorithms.py\n",
            "spark-3.3.2-bin-hadoop3/python/pyspark/mllib/tests/test_feature.py\n",
            "spark-3.3.2-bin-hadoop3/python/pyspark/mllib/tests/test_linalg.py\n",
            "spark-3.3.2-bin-hadoop3/python/pyspark/mllib/tests/test_stat.py\n",
            "spark-3.3.2-bin-hadoop3/python/pyspark/mllib/tests/test_streaming_algorithms.py\n",
            "spark-3.3.2-bin-hadoop3/python/pyspark/mllib/tests/test_util.py\n",
            "spark-3.3.2-bin-hadoop3/python/pyspark/mllib/tree.py\n",
            "spark-3.3.2-bin-hadoop3/python/pyspark/mllib/util.py\n",
            "spark-3.3.2-bin-hadoop3/python/pyspark/pandas/\n",
            "spark-3.3.2-bin-hadoop3/python/pyspark/pandas/__init__.py\n",
            "spark-3.3.2-bin-hadoop3/python/pyspark/pandas/_typing.py\n",
            "spark-3.3.2-bin-hadoop3/python/pyspark/pandas/accessors.py\n",
            "spark-3.3.2-bin-hadoop3/python/pyspark/pandas/base.py\n",
            "spark-3.3.2-bin-hadoop3/python/pyspark/pandas/categorical.py\n",
            "spark-3.3.2-bin-hadoop3/python/pyspark/pandas/config.py\n",
            "spark-3.3.2-bin-hadoop3/python/pyspark/pandas/data_type_ops/\n",
            "spark-3.3.2-bin-hadoop3/python/pyspark/pandas/data_type_ops/__init__.py\n",
            "spark-3.3.2-bin-hadoop3/python/pyspark/pandas/data_type_ops/base.py\n",
            "spark-3.3.2-bin-hadoop3/python/pyspark/pandas/data_type_ops/binary_ops.py\n",
            "spark-3.3.2-bin-hadoop3/python/pyspark/pandas/data_type_ops/boolean_ops.py\n",
            "spark-3.3.2-bin-hadoop3/python/pyspark/pandas/data_type_ops/categorical_ops.py\n",
            "spark-3.3.2-bin-hadoop3/python/pyspark/pandas/data_type_ops/complex_ops.py\n",
            "spark-3.3.2-bin-hadoop3/python/pyspark/pandas/data_type_ops/date_ops.py\n",
            "spark-3.3.2-bin-hadoop3/python/pyspark/pandas/data_type_ops/datetime_ops.py\n",
            "spark-3.3.2-bin-hadoop3/python/pyspark/pandas/data_type_ops/null_ops.py\n",
            "spark-3.3.2-bin-hadoop3/python/pyspark/pandas/data_type_ops/num_ops.py\n",
            "spark-3.3.2-bin-hadoop3/python/pyspark/pandas/data_type_ops/string_ops.py\n",
            "spark-3.3.2-bin-hadoop3/python/pyspark/pandas/data_type_ops/timedelta_ops.py\n",
            "spark-3.3.2-bin-hadoop3/python/pyspark/pandas/data_type_ops/udt_ops.py\n",
            "spark-3.3.2-bin-hadoop3/python/pyspark/pandas/datetimes.py\n",
            "spark-3.3.2-bin-hadoop3/python/pyspark/pandas/exceptions.py\n",
            "spark-3.3.2-bin-hadoop3/python/pyspark/pandas/extensions.py\n",
            "spark-3.3.2-bin-hadoop3/python/pyspark/pandas/frame.py\n",
            "spark-3.3.2-bin-hadoop3/python/pyspark/pandas/generic.py\n",
            "spark-3.3.2-bin-hadoop3/python/pyspark/pandas/groupby.py\n",
            "spark-3.3.2-bin-hadoop3/python/pyspark/pandas/indexes/\n",
            "spark-3.3.2-bin-hadoop3/python/pyspark/pandas/indexes/__init__.py\n",
            "spark-3.3.2-bin-hadoop3/python/pyspark/pandas/indexes/base.py\n",
            "spark-3.3.2-bin-hadoop3/python/pyspark/pandas/indexes/category.py\n",
            "spark-3.3.2-bin-hadoop3/python/pyspark/pandas/indexes/datetimes.py\n",
            "spark-3.3.2-bin-hadoop3/python/pyspark/pandas/indexes/multi.py\n",
            "spark-3.3.2-bin-hadoop3/python/pyspark/pandas/indexes/numeric.py\n",
            "spark-3.3.2-bin-hadoop3/python/pyspark/pandas/indexes/timedelta.py\n",
            "spark-3.3.2-bin-hadoop3/python/pyspark/pandas/indexing.py\n",
            "spark-3.3.2-bin-hadoop3/python/pyspark/pandas/internal.py\n",
            "spark-3.3.2-bin-hadoop3/python/pyspark/pandas/missing/\n",
            "spark-3.3.2-bin-hadoop3/python/pyspark/pandas/missing/__init__.py\n",
            "spark-3.3.2-bin-hadoop3/python/pyspark/pandas/missing/common.py\n",
            "spark-3.3.2-bin-hadoop3/python/pyspark/pandas/missing/frame.py\n",
            "spark-3.3.2-bin-hadoop3/python/pyspark/pandas/missing/general_functions.py\n",
            "spark-3.3.2-bin-hadoop3/python/pyspark/pandas/missing/groupby.py\n",
            "spark-3.3.2-bin-hadoop3/python/pyspark/pandas/missing/indexes.py\n",
            "spark-3.3.2-bin-hadoop3/python/pyspark/pandas/missing/series.py\n",
            "spark-3.3.2-bin-hadoop3/python/pyspark/pandas/missing/window.py\n",
            "spark-3.3.2-bin-hadoop3/python/pyspark/pandas/ml.py\n",
            "spark-3.3.2-bin-hadoop3/python/pyspark/pandas/mlflow.py\n",
            "spark-3.3.2-bin-hadoop3/python/pyspark/pandas/namespace.py\n",
            "spark-3.3.2-bin-hadoop3/python/pyspark/pandas/numpy_compat.py\n",
            "spark-3.3.2-bin-hadoop3/python/pyspark/pandas/plot/\n",
            "spark-3.3.2-bin-hadoop3/python/pyspark/pandas/plot/__init__.py\n",
            "spark-3.3.2-bin-hadoop3/python/pyspark/pandas/plot/core.py\n",
            "spark-3.3.2-bin-hadoop3/python/pyspark/pandas/plot/matplotlib.py\n",
            "spark-3.3.2-bin-hadoop3/python/pyspark/pandas/plot/plotly.py\n",
            "spark-3.3.2-bin-hadoop3/python/pyspark/pandas/series.py\n",
            "spark-3.3.2-bin-hadoop3/python/pyspark/pandas/spark/\n",
            "spark-3.3.2-bin-hadoop3/python/pyspark/pandas/spark/__init__.py\n",
            "spark-3.3.2-bin-hadoop3/python/pyspark/pandas/spark/accessors.py\n",
            "spark-3.3.2-bin-hadoop3/python/pyspark/pandas/spark/functions.py\n",
            "spark-3.3.2-bin-hadoop3/python/pyspark/pandas/spark/utils.py\n",
            "spark-3.3.2-bin-hadoop3/python/pyspark/pandas/sql_formatter.py\n",
            "spark-3.3.2-bin-hadoop3/python/pyspark/pandas/sql_processor.py\n",
            "spark-3.3.2-bin-hadoop3/python/pyspark/pandas/strings.py\n",
            "spark-3.3.2-bin-hadoop3/python/pyspark/pandas/tests/\n",
            "spark-3.3.2-bin-hadoop3/python/pyspark/pandas/tests/__init__.py\n",
            "spark-3.3.2-bin-hadoop3/python/pyspark/pandas/tests/data_type_ops/\n",
            "spark-3.3.2-bin-hadoop3/python/pyspark/pandas/tests/data_type_ops/__init__.py\n",
            "spark-3.3.2-bin-hadoop3/python/pyspark/pandas/tests/data_type_ops/test_base.py\n",
            "spark-3.3.2-bin-hadoop3/python/pyspark/pandas/tests/data_type_ops/test_binary_ops.py\n",
            "spark-3.3.2-bin-hadoop3/python/pyspark/pandas/tests/data_type_ops/test_boolean_ops.py\n",
            "spark-3.3.2-bin-hadoop3/python/pyspark/pandas/tests/data_type_ops/test_categorical_ops.py\n",
            "spark-3.3.2-bin-hadoop3/python/pyspark/pandas/tests/data_type_ops/test_complex_ops.py\n",
            "spark-3.3.2-bin-hadoop3/python/pyspark/pandas/tests/data_type_ops/test_date_ops.py\n",
            "spark-3.3.2-bin-hadoop3/python/pyspark/pandas/tests/data_type_ops/test_datetime_ops.py\n",
            "spark-3.3.2-bin-hadoop3/python/pyspark/pandas/tests/data_type_ops/test_null_ops.py\n",
            "spark-3.3.2-bin-hadoop3/python/pyspark/pandas/tests/data_type_ops/test_num_ops.py\n",
            "spark-3.3.2-bin-hadoop3/python/pyspark/pandas/tests/data_type_ops/test_string_ops.py\n",
            "spark-3.3.2-bin-hadoop3/python/pyspark/pandas/tests/data_type_ops/test_timedelta_ops.py\n",
            "spark-3.3.2-bin-hadoop3/python/pyspark/pandas/tests/data_type_ops/test_udt_ops.py\n",
            "spark-3.3.2-bin-hadoop3/python/pyspark/pandas/tests/data_type_ops/testing_utils.py\n",
            "spark-3.3.2-bin-hadoop3/python/pyspark/pandas/tests/indexes/\n",
            "spark-3.3.2-bin-hadoop3/python/pyspark/pandas/tests/indexes/__init__.py\n",
            "spark-3.3.2-bin-hadoop3/python/pyspark/pandas/tests/indexes/test_base.py\n",
            "spark-3.3.2-bin-hadoop3/python/pyspark/pandas/tests/indexes/test_category.py\n",
            "spark-3.3.2-bin-hadoop3/python/pyspark/pandas/tests/indexes/test_datetime.py\n",
            "spark-3.3.2-bin-hadoop3/python/pyspark/pandas/tests/indexes/test_timedelta.py\n",
            "spark-3.3.2-bin-hadoop3/python/pyspark/pandas/tests/plot/\n",
            "spark-3.3.2-bin-hadoop3/python/pyspark/pandas/tests/plot/__init__.py\n",
            "spark-3.3.2-bin-hadoop3/python/pyspark/pandas/tests/plot/test_frame_plot.py\n",
            "spark-3.3.2-bin-hadoop3/python/pyspark/pandas/tests/plot/test_frame_plot_matplotlib.py\n",
            "spark-3.3.2-bin-hadoop3/python/pyspark/pandas/tests/plot/test_frame_plot_plotly.py\n",
            "spark-3.3.2-bin-hadoop3/python/pyspark/pandas/tests/plot/test_series_plot.py\n",
            "spark-3.3.2-bin-hadoop3/python/pyspark/pandas/tests/plot/test_series_plot_matplotlib.py\n",
            "spark-3.3.2-bin-hadoop3/python/pyspark/pandas/tests/plot/test_series_plot_plotly.py\n",
            "spark-3.3.2-bin-hadoop3/python/pyspark/pandas/tests/test_categorical.py\n",
            "spark-3.3.2-bin-hadoop3/python/pyspark/pandas/tests/test_config.py\n",
            "spark-3.3.2-bin-hadoop3/python/pyspark/pandas/tests/test_csv.py\n",
            "spark-3.3.2-bin-hadoop3/python/pyspark/pandas/tests/test_dataframe.py\n",
            "spark-3.3.2-bin-hadoop3/python/pyspark/pandas/tests/test_dataframe_conversion.py\n",
            "spark-3.3.2-bin-hadoop3/python/pyspark/pandas/tests/test_dataframe_spark_io.py\n",
            "spark-3.3.2-bin-hadoop3/python/pyspark/pandas/tests/test_default_index.py\n",
            "spark-3.3.2-bin-hadoop3/python/pyspark/pandas/tests/test_expanding.py\n",
            "spark-3.3.2-bin-hadoop3/python/pyspark/pandas/tests/test_extension.py\n",
            "spark-3.3.2-bin-hadoop3/python/pyspark/pandas/tests/test_frame_spark.py\n",
            "spark-3.3.2-bin-hadoop3/python/pyspark/pandas/tests/test_groupby.py\n",
            "spark-3.3.2-bin-hadoop3/python/pyspark/pandas/tests/test_indexing.py\n",
            "spark-3.3.2-bin-hadoop3/python/pyspark/pandas/tests/test_indexops_spark.py\n",
            "spark-3.3.2-bin-hadoop3/python/pyspark/pandas/tests/test_internal.py\n",
            "spark-3.3.2-bin-hadoop3/python/pyspark/pandas/tests/test_namespace.py\n",
            "spark-3.3.2-bin-hadoop3/python/pyspark/pandas/tests/test_numpy_compat.py\n",
            "spark-3.3.2-bin-hadoop3/python/pyspark/pandas/tests/test_ops_on_diff_frames.py\n",
            "spark-3.3.2-bin-hadoop3/python/pyspark/pandas/tests/test_ops_on_diff_frames_groupby.py\n",
            "spark-3.3.2-bin-hadoop3/python/pyspark/pandas/tests/test_ops_on_diff_frames_groupby_expanding.py\n",
            "spark-3.3.2-bin-hadoop3/python/pyspark/pandas/tests/test_ops_on_diff_frames_groupby_rolling.py\n",
            "spark-3.3.2-bin-hadoop3/python/pyspark/pandas/tests/test_repr.py\n",
            "spark-3.3.2-bin-hadoop3/python/pyspark/pandas/tests/test_reshape.py\n",
            "spark-3.3.2-bin-hadoop3/python/pyspark/pandas/tests/test_rolling.py\n",
            "spark-3.3.2-bin-hadoop3/python/pyspark/pandas/tests/test_series.py\n",
            "spark-3.3.2-bin-hadoop3/python/pyspark/pandas/tests/test_series_conversion.py\n",
            "spark-3.3.2-bin-hadoop3/python/pyspark/pandas/tests/test_series_datetime.py\n",
            "spark-3.3.2-bin-hadoop3/python/pyspark/pandas/tests/test_series_string.py\n",
            "spark-3.3.2-bin-hadoop3/python/pyspark/pandas/tests/test_spark_functions.py\n",
            "spark-3.3.2-bin-hadoop3/python/pyspark/pandas/tests/test_sql.py\n",
            "spark-3.3.2-bin-hadoop3/python/pyspark/pandas/tests/test_stats.py\n",
            "spark-3.3.2-bin-hadoop3/python/pyspark/pandas/tests/test_typedef.py\n",
            "spark-3.3.2-bin-hadoop3/python/pyspark/pandas/tests/test_utils.py\n",
            "spark-3.3.2-bin-hadoop3/python/pyspark/pandas/tests/test_window.py\n",
            "spark-3.3.2-bin-hadoop3/python/pyspark/pandas/typedef/\n",
            "spark-3.3.2-bin-hadoop3/python/pyspark/pandas/typedef/__init__.py\n",
            "spark-3.3.2-bin-hadoop3/python/pyspark/pandas/typedef/typehints.py\n",
            "spark-3.3.2-bin-hadoop3/python/pyspark/pandas/usage_logging/\n",
            "spark-3.3.2-bin-hadoop3/python/pyspark/pandas/usage_logging/__init__.py\n",
            "spark-3.3.2-bin-hadoop3/python/pyspark/pandas/usage_logging/usage_logger.py\n",
            "spark-3.3.2-bin-hadoop3/python/pyspark/pandas/utils.py\n",
            "spark-3.3.2-bin-hadoop3/python/pyspark/pandas/window.py\n",
            "spark-3.3.2-bin-hadoop3/python/pyspark/profiler.py\n",
            "spark-3.3.2-bin-hadoop3/python/pyspark/py.typed\n",
            "spark-3.3.2-bin-hadoop3/python/pyspark/python/\n",
            "spark-3.3.2-bin-hadoop3/python/pyspark/python/pyspark/\n",
            "spark-3.3.2-bin-hadoop3/python/pyspark/python/pyspark/shell.py\n",
            "spark-3.3.2-bin-hadoop3/python/pyspark/rdd.py\n",
            "spark-3.3.2-bin-hadoop3/python/pyspark/rddsampler.py\n",
            "spark-3.3.2-bin-hadoop3/python/pyspark/resource/\n",
            "spark-3.3.2-bin-hadoop3/python/pyspark/resource/__init__.py\n",
            "spark-3.3.2-bin-hadoop3/python/pyspark/resource/information.py\n",
            "spark-3.3.2-bin-hadoop3/python/pyspark/resource/profile.py\n",
            "spark-3.3.2-bin-hadoop3/python/pyspark/resource/requests.py\n",
            "spark-3.3.2-bin-hadoop3/python/pyspark/resource/tests/\n",
            "spark-3.3.2-bin-hadoop3/python/pyspark/resource/tests/__init__.py\n",
            "spark-3.3.2-bin-hadoop3/python/pyspark/resource/tests/test_resources.py\n",
            "spark-3.3.2-bin-hadoop3/python/pyspark/resultiterable.py\n",
            "spark-3.3.2-bin-hadoop3/python/pyspark/serializers.py\n",
            "spark-3.3.2-bin-hadoop3/python/pyspark/shell.py\n",
            "spark-3.3.2-bin-hadoop3/python/pyspark/shuffle.py\n",
            "spark-3.3.2-bin-hadoop3/python/pyspark/sql/\n",
            "spark-3.3.2-bin-hadoop3/python/pyspark/sql/__init__.py\n",
            "spark-3.3.2-bin-hadoop3/python/pyspark/sql/_typing.pyi\n",
            "spark-3.3.2-bin-hadoop3/python/pyspark/sql/avro/\n",
            "spark-3.3.2-bin-hadoop3/python/pyspark/sql/avro/__init__.py\n",
            "spark-3.3.2-bin-hadoop3/python/pyspark/sql/avro/functions.py\n",
            "spark-3.3.2-bin-hadoop3/python/pyspark/sql/catalog.py\n",
            "spark-3.3.2-bin-hadoop3/python/pyspark/sql/column.py\n",
            "spark-3.3.2-bin-hadoop3/python/pyspark/sql/conf.py\n",
            "spark-3.3.2-bin-hadoop3/python/pyspark/sql/context.py\n",
            "spark-3.3.2-bin-hadoop3/python/pyspark/sql/dataframe.py\n",
            "spark-3.3.2-bin-hadoop3/python/pyspark/sql/functions.py\n",
            "spark-3.3.2-bin-hadoop3/python/pyspark/sql/group.py\n",
            "spark-3.3.2-bin-hadoop3/python/pyspark/sql/observation.py\n",
            "spark-3.3.2-bin-hadoop3/python/pyspark/sql/pandas/\n",
            "spark-3.3.2-bin-hadoop3/python/pyspark/sql/pandas/__init__.py\n",
            "spark-3.3.2-bin-hadoop3/python/pyspark/sql/pandas/_typing/\n",
            "spark-3.3.2-bin-hadoop3/python/pyspark/sql/pandas/_typing/__init__.pyi\n",
            "spark-3.3.2-bin-hadoop3/python/pyspark/sql/pandas/_typing/protocols/\n",
            "spark-3.3.2-bin-hadoop3/python/pyspark/sql/pandas/_typing/protocols/__init__.pyi\n",
            "spark-3.3.2-bin-hadoop3/python/pyspark/sql/pandas/_typing/protocols/frame.pyi\n",
            "spark-3.3.2-bin-hadoop3/python/pyspark/sql/pandas/_typing/protocols/series.pyi\n",
            "spark-3.3.2-bin-hadoop3/python/pyspark/sql/pandas/conversion.py\n",
            "spark-3.3.2-bin-hadoop3/python/pyspark/sql/pandas/functions.py\n",
            "spark-3.3.2-bin-hadoop3/python/pyspark/sql/pandas/functions.pyi\n",
            "spark-3.3.2-bin-hadoop3/python/pyspark/sql/pandas/group_ops.py\n",
            "spark-3.3.2-bin-hadoop3/python/pyspark/sql/pandas/map_ops.py\n",
            "spark-3.3.2-bin-hadoop3/python/pyspark/sql/pandas/serializers.py\n",
            "spark-3.3.2-bin-hadoop3/python/pyspark/sql/pandas/typehints.py\n",
            "spark-3.3.2-bin-hadoop3/python/pyspark/sql/pandas/types.py\n",
            "spark-3.3.2-bin-hadoop3/python/pyspark/sql/pandas/utils.py\n",
            "spark-3.3.2-bin-hadoop3/python/pyspark/sql/readwriter.py\n",
            "spark-3.3.2-bin-hadoop3/python/pyspark/sql/session.py\n",
            "spark-3.3.2-bin-hadoop3/python/pyspark/sql/sql_formatter.py\n",
            "spark-3.3.2-bin-hadoop3/python/pyspark/sql/streaming.py\n",
            "spark-3.3.2-bin-hadoop3/python/pyspark/sql/tests/\n",
            "spark-3.3.2-bin-hadoop3/python/pyspark/sql/tests/__init__.py\n",
            "spark-3.3.2-bin-hadoop3/python/pyspark/sql/tests/test_arrow.py\n",
            "spark-3.3.2-bin-hadoop3/python/pyspark/sql/tests/test_arrow_map.py\n",
            "spark-3.3.2-bin-hadoop3/python/pyspark/sql/tests/test_catalog.py\n",
            "spark-3.3.2-bin-hadoop3/python/pyspark/sql/tests/test_column.py\n",
            "spark-3.3.2-bin-hadoop3/python/pyspark/sql/tests/test_conf.py\n",
            "spark-3.3.2-bin-hadoop3/python/pyspark/sql/tests/test_context.py\n",
            "spark-3.3.2-bin-hadoop3/python/pyspark/sql/tests/test_dataframe.py\n",
            "spark-3.3.2-bin-hadoop3/python/pyspark/sql/tests/test_datasources.py\n",
            "spark-3.3.2-bin-hadoop3/python/pyspark/sql/tests/test_functions.py\n",
            "spark-3.3.2-bin-hadoop3/python/pyspark/sql/tests/test_group.py\n",
            "spark-3.3.2-bin-hadoop3/python/pyspark/sql/tests/test_pandas_cogrouped_map.py\n",
            "spark-3.3.2-bin-hadoop3/python/pyspark/sql/tests/test_pandas_grouped_map.py\n",
            "spark-3.3.2-bin-hadoop3/python/pyspark/sql/tests/test_pandas_map.py\n",
            "spark-3.3.2-bin-hadoop3/python/pyspark/sql/tests/test_pandas_udf.py\n",
            "spark-3.3.2-bin-hadoop3/python/pyspark/sql/tests/test_pandas_udf_grouped_agg.py\n",
            "spark-3.3.2-bin-hadoop3/python/pyspark/sql/tests/test_pandas_udf_scalar.py\n",
            "spark-3.3.2-bin-hadoop3/python/pyspark/sql/tests/test_pandas_udf_typehints.py\n",
            "spark-3.3.2-bin-hadoop3/python/pyspark/sql/tests/test_pandas_udf_typehints_with_future_annotations.py\n",
            "spark-3.3.2-bin-hadoop3/python/pyspark/sql/tests/test_pandas_udf_window.py\n",
            "spark-3.3.2-bin-hadoop3/python/pyspark/sql/tests/test_readwriter.py\n",
            "spark-3.3.2-bin-hadoop3/python/pyspark/sql/tests/test_serde.py\n",
            "spark-3.3.2-bin-hadoop3/python/pyspark/sql/tests/test_session.py\n",
            "spark-3.3.2-bin-hadoop3/python/pyspark/sql/tests/test_streaming.py\n",
            "spark-3.3.2-bin-hadoop3/python/pyspark/sql/tests/test_types.py\n",
            "spark-3.3.2-bin-hadoop3/python/pyspark/sql/tests/test_udf.py\n",
            "spark-3.3.2-bin-hadoop3/python/pyspark/sql/tests/test_udf_profiler.py\n",
            "spark-3.3.2-bin-hadoop3/python/pyspark/sql/tests/test_utils.py\n",
            "spark-3.3.2-bin-hadoop3/python/pyspark/sql/tests/typing/\n",
            "spark-3.3.2-bin-hadoop3/python/pyspark/sql/tests/typing/test_column.yml\n",
            "spark-3.3.2-bin-hadoop3/python/pyspark/sql/tests/typing/test_dataframe.yml\n",
            "spark-3.3.2-bin-hadoop3/python/pyspark/sql/tests/typing/test_functions.yml\n",
            "spark-3.3.2-bin-hadoop3/python/pyspark/sql/tests/typing/test_readwriter.yml\n",
            "spark-3.3.2-bin-hadoop3/python/pyspark/sql/tests/typing/test_session.yml\n",
            "spark-3.3.2-bin-hadoop3/python/pyspark/sql/tests/typing/test_udf.yml\n",
            "spark-3.3.2-bin-hadoop3/python/pyspark/sql/types.py\n",
            "spark-3.3.2-bin-hadoop3/python/pyspark/sql/udf.py\n",
            "spark-3.3.2-bin-hadoop3/python/pyspark/sql/utils.py\n",
            "spark-3.3.2-bin-hadoop3/python/pyspark/sql/window.py\n",
            "spark-3.3.2-bin-hadoop3/python/pyspark/statcounter.py\n",
            "spark-3.3.2-bin-hadoop3/python/pyspark/status.py\n",
            "spark-3.3.2-bin-hadoop3/python/pyspark/storagelevel.py\n",
            "spark-3.3.2-bin-hadoop3/python/pyspark/streaming/\n",
            "spark-3.3.2-bin-hadoop3/python/pyspark/streaming/__init__.py\n",
            "spark-3.3.2-bin-hadoop3/python/pyspark/streaming/context.py\n",
            "spark-3.3.2-bin-hadoop3/python/pyspark/streaming/dstream.py\n",
            "spark-3.3.2-bin-hadoop3/python/pyspark/streaming/kinesis.py\n",
            "spark-3.3.2-bin-hadoop3/python/pyspark/streaming/listener.py\n",
            "spark-3.3.2-bin-hadoop3/python/pyspark/streaming/tests/\n",
            "spark-3.3.2-bin-hadoop3/python/pyspark/streaming/tests/__init__.py\n",
            "spark-3.3.2-bin-hadoop3/python/pyspark/streaming/tests/test_context.py\n",
            "spark-3.3.2-bin-hadoop3/python/pyspark/streaming/tests/test_dstream.py\n",
            "spark-3.3.2-bin-hadoop3/python/pyspark/streaming/tests/test_kinesis.py\n",
            "spark-3.3.2-bin-hadoop3/python/pyspark/streaming/tests/test_listener.py\n",
            "spark-3.3.2-bin-hadoop3/python/pyspark/streaming/util.py\n",
            "spark-3.3.2-bin-hadoop3/python/pyspark/taskcontext.py\n",
            "spark-3.3.2-bin-hadoop3/python/pyspark/testing/\n",
            "spark-3.3.2-bin-hadoop3/python/pyspark/testing/__init__.py\n",
            "spark-3.3.2-bin-hadoop3/python/pyspark/testing/mllibutils.py\n",
            "spark-3.3.2-bin-hadoop3/python/pyspark/testing/mlutils.py\n",
            "spark-3.3.2-bin-hadoop3/python/pyspark/testing/pandasutils.py\n",
            "spark-3.3.2-bin-hadoop3/python/pyspark/testing/sqlutils.py\n",
            "spark-3.3.2-bin-hadoop3/python/pyspark/testing/streamingutils.py\n",
            "spark-3.3.2-bin-hadoop3/python/pyspark/testing/utils.py\n",
            "spark-3.3.2-bin-hadoop3/python/pyspark/tests/\n",
            "spark-3.3.2-bin-hadoop3/python/pyspark/tests/__init__.py\n",
            "spark-3.3.2-bin-hadoop3/python/pyspark/tests/test_appsubmit.py\n",
            "spark-3.3.2-bin-hadoop3/python/pyspark/tests/test_broadcast.py\n",
            "spark-3.3.2-bin-hadoop3/python/pyspark/tests/test_conf.py\n",
            "spark-3.3.2-bin-hadoop3/python/pyspark/tests/test_context.py\n",
            "spark-3.3.2-bin-hadoop3/python/pyspark/tests/test_daemon.py\n",
            "spark-3.3.2-bin-hadoop3/python/pyspark/tests/test_install_spark.py\n",
            "spark-3.3.2-bin-hadoop3/python/pyspark/tests/test_join.py\n",
            "spark-3.3.2-bin-hadoop3/python/pyspark/tests/test_pin_thread.py\n",
            "spark-3.3.2-bin-hadoop3/python/pyspark/tests/test_profiler.py\n",
            "spark-3.3.2-bin-hadoop3/python/pyspark/tests/test_rdd.py\n",
            "spark-3.3.2-bin-hadoop3/python/pyspark/tests/test_rddbarrier.py\n",
            "spark-3.3.2-bin-hadoop3/python/pyspark/tests/test_readwrite.py\n",
            "spark-3.3.2-bin-hadoop3/python/pyspark/tests/test_serializers.py\n",
            "spark-3.3.2-bin-hadoop3/python/pyspark/tests/test_shuffle.py\n",
            "spark-3.3.2-bin-hadoop3/python/pyspark/tests/test_statcounter.py\n",
            "spark-3.3.2-bin-hadoop3/python/pyspark/tests/test_taskcontext.py\n",
            "spark-3.3.2-bin-hadoop3/python/pyspark/tests/test_util.py\n",
            "spark-3.3.2-bin-hadoop3/python/pyspark/tests/test_worker.py\n",
            "spark-3.3.2-bin-hadoop3/python/pyspark/tests/typing/\n",
            "spark-3.3.2-bin-hadoop3/python/pyspark/tests/typing/test_context.yml\n",
            "spark-3.3.2-bin-hadoop3/python/pyspark/tests/typing/test_core.yml\n",
            "spark-3.3.2-bin-hadoop3/python/pyspark/tests/typing/test_rdd.yml\n",
            "spark-3.3.2-bin-hadoop3/python/pyspark/tests/typing/test_resultiterable.yml\n",
            "spark-3.3.2-bin-hadoop3/python/pyspark/traceback_utils.py\n",
            "spark-3.3.2-bin-hadoop3/python/pyspark/util.py\n",
            "spark-3.3.2-bin-hadoop3/python/pyspark/version.py\n",
            "spark-3.3.2-bin-hadoop3/python/pyspark/worker.py\n",
            "spark-3.3.2-bin-hadoop3/python/pyspark.egg-info/\n",
            "spark-3.3.2-bin-hadoop3/python/pyspark.egg-info/PKG-INFO\n",
            "spark-3.3.2-bin-hadoop3/python/pyspark.egg-info/SOURCES.txt\n",
            "spark-3.3.2-bin-hadoop3/python/pyspark.egg-info/dependency_links.txt\n",
            "spark-3.3.2-bin-hadoop3/python/pyspark.egg-info/requires.txt\n",
            "spark-3.3.2-bin-hadoop3/python/pyspark.egg-info/top_level.txt\n",
            "spark-3.3.2-bin-hadoop3/python/run-tests\n",
            "spark-3.3.2-bin-hadoop3/python/run-tests-with-coverage\n",
            "spark-3.3.2-bin-hadoop3/python/run-tests.py\n",
            "spark-3.3.2-bin-hadoop3/python/setup.cfg\n",
            "spark-3.3.2-bin-hadoop3/python/setup.py\n",
            "spark-3.3.2-bin-hadoop3/python/test_coverage/\n",
            "spark-3.3.2-bin-hadoop3/python/test_coverage/conf/\n",
            "spark-3.3.2-bin-hadoop3/python/test_coverage/conf/spark-defaults.conf\n",
            "spark-3.3.2-bin-hadoop3/python/test_coverage/coverage_daemon.py\n",
            "spark-3.3.2-bin-hadoop3/python/test_coverage/sitecustomize.py\n",
            "spark-3.3.2-bin-hadoop3/python/test_support/\n",
            "spark-3.3.2-bin-hadoop3/python/test_support/SimpleHTTPServer.py\n",
            "spark-3.3.2-bin-hadoop3/python/test_support/hello/\n",
            "spark-3.3.2-bin-hadoop3/python/test_support/hello/hello.txt\n",
            "spark-3.3.2-bin-hadoop3/python/test_support/hello/sub_hello/\n",
            "spark-3.3.2-bin-hadoop3/python/test_support/hello/sub_hello/sub_hello.txt\n",
            "spark-3.3.2-bin-hadoop3/python/test_support/sql/\n",
            "spark-3.3.2-bin-hadoop3/python/test_support/sql/ages.csv\n",
            "spark-3.3.2-bin-hadoop3/python/test_support/sql/ages_newlines.csv\n",
            "spark-3.3.2-bin-hadoop3/python/test_support/sql/orc_partitioned/\n",
            "spark-3.3.2-bin-hadoop3/python/test_support/sql/orc_partitioned/_SUCCESS\n",
            "spark-3.3.2-bin-hadoop3/python/test_support/sql/orc_partitioned/b=0/\n",
            "spark-3.3.2-bin-hadoop3/python/test_support/sql/orc_partitioned/b=0/c=0/\n",
            "spark-3.3.2-bin-hadoop3/python/test_support/sql/orc_partitioned/b=0/c=0/.part-r-00000-829af031-b970-49d6-ad39-30460a0be2c8.orc.crc\n",
            "spark-3.3.2-bin-hadoop3/python/test_support/sql/orc_partitioned/b=0/c=0/part-r-00000-829af031-b970-49d6-ad39-30460a0be2c8.orc\n",
            "spark-3.3.2-bin-hadoop3/python/test_support/sql/orc_partitioned/b=1/\n",
            "spark-3.3.2-bin-hadoop3/python/test_support/sql/orc_partitioned/b=1/c=1/\n",
            "spark-3.3.2-bin-hadoop3/python/test_support/sql/orc_partitioned/b=1/c=1/.part-r-00000-829af031-b970-49d6-ad39-30460a0be2c8.orc.crc\n",
            "spark-3.3.2-bin-hadoop3/python/test_support/sql/orc_partitioned/b=1/c=1/part-r-00000-829af031-b970-49d6-ad39-30460a0be2c8.orc\n",
            "spark-3.3.2-bin-hadoop3/python/test_support/sql/parquet_partitioned/\n",
            "spark-3.3.2-bin-hadoop3/python/test_support/sql/parquet_partitioned/_SUCCESS\n",
            "spark-3.3.2-bin-hadoop3/python/test_support/sql/parquet_partitioned/_common_metadata\n",
            "spark-3.3.2-bin-hadoop3/python/test_support/sql/parquet_partitioned/_metadata\n",
            "spark-3.3.2-bin-hadoop3/python/test_support/sql/parquet_partitioned/year=2014/\n",
            "spark-3.3.2-bin-hadoop3/python/test_support/sql/parquet_partitioned/year=2014/month=9/\n",
            "spark-3.3.2-bin-hadoop3/python/test_support/sql/parquet_partitioned/year=2014/month=9/day=1/\n",
            "spark-3.3.2-bin-hadoop3/python/test_support/sql/parquet_partitioned/year=2014/month=9/day=1/.part-r-00008.gz.parquet.crc\n",
            "spark-3.3.2-bin-hadoop3/python/test_support/sql/parquet_partitioned/year=2014/month=9/day=1/part-r-00008.gz.parquet\n",
            "spark-3.3.2-bin-hadoop3/python/test_support/sql/parquet_partitioned/year=2015/\n",
            "spark-3.3.2-bin-hadoop3/python/test_support/sql/parquet_partitioned/year=2015/month=10/\n",
            "spark-3.3.2-bin-hadoop3/python/test_support/sql/parquet_partitioned/year=2015/month=10/day=25/\n",
            "spark-3.3.2-bin-hadoop3/python/test_support/sql/parquet_partitioned/year=2015/month=10/day=25/.part-r-00002.gz.parquet.crc\n",
            "spark-3.3.2-bin-hadoop3/python/test_support/sql/parquet_partitioned/year=2015/month=10/day=25/.part-r-00004.gz.parquet.crc\n",
            "spark-3.3.2-bin-hadoop3/python/test_support/sql/parquet_partitioned/year=2015/month=10/day=25/part-r-00002.gz.parquet\n",
            "spark-3.3.2-bin-hadoop3/python/test_support/sql/parquet_partitioned/year=2015/month=10/day=25/part-r-00004.gz.parquet\n",
            "spark-3.3.2-bin-hadoop3/python/test_support/sql/parquet_partitioned/year=2015/month=10/day=26/\n",
            "spark-3.3.2-bin-hadoop3/python/test_support/sql/parquet_partitioned/year=2015/month=10/day=26/.part-r-00005.gz.parquet.crc\n",
            "spark-3.3.2-bin-hadoop3/python/test_support/sql/parquet_partitioned/year=2015/month=10/day=26/part-r-00005.gz.parquet\n",
            "spark-3.3.2-bin-hadoop3/python/test_support/sql/parquet_partitioned/year=2015/month=9/\n",
            "spark-3.3.2-bin-hadoop3/python/test_support/sql/parquet_partitioned/year=2015/month=9/day=1/\n",
            "spark-3.3.2-bin-hadoop3/python/test_support/sql/parquet_partitioned/year=2015/month=9/day=1/.part-r-00007.gz.parquet.crc\n",
            "spark-3.3.2-bin-hadoop3/python/test_support/sql/parquet_partitioned/year=2015/month=9/day=1/part-r-00007.gz.parquet\n",
            "spark-3.3.2-bin-hadoop3/python/test_support/sql/people.json\n",
            "spark-3.3.2-bin-hadoop3/python/test_support/sql/people1.json\n",
            "spark-3.3.2-bin-hadoop3/python/test_support/sql/people_array.json\n",
            "spark-3.3.2-bin-hadoop3/python/test_support/sql/people_array_utf16le.json\n",
            "spark-3.3.2-bin-hadoop3/python/test_support/sql/streaming/\n",
            "spark-3.3.2-bin-hadoop3/python/test_support/sql/streaming/text-test.txt\n",
            "spark-3.3.2-bin-hadoop3/python/test_support/sql/text-test.txt\n",
            "spark-3.3.2-bin-hadoop3/python/test_support/userlib-0.1.zip\n",
            "spark-3.3.2-bin-hadoop3/python/test_support/userlibrary.py\n",
            "spark-3.3.2-bin-hadoop3/sbin/\n",
            "spark-3.3.2-bin-hadoop3/sbin/decommission-slave.sh\n",
            "spark-3.3.2-bin-hadoop3/sbin/decommission-worker.sh\n",
            "spark-3.3.2-bin-hadoop3/sbin/slaves.sh\n",
            "spark-3.3.2-bin-hadoop3/sbin/spark-config.sh\n",
            "spark-3.3.2-bin-hadoop3/sbin/spark-daemon.sh\n",
            "spark-3.3.2-bin-hadoop3/sbin/spark-daemons.sh\n",
            "spark-3.3.2-bin-hadoop3/sbin/start-all.sh\n",
            "spark-3.3.2-bin-hadoop3/sbin/start-history-server.sh\n",
            "spark-3.3.2-bin-hadoop3/sbin/start-master.sh\n",
            "spark-3.3.2-bin-hadoop3/sbin/start-mesos-dispatcher.sh\n",
            "spark-3.3.2-bin-hadoop3/sbin/start-mesos-shuffle-service.sh\n",
            "spark-3.3.2-bin-hadoop3/sbin/start-slave.sh\n",
            "spark-3.3.2-bin-hadoop3/sbin/start-slaves.sh\n",
            "spark-3.3.2-bin-hadoop3/sbin/start-thriftserver.sh\n",
            "spark-3.3.2-bin-hadoop3/sbin/start-worker.sh\n",
            "spark-3.3.2-bin-hadoop3/sbin/start-workers.sh\n",
            "spark-3.3.2-bin-hadoop3/sbin/stop-all.sh\n",
            "spark-3.3.2-bin-hadoop3/sbin/stop-history-server.sh\n",
            "spark-3.3.2-bin-hadoop3/sbin/stop-master.sh\n",
            "spark-3.3.2-bin-hadoop3/sbin/stop-mesos-dispatcher.sh\n",
            "spark-3.3.2-bin-hadoop3/sbin/stop-mesos-shuffle-service.sh\n",
            "spark-3.3.2-bin-hadoop3/sbin/stop-slave.sh\n",
            "spark-3.3.2-bin-hadoop3/sbin/stop-slaves.sh\n",
            "spark-3.3.2-bin-hadoop3/sbin/stop-thriftserver.sh\n",
            "spark-3.3.2-bin-hadoop3/sbin/stop-worker.sh\n",
            "spark-3.3.2-bin-hadoop3/sbin/stop-workers.sh\n",
            "spark-3.3.2-bin-hadoop3/sbin/workers.sh\n",
            "spark-3.3.2-bin-hadoop3/yarn/\n",
            "spark-3.3.2-bin-hadoop3/yarn/spark-3.3.2-yarn-shuffle.jar\n"
          ]
        }
      ]
    },
    {
      "cell_type": "code",
      "source": [
        "!python -m pip install findspark"
      ],
      "metadata": {
        "colab": {
          "base_uri": "https://localhost:8080/"
        },
        "id": "qjWsk90-rjYD",
        "outputId": "392a851f-e133-420e-f802-0996f1446410"
      },
      "execution_count": 4,
      "outputs": [
        {
          "output_type": "stream",
          "name": "stdout",
          "text": [
            "Looking in indexes: https://pypi.org/simple, https://us-python.pkg.dev/colab-wheels/public/simple/\n",
            "Collecting findspark\n",
            "  Downloading findspark-2.0.1-py2.py3-none-any.whl (4.4 kB)\n",
            "Installing collected packages: findspark\n",
            "Successfully installed findspark-2.0.1\n"
          ]
        }
      ]
    },
    {
      "cell_type": "code",
      "source": [
        "!ls /usr/lib/jvm/"
      ],
      "metadata": {
        "colab": {
          "base_uri": "https://localhost:8080/"
        },
        "id": "S0QLSDLcry3f",
        "outputId": "64440a82-1043-4dc8-aaf8-a4d784ef4238"
      },
      "execution_count": null,
      "outputs": [
        {
          "output_type": "stream",
          "name": "stdout",
          "text": [
            "java-1.11.0-openjdk-amd64  java-11-openjdk-amd64\n"
          ]
        }
      ]
    },
    {
      "cell_type": "code",
      "source": [
        "!ls spark-3.3.2-bin-hadoop3"
      ],
      "metadata": {
        "colab": {
          "base_uri": "https://localhost:8080/"
        },
        "id": "_baahQg6sEK0",
        "outputId": "9d275a02-dfa7-4383-9b4d-e6df678c0201"
      },
      "execution_count": null,
      "outputs": [
        {
          "output_type": "stream",
          "name": "stdout",
          "text": [
            "bin   data\tjars\t    LICENSE   NOTICE  R\t\t RELEASE  yarn\n",
            "conf  examples\tkubernetes  licenses  python  README.md  sbin\n"
          ]
        }
      ]
    },
    {
      "cell_type": "code",
      "source": [
        "!pwd"
      ],
      "metadata": {
        "colab": {
          "base_uri": "https://localhost:8080/"
        },
        "id": "tDQQdrpjsOYZ",
        "outputId": "00403f49-5f78-4f95-d887-6605f9cc28ec"
      },
      "execution_count": null,
      "outputs": [
        {
          "output_type": "stream",
          "name": "stdout",
          "text": [
            "/content\n"
          ]
        }
      ]
    },
    {
      "cell_type": "code",
      "source": [
        "import os\n",
        "os.environ[\"JAVA_HOME\"] = \"/usr/lib/jvm/java-11-openjdk-amd64\"\n",
        "os.environ[\"SPARK_HOME\"] = \"/content/spark-3.3.2-bin-hadoop3\"\n",
        "import findspark\n",
        "findspark.init()"
      ],
      "metadata": {
        "id": "HUjfsL58sTn-"
      },
      "execution_count": 5,
      "outputs": []
    },
    {
      "cell_type": "code",
      "source": [
        "# criando um data frame\n",
        "\n",
        "from pyspark.sql import SparkSession\n",
        "spark = SparkSession.builder.appName(\"iniciando_com_spark\").getOrCreate()\n",
        "data = [(\"João\", 25), (\"Maria\", 30), (\"José\", 40)]\n",
        "df = spark.createDataFrame(data, [\"nome\", \"idade\"])\n",
        "\n",
        "df.show()"
      ],
      "metadata": {
        "colab": {
          "base_uri": "https://localhost:8080/"
        },
        "id": "ACvf3dGNsm8q",
        "outputId": "62d4a171-dab5-4f69-9b29-3f02950ba9b5"
      },
      "execution_count": null,
      "outputs": [
        {
          "output_type": "stream",
          "name": "stdout",
          "text": [
            "+-----+-----+\n",
            "| nome|idade|\n",
            "+-----+-----+\n",
            "| João|   25|\n",
            "|Maria|   30|\n",
            "| José|   40|\n",
            "+-----+-----+\n",
            "\n"
          ]
        }
      ]
    },
    {
      "cell_type": "code",
      "source": [
        "from pyspark.sql import SparkSession\n",
        "\n",
        "# Cria ou/e inicia uma sessão spark\n",
        "spark = SparkSession.builder.master(\"local[*]\").appName(\"Read CSV\").getOrCreate() # master(\"local[*]\") - indica que quero utilizar todas as CPU's do meu spark\n",
        "\n",
        "# ===== caso tenha um cluster spark configurado =======\n",
        "# spark = SparkSession.builder.appName(\"MyApp\").master(f\"spark://172.111.111.11:7077\").getOrCreate() \n",
        "\n",
        "# Le arquivo csv\n",
        "df = spark.read.csv(\"/content/csv/clientes.csv\", header=True, inferSchema=True)\n",
        "# df = spark.read.csv(\"/content/csv/*.csv\", header=True, inferSchema=True) para ler multiplos arquivos\n",
        "\n",
        "# Mostra dataframe\n",
        "df.show()\n"
      ],
      "metadata": {
        "colab": {
          "base_uri": "https://localhost:8080/"
        },
        "id": "_98Q7Tfbt7dp",
        "outputId": "7a58ac18-6ff6-44db-a6d9-f164c05c4148"
      },
      "execution_count": null,
      "outputs": [
        {
          "output_type": "stream",
          "name": "stdout",
          "text": [
            "+---+--------------+--------------+--------------------+--------------------+\n",
            "| id|          nome|      telefone|            endereco|               email|\n",
            "+---+--------------+--------------+--------------------+--------------------+\n",
            "|  1|    João Silva|(11) 1234-5678| Rua ABC - 123 - ...| joao.silva@email...|\n",
            "|  2|Maria Oliveira|(11) 2345-6789| Rua DEF - 456 - ...| maria.oliveira@e...|\n",
            "|  3|   Pedro Sousa|(11) 3456-7890| Rua GHI - 789 - ...| pedro.sousa@emai...|\n",
            "|  4|    Lucas Lima|(21) 4567-8901| Rua JKL - 159 - ...| lucas.lima@email...|\n",
            "|  5|     Ana Paula|(21) 5678-9012| Rua PQR - 753 - ...| ana.paula@email.com|\n",
            "+---+--------------+--------------+--------------------+--------------------+\n",
            "\n"
          ]
        }
      ]
    },
    {
      "cell_type": "code",
      "source": [
        "# verifica sessão spark aberta e mostra URL do spark web\n",
        "spark"
      ],
      "metadata": {
        "colab": {
          "base_uri": "https://localhost:8080/",
          "height": 221
        },
        "id": "wiNAhTIBugZ_",
        "outputId": "19b651ca-0d7f-44bd-954f-7ce94a910619"
      },
      "execution_count": null,
      "outputs": [
        {
          "output_type": "execute_result",
          "data": {
            "text/plain": [
              "<pyspark.sql.session.SparkSession at 0x7fb39dfe97c0>"
            ],
            "text/html": [
              "\n",
              "            <div>\n",
              "                <p><b>SparkSession - in-memory</b></p>\n",
              "                \n",
              "        <div>\n",
              "            <p><b>SparkContext</b></p>\n",
              "\n",
              "            <p><a href=\"http://10a6094a714b:4040\">Spark UI</a></p>\n",
              "\n",
              "            <dl>\n",
              "              <dt>Version</dt>\n",
              "                <dd><code>v3.3.2</code></dd>\n",
              "              <dt>Master</dt>\n",
              "                <dd><code>local[*]</code></dd>\n",
              "              <dt>AppName</dt>\n",
              "                <dd><code>iniciando_com_spark</code></dd>\n",
              "            </dl>\n",
              "        </div>\n",
              "        \n",
              "            </div>\n",
              "        "
            ]
          },
          "metadata": {},
          "execution_count": 19
        }
      ]
    },
    {
      "cell_type": "code",
      "source": [
        "# criar um dataframe\n",
        "data = [('Danilo', 'danilo@teste.com', '11 1111-1111'), ('Leandro', 'leo@teste.com', '11 1111-1111')] # lista de tuple\n",
        "colunas = ['Nome', 'Email', 'Telefone'] # array\n",
        "\n",
        "df = spark.createDataFrame(data, colunas)\n",
        "df"
      ],
      "metadata": {
        "colab": {
          "base_uri": "https://localhost:8080/"
        },
        "id": "pDNhSGprwoba",
        "outputId": "f6849c00-0d4b-44d1-95db-ccc1d1536f23"
      },
      "execution_count": null,
      "outputs": [
        {
          "output_type": "execute_result",
          "data": {
            "text/plain": [
              "DataFrame[Nome: string, Email: string, Telefone: string]"
            ]
          },
          "metadata": {},
          "execution_count": 20
        }
      ]
    },
    {
      "cell_type": "code",
      "source": [
        "df.show()"
      ],
      "metadata": {
        "colab": {
          "base_uri": "https://localhost:8080/"
        },
        "id": "VRmXScM6w3dj",
        "outputId": "c584e5b4-c2bd-4b0b-a880-ce2db1387ac0"
      },
      "execution_count": null,
      "outputs": [
        {
          "output_type": "stream",
          "name": "stdout",
          "text": [
            "+-------+----------------+------------+\n",
            "|   Nome|           Email|    Telefone|\n",
            "+-------+----------------+------------+\n",
            "| Danilo|danilo@teste.com|11 1111-1111|\n",
            "|Leandro|   leo@teste.com|11 1111-1111|\n",
            "+-------+----------------+------------+\n",
            "\n"
          ]
        }
      ]
    },
    {
      "cell_type": "code",
      "source": [
        "df.toPandas()"
      ],
      "metadata": {
        "colab": {
          "base_uri": "https://localhost:8080/",
          "height": 112
        },
        "id": "2nCa6Q_DxBWE",
        "outputId": "496ff13f-326e-47e2-c784-c361f69ce50e"
      },
      "execution_count": null,
      "outputs": [
        {
          "output_type": "execute_result",
          "data": {
            "text/plain": [
              "      Nome             Email      Telefone\n",
              "0   Danilo  danilo@teste.com  11 1111-1111\n",
              "1  Leandro     leo@teste.com  11 1111-1111"
            ],
            "text/html": [
              "\n",
              "  <div id=\"df-4253aa76-8ae8-48d2-916f-7fc83dbb2126\">\n",
              "    <div class=\"colab-df-container\">\n",
              "      <div>\n",
              "<style scoped>\n",
              "    .dataframe tbody tr th:only-of-type {\n",
              "        vertical-align: middle;\n",
              "    }\n",
              "\n",
              "    .dataframe tbody tr th {\n",
              "        vertical-align: top;\n",
              "    }\n",
              "\n",
              "    .dataframe thead th {\n",
              "        text-align: right;\n",
              "    }\n",
              "</style>\n",
              "<table border=\"1\" class=\"dataframe\">\n",
              "  <thead>\n",
              "    <tr style=\"text-align: right;\">\n",
              "      <th></th>\n",
              "      <th>Nome</th>\n",
              "      <th>Email</th>\n",
              "      <th>Telefone</th>\n",
              "    </tr>\n",
              "  </thead>\n",
              "  <tbody>\n",
              "    <tr>\n",
              "      <th>0</th>\n",
              "      <td>Danilo</td>\n",
              "      <td>danilo@teste.com</td>\n",
              "      <td>11 1111-1111</td>\n",
              "    </tr>\n",
              "    <tr>\n",
              "      <th>1</th>\n",
              "      <td>Leandro</td>\n",
              "      <td>leo@teste.com</td>\n",
              "      <td>11 1111-1111</td>\n",
              "    </tr>\n",
              "  </tbody>\n",
              "</table>\n",
              "</div>\n",
              "      <button class=\"colab-df-convert\" onclick=\"convertToInteractive('df-4253aa76-8ae8-48d2-916f-7fc83dbb2126')\"\n",
              "              title=\"Convert this dataframe to an interactive table.\"\n",
              "              style=\"display:none;\">\n",
              "        \n",
              "  <svg xmlns=\"http://www.w3.org/2000/svg\" height=\"24px\"viewBox=\"0 0 24 24\"\n",
              "       width=\"24px\">\n",
              "    <path d=\"M0 0h24v24H0V0z\" fill=\"none\"/>\n",
              "    <path d=\"M18.56 5.44l.94 2.06.94-2.06 2.06-.94-2.06-.94-.94-2.06-.94 2.06-2.06.94zm-11 1L8.5 8.5l.94-2.06 2.06-.94-2.06-.94L8.5 2.5l-.94 2.06-2.06.94zm10 10l.94 2.06.94-2.06 2.06-.94-2.06-.94-.94-2.06-.94 2.06-2.06.94z\"/><path d=\"M17.41 7.96l-1.37-1.37c-.4-.4-.92-.59-1.43-.59-.52 0-1.04.2-1.43.59L10.3 9.45l-7.72 7.72c-.78.78-.78 2.05 0 2.83L4 21.41c.39.39.9.59 1.41.59.51 0 1.02-.2 1.41-.59l7.78-7.78 2.81-2.81c.8-.78.8-2.07 0-2.86zM5.41 20L4 18.59l7.72-7.72 1.47 1.35L5.41 20z\"/>\n",
              "  </svg>\n",
              "      </button>\n",
              "      \n",
              "  <style>\n",
              "    .colab-df-container {\n",
              "      display:flex;\n",
              "      flex-wrap:wrap;\n",
              "      gap: 12px;\n",
              "    }\n",
              "\n",
              "    .colab-df-convert {\n",
              "      background-color: #E8F0FE;\n",
              "      border: none;\n",
              "      border-radius: 50%;\n",
              "      cursor: pointer;\n",
              "      display: none;\n",
              "      fill: #1967D2;\n",
              "      height: 32px;\n",
              "      padding: 0 0 0 0;\n",
              "      width: 32px;\n",
              "    }\n",
              "\n",
              "    .colab-df-convert:hover {\n",
              "      background-color: #E2EBFA;\n",
              "      box-shadow: 0px 1px 2px rgba(60, 64, 67, 0.3), 0px 1px 3px 1px rgba(60, 64, 67, 0.15);\n",
              "      fill: #174EA6;\n",
              "    }\n",
              "\n",
              "    [theme=dark] .colab-df-convert {\n",
              "      background-color: #3B4455;\n",
              "      fill: #D2E3FC;\n",
              "    }\n",
              "\n",
              "    [theme=dark] .colab-df-convert:hover {\n",
              "      background-color: #434B5C;\n",
              "      box-shadow: 0px 1px 3px 1px rgba(0, 0, 0, 0.15);\n",
              "      filter: drop-shadow(0px 1px 2px rgba(0, 0, 0, 0.3));\n",
              "      fill: #FFFFFF;\n",
              "    }\n",
              "  </style>\n",
              "\n",
              "      <script>\n",
              "        const buttonEl =\n",
              "          document.querySelector('#df-4253aa76-8ae8-48d2-916f-7fc83dbb2126 button.colab-df-convert');\n",
              "        buttonEl.style.display =\n",
              "          google.colab.kernel.accessAllowed ? 'block' : 'none';\n",
              "\n",
              "        async function convertToInteractive(key) {\n",
              "          const element = document.querySelector('#df-4253aa76-8ae8-48d2-916f-7fc83dbb2126');\n",
              "          const dataTable =\n",
              "            await google.colab.kernel.invokeFunction('convertToInteractive',\n",
              "                                                     [key], {});\n",
              "          if (!dataTable) return;\n",
              "\n",
              "          const docLinkHtml = 'Like what you see? Visit the ' +\n",
              "            '<a target=\"_blank\" href=https://colab.research.google.com/notebooks/data_table.ipynb>data table notebook</a>'\n",
              "            + ' to learn more about interactive tables.';\n",
              "          element.innerHTML = '';\n",
              "          dataTable['output_type'] = 'display_data';\n",
              "          await google.colab.output.renderOutput(dataTable, element);\n",
              "          const docLink = document.createElement('div');\n",
              "          docLink.innerHTML = docLinkHtml;\n",
              "          element.appendChild(docLink);\n",
              "        }\n",
              "      </script>\n",
              "    </div>\n",
              "  </div>\n",
              "  "
            ]
          },
          "metadata": {},
          "execution_count": 22
        }
      ]
    },
    {
      "cell_type": "code",
      "source": [
        "# convertendo tipo colunas \n",
        "\n",
        "from pyspark.sql import SparkSession\n",
        "from pyspark.sql.functions import to_timestamp, col\n",
        "\n",
        "# Criando uma SparkSession\n",
        "spark = SparkSession.builder.appName('ConvertDataTypes').getOrCreate()\n",
        "\n",
        "# criar um dataframe\n",
        "data = [('1', '33.33', '1990-12-09 22:54:00', 'True')] # lista de tuple\n",
        "colunas = ['id', 'valor_faturamento', 'data_faturamento', 'ativo'] # array\n",
        "\n",
        "df = spark.createDataFrame(data, colunas)\n",
        "\n",
        "# Visualizando o DataFrame com os novos tipos de dados\n",
        "df.printSchema()\n",
        "\n",
        "# Visualizando o DataFrame original\n",
        "df.show()\n",
        "\n",
        "# Alterando tipo de colunas\n",
        "df = df.withColumn('id', df['id'].cast('integer'))\n",
        "df = df.withColumn('valor_faturamento', df['valor_faturamento'].cast('float'))\n",
        "df = df.withColumn('data_faturamento', to_timestamp(col('data_faturamento'), 'yyyy-MM-dd HH:mm:ss'))\n",
        "df = df.withColumn('ativo', df['ativo'].cast('boolean'))\n",
        "\n",
        "# Visualizando o DataFrame com os novos tipos de dados\n",
        "df.printSchema()\n",
        "df.show()"
      ],
      "metadata": {
        "colab": {
          "base_uri": "https://localhost:8080/"
        },
        "id": "cu8KBB4xxN-w",
        "outputId": "71078a2b-e4a9-46ea-b416-ba8bd3250126"
      },
      "execution_count": 6,
      "outputs": [
        {
          "output_type": "stream",
          "name": "stdout",
          "text": [
            "root\n",
            " |-- id: string (nullable = true)\n",
            " |-- valor_faturamento: string (nullable = true)\n",
            " |-- data_faturamento: string (nullable = true)\n",
            " |-- ativo: string (nullable = true)\n",
            "\n",
            "+---+-----------------+-------------------+-----+\n",
            "| id|valor_faturamento|   data_faturamento|ativo|\n",
            "+---+-----------------+-------------------+-----+\n",
            "|  1|            33.33|1990-12-09 22:54:00| True|\n",
            "+---+-----------------+-------------------+-----+\n",
            "\n",
            "root\n",
            " |-- id: integer (nullable = true)\n",
            " |-- valor_faturamento: float (nullable = true)\n",
            " |-- data_faturamento: timestamp (nullable = true)\n",
            " |-- ativo: boolean (nullable = true)\n",
            "\n",
            "+---+-----------------+-------------------+-----+\n",
            "| id|valor_faturamento|   data_faturamento|ativo|\n",
            "+---+-----------------+-------------------+-----+\n",
            "|  1|            33.33|1990-12-09 22:54:00| true|\n",
            "+---+-----------------+-------------------+-----+\n",
            "\n"
          ]
        }
      ]
    },
    {
      "cell_type": "code",
      "source": [
        "# exemplo de conversão com dados do spark\n",
        "\n",
        "from pyspark.sql import SparkSession\n",
        "from pyspark.sql.functions import to_timestamp, col\n",
        "from pyspark.sql.types import IntegerType, DoubleType, BooleanType, TimestampType\n",
        "\n",
        "# Criando uma SparkSession\n",
        "spark = SparkSession.builder.appName('ConvertDataTypes').getOrCreate()\n",
        "\n",
        "# Criando um dataframe\n",
        "data = [('1', '33.33', '1990-12-09 22:54:00', 'True')] # lista de tuple\n",
        "colunas = ['id', 'valor_faturamento', 'data_faturamento', 'ativo'] # array\n",
        "\n",
        "df = spark.createDataFrame(data, colunas)\n",
        "\n",
        "# Visualizando o DataFrame original\n",
        "df.printSchema()\n",
        "df.show()\n",
        "\n",
        "# Convertendo os tipos de colunas\n",
        "df = df.withColumn('id', df['id'].cast(IntegerType()))\n",
        "df = df.withColumn('valor_faturamento', df['valor_faturamento'].cast(DoubleType()))\n",
        "df = df.withColumn('data_faturamento', to_timestamp(col('data_faturamento'), 'yyyy-MM-dd HH:mm:ss').cast(TimestampType()))\n",
        "df = df.withColumn('ativo', df['ativo'].cast(BooleanType()))\n",
        "\n",
        "# Visualizando o DataFrame com os novos tipos de dados\n",
        "df.printSchema()\n",
        "df.show()\n"
      ],
      "metadata": {
        "colab": {
          "base_uri": "https://localhost:8080/"
        },
        "id": "JHi4W5x3uS5o",
        "outputId": "964a9477-3ef7-401c-82ad-6840e0e07e62"
      },
      "execution_count": 7,
      "outputs": [
        {
          "output_type": "stream",
          "name": "stdout",
          "text": [
            "root\n",
            " |-- id: string (nullable = true)\n",
            " |-- valor_faturamento: string (nullable = true)\n",
            " |-- data_faturamento: string (nullable = true)\n",
            " |-- ativo: string (nullable = true)\n",
            "\n",
            "+---+-----------------+-------------------+-----+\n",
            "| id|valor_faturamento|   data_faturamento|ativo|\n",
            "+---+-----------------+-------------------+-----+\n",
            "|  1|            33.33|1990-12-09 22:54:00| True|\n",
            "+---+-----------------+-------------------+-----+\n",
            "\n",
            "root\n",
            " |-- id: integer (nullable = true)\n",
            " |-- valor_faturamento: double (nullable = true)\n",
            " |-- data_faturamento: timestamp (nullable = true)\n",
            " |-- ativo: boolean (nullable = true)\n",
            "\n",
            "+---+-----------------+-------------------+-----+\n",
            "| id|valor_faturamento|   data_faturamento|ativo|\n",
            "+---+-----------------+-------------------+-----+\n",
            "|  1|            33.33|1990-12-09 22:54:00| true|\n",
            "+---+-----------------+-------------------+-----+\n",
            "\n"
          ]
        }
      ]
    },
    {
      "cell_type": "code",
      "source": [
        "path = '/content/csv_particionado'\n",
        "# path = '/content/csv_particionado/*000.csv' # para ler arquvivos com um padrão *000.csv\n",
        "# df = spark.read.csv(\"path1,path2,path3\") # para ler por vários paths\n",
        "\n",
        "vitimas = spark.read.csv(path, sep=\",\", header=False, inferSchema=True)\n",
        "display(vitimas)\n",
        "vitimas.show()"
      ],
      "metadata": {
        "colab": {
          "base_uri": "https://localhost:8080/",
          "height": 498
        },
        "id": "RhJpnuawuup5",
        "outputId": "f7c6a204-53e4-44aa-b76a-7488aa1c1cc7"
      },
      "execution_count": 22,
      "outputs": [
        {
          "output_type": "display_data",
          "data": {
            "text/plain": [
              "DataFrame[_c0: string, _c1: string, _c2: string]"
            ]
          },
          "metadata": {}
        },
        {
          "output_type": "stream",
          "name": "stdout",
          "text": [
            "+---+------------------+-----------------+\n",
            "|_c0|               _c1|              _c2|\n",
            "+---+------------------+-----------------+\n",
            "| id|            estado|número de vítimas|\n",
            "|  1|              Acre|              789|\n",
            "|  2|           Alagoas|              123|\n",
            "|  3|             Amapá|              456|\n",
            "|  4|          Amazonas|              789|\n",
            "|  5|             Bahia|              900|\n",
            "|  6|             Ceará|              800|\n",
            "|  7|  Distrito Federal|              567|\n",
            "|  8|    Espírito Santo|              234|\n",
            "|  9|             Goiás|              567|\n",
            "| 10|          Maranhão|              890|\n",
            "| 11|       Mato Grosso|              123|\n",
            "| 12|Mato Grosso do Sul|              456|\n",
            "| 13|      Minas Gerais|              789|\n",
            "| 14|              Pará|              900|\n",
            "| 15|           Paraíba|              800|\n",
            "| 16|            Paraná|              567|\n",
            "| 17|        Pernambuco|              234|\n",
            "| 18|             Piauí|              567|\n",
            "| 19|    Rio de Janeiro|              890|\n",
            "+---+------------------+-----------------+\n",
            "only showing top 20 rows\n",
            "\n"
          ]
        }
      ]
    },
    {
      "cell_type": "code",
      "source": [
        "vitimas.count()"
      ],
      "metadata": {
        "colab": {
          "base_uri": "https://localhost:8080/"
        },
        "id": "hlMQgo5bwPs6",
        "outputId": "de960169-9541-4615-c3a1-b3fb8aea4045"
      },
      "execution_count": 12,
      "outputs": [
        {
          "output_type": "execute_result",
          "data": {
            "text/plain": [
              "173"
            ]
          },
          "metadata": {},
          "execution_count": 12
        }
      ]
    },
    {
      "cell_type": "code",
      "source": [
        "vitimas.limit(3).show()"
      ],
      "metadata": {
        "colab": {
          "base_uri": "https://localhost:8080/"
        },
        "id": "-Fs-XEy0wU63",
        "outputId": "67dc32f9-42f2-4433-ab13-7f66724409b5"
      },
      "execution_count": 13,
      "outputs": [
        {
          "output_type": "stream",
          "name": "stdout",
          "text": [
            "+---+-------+-----------------+\n",
            "|_c0|    _c1|              _c2|\n",
            "+---+-------+-----------------+\n",
            "| id| estado|número de vítimas|\n",
            "|  1|   Acre|              789|\n",
            "|  2|Alagoas|              123|\n",
            "+---+-------+-----------------+\n",
            "\n"
          ]
        }
      ]
    },
    {
      "cell_type": "code",
      "source": [
        "vitimas.show(30)"
      ],
      "metadata": {
        "colab": {
          "base_uri": "https://localhost:8080/"
        },
        "id": "E2YW0KUbxVxH",
        "outputId": "247a33d9-7a12-4fc5-a9b1-dd995e4d5a02"
      },
      "execution_count": 20,
      "outputs": [
        {
          "output_type": "stream",
          "name": "stdout",
          "text": [
            "+---+-------------------+-----------------+\n",
            "| Id|             Estado|          Vitimas|\n",
            "+---+-------------------+-----------------+\n",
            "| id|             estado|número de vítimas|\n",
            "|  1|               Acre|              789|\n",
            "|  2|            Alagoas|              123|\n",
            "|  3|              Amapá|              456|\n",
            "|  4|           Amazonas|              789|\n",
            "|  5|              Bahia|              900|\n",
            "|  6|              Ceará|              800|\n",
            "|  7|   Distrito Federal|              567|\n",
            "|  8|     Espírito Santo|              234|\n",
            "|  9|              Goiás|              567|\n",
            "| 10|           Maranhão|              890|\n",
            "| 11|        Mato Grosso|              123|\n",
            "| 12| Mato Grosso do Sul|              456|\n",
            "| 13|       Minas Gerais|              789|\n",
            "| 14|               Pará|              900|\n",
            "| 15|            Paraíba|              800|\n",
            "| 16|             Paraná|              567|\n",
            "| 17|         Pernambuco|              234|\n",
            "| 18|              Piauí|              567|\n",
            "| 19|     Rio de Janeiro|              890|\n",
            "| 20|Rio Grande do Norte|              123|\n",
            "| 21|  Rio Grande do Sul|              456|\n",
            "| 22|           Rondônia|              789|\n",
            "| 23|            Roraima|              900|\n",
            "| 24|     Santa Catarina|              800|\n",
            "| 25|          São Paulo|              567|\n",
            "| 26|            Sergipe|              234|\n",
            "| 27|          Tocantins|              567|\n",
            "| 28|               Acre|              789|\n",
            "| 29|            Alagoas|              123|\n",
            "+---+-------------------+-----------------+\n",
            "only showing top 30 rows\n",
            "\n"
          ]
        }
      ]
    },
    {
      "cell_type": "code",
      "source": [
        "cabecalho = ['Id', 'Estado', 'Vitimas']"
      ],
      "metadata": {
        "id": "E_CkzFTKwmU_"
      },
      "execution_count": 14,
      "outputs": []
    },
    {
      "cell_type": "code",
      "source": [
        "for item in enumerate(cabecalho):\n",
        "  print(item)"
      ],
      "metadata": {
        "colab": {
          "base_uri": "https://localhost:8080/"
        },
        "id": "FmjK-zzVwuOL",
        "outputId": "58596a95-55a5-41f8-ec8f-a6b5a9f30f13"
      },
      "execution_count": 15,
      "outputs": [
        {
          "output_type": "stream",
          "name": "stdout",
          "text": [
            "(0, 'Id')\n",
            "(1, 'Estado')\n",
            "(2, 'Vitimas')\n"
          ]
        }
      ]
    },
    {
      "cell_type": "code",
      "source": [
        "for index,nomeColuna in enumerate(cabecalho):\n",
        "        print(index)\n",
        "        print(nomeColuna)"
      ],
      "metadata": {
        "colab": {
          "base_uri": "https://localhost:8080/"
        },
        "id": "hUxKGTm4w8NH",
        "outputId": "00b43ed7-2121-47dc-f696-2485bfddc4c6"
      },
      "execution_count": 16,
      "outputs": [
        {
          "output_type": "stream",
          "name": "stdout",
          "text": [
            "0\n",
            "Id\n",
            "1\n",
            "Estado\n",
            "2\n",
            "Vitimas\n"
          ]
        }
      ]
    },
    {
      "cell_type": "code",
      "source": [
        "for index,nomeColuna in enumerate(cabecalho):\n",
        "        vitimas = vitimas.withColumnRenamed(f\"_c{index}\", nomeColuna)\n",
        "\n",
        "display(vitimas.columns)\n",
        "\n",
        "vitimas.show()\n"
      ],
      "metadata": {
        "colab": {
          "base_uri": "https://localhost:8080/"
        },
        "id": "lqXjLPNWw1Dh",
        "outputId": "17158665-a137-4e01-c8bf-5349c049b064"
      },
      "execution_count": 18,
      "outputs": [
        {
          "output_type": "stream",
          "name": "stdout",
          "text": [
            "+---+------------------+-----------------+\n",
            "| Id|            Estado|          Vitimas|\n",
            "+---+------------------+-----------------+\n",
            "| id|            estado|número de vítimas|\n",
            "|  1|              Acre|              789|\n",
            "|  2|           Alagoas|              123|\n",
            "|  3|             Amapá|              456|\n",
            "|  4|          Amazonas|              789|\n",
            "|  5|             Bahia|              900|\n",
            "|  6|             Ceará|              800|\n",
            "|  7|  Distrito Federal|              567|\n",
            "|  8|    Espírito Santo|              234|\n",
            "|  9|             Goiás|              567|\n",
            "| 10|          Maranhão|              890|\n",
            "| 11|       Mato Grosso|              123|\n",
            "| 12|Mato Grosso do Sul|              456|\n",
            "| 13|      Minas Gerais|              789|\n",
            "| 14|              Pará|              900|\n",
            "| 15|           Paraíba|              800|\n",
            "| 16|            Paraná|              567|\n",
            "| 17|        Pernambuco|              234|\n",
            "| 18|             Piauí|              567|\n",
            "| 19|    Rio de Janeiro|              890|\n",
            "+---+------------------+-----------------+\n",
            "only showing top 20 rows\n",
            "\n"
          ]
        }
      ]
    },
    {
      "cell_type": "code",
      "source": [
        "path = '/content/csv/client*.csv'\n",
        "\n",
        "clientes = spark.read.csv(path, sep=\",\", header=True, inferSchema=True)\n",
        "clientes.show()\n",
        "clientes.show(10, False)\n",
        "clientes.show(truncate=False, vertical=True, n=40)"
      ],
      "metadata": {
        "colab": {
          "base_uri": "https://localhost:8080/"
        },
        "id": "a7Jvq9--xlxC",
        "outputId": "4bf4ba0d-a237-4c64-b465-e52fa84064dc"
      },
      "execution_count": 26,
      "outputs": [
        {
          "output_type": "stream",
          "name": "stdout",
          "text": [
            "+---+--------------+--------------+--------------------+--------------------+\n",
            "| id|          nome|      telefone|            endereco|               email|\n",
            "+---+--------------+--------------+--------------------+--------------------+\n",
            "|  1|    João Silva|(11) 1234-5678| Rua ABC - 123 - ...| joao.silva@email...|\n",
            "|  2|Maria Oliveira|(11) 2345-6789| Rua DEF - 456 - ...| maria.oliveira@e...|\n",
            "|  3|   Pedro Sousa|(11) 3456-7890| Rua GHI - 789 - ...| pedro.sousa@emai...|\n",
            "|  4|    Lucas Lima|(21) 4567-8901| Rua JKL - 159 - ...| lucas.lima@email...|\n",
            "|  5|     Ana Paula|(21) 5678-9012| Rua PQR - 753 - ...| ana.paula@email.com|\n",
            "+---+--------------+--------------+--------------------+--------------------+\n",
            "\n",
            "+---+--------------+--------------+-------------------------------------------------+-------------------------+\n",
            "|id |nome          |telefone      |endereco                                         |email                    |\n",
            "+---+--------------+--------------+-------------------------------------------------+-------------------------+\n",
            "|1  |João Silva    |(11) 1234-5678| Rua ABC - 123 - Bairro XYZ - São Paulo - SP     | joao.silva@email.com    |\n",
            "|2  |Maria Oliveira|(11) 2345-6789| Rua DEF - 456 - Bairro UVW - São Paulo - SP     | maria.oliveira@email.com|\n",
            "|3  |Pedro Sousa   |(11) 3456-7890| Rua GHI - 789 - Bairro RST - Rio de Janeiro - RJ| pedro.sousa@email.com   |\n",
            "|4  |Lucas Lima    |(21) 4567-8901| Rua JKL - 159 - Bairro MNO - Rio de Janeiro - RJ| lucas.lima@email.com    |\n",
            "|5  |Ana Paula     |(21) 5678-9012| Rua PQR - 753 - Bairro STU - Belo Horizonte - MG| ana.paula@email.com     |\n",
            "+---+--------------+--------------+-------------------------------------------------+-------------------------+\n",
            "\n",
            "-RECORD 0-----------------------------------------------------\n",
            " id       | 1                                                 \n",
            " nome     | João Silva                                        \n",
            " telefone | (11) 1234-5678                                    \n",
            " endereco |  Rua ABC - 123 - Bairro XYZ - São Paulo - SP      \n",
            " email    |  joao.silva@email.com                             \n",
            "-RECORD 1-----------------------------------------------------\n",
            " id       | 2                                                 \n",
            " nome     | Maria Oliveira                                    \n",
            " telefone | (11) 2345-6789                                    \n",
            " endereco |  Rua DEF - 456 - Bairro UVW - São Paulo - SP      \n",
            " email    |  maria.oliveira@email.com                         \n",
            "-RECORD 2-----------------------------------------------------\n",
            " id       | 3                                                 \n",
            " nome     | Pedro Sousa                                       \n",
            " telefone | (11) 3456-7890                                    \n",
            " endereco |  Rua GHI - 789 - Bairro RST - Rio de Janeiro - RJ \n",
            " email    |  pedro.sousa@email.com                            \n",
            "-RECORD 3-----------------------------------------------------\n",
            " id       | 4                                                 \n",
            " nome     | Lucas Lima                                        \n",
            " telefone | (21) 4567-8901                                    \n",
            " endereco |  Rua JKL - 159 - Bairro MNO - Rio de Janeiro - RJ \n",
            " email    |  lucas.lima@email.com                             \n",
            "-RECORD 4-----------------------------------------------------\n",
            " id       | 5                                                 \n",
            " nome     | Ana Paula                                         \n",
            " telefone | (21) 5678-9012                                    \n",
            " endereco |  Rua PQR - 753 - Bairro STU - Belo Horizonte - MG \n",
            " email    |  ana.paula@email.com                              \n",
            "\n"
          ]
        }
      ]
    },
    {
      "cell_type": "code",
      "source": [
        "clientes.show(1)\n",
        "clientes.head(2) # pega as primerias linhas do meu dataframe"
      ],
      "metadata": {
        "colab": {
          "base_uri": "https://localhost:8080/"
        },
        "id": "BfZK_W5myzaC",
        "outputId": "28ec6b71-eb0d-46fa-9059-06ff2d534288"
      },
      "execution_count": 33,
      "outputs": [
        {
          "output_type": "stream",
          "name": "stdout",
          "text": [
            "+---+----------+--------------+--------------------+--------------------+\n",
            "| id|      nome|      telefone|            endereco|               email|\n",
            "+---+----------+--------------+--------------------+--------------------+\n",
            "|  1|João Silva|(11) 1234-5678| Rua ABC - 123 - ...| joao.silva@email...|\n",
            "+---+----------+--------------+--------------------+--------------------+\n",
            "only showing top 1 row\n",
            "\n"
          ]
        },
        {
          "output_type": "execute_result",
          "data": {
            "text/plain": [
              "[Row(id=1, nome='João Silva', telefone='(11) 1234-5678', endereco=' Rua ABC - 123 - Bairro XYZ - São Paulo - SP', email=' joao.silva@email.com'),\n",
              " Row(id=2, nome='Maria Oliveira', telefone='(11) 2345-6789', endereco=' Rua DEF - 456 - Bairro UVW - São Paulo - SP', email=' maria.oliveira@email.com')]"
            ]
          },
          "metadata": {},
          "execution_count": 33
        }
      ]
    },
    {
      "cell_type": "code",
      "source": [
        "type(clientes.head(1))"
      ],
      "metadata": {
        "colab": {
          "base_uri": "https://localhost:8080/"
        },
        "id": "xnReTP2mzCni",
        "outputId": "1ef1d2d9-1d37-40a8-da18-d56ab23cc9e9"
      },
      "execution_count": 31,
      "outputs": [
        {
          "output_type": "execute_result",
          "data": {
            "text/plain": [
              "list"
            ]
          },
          "metadata": {},
          "execution_count": 31
        }
      ]
    },
    {
      "cell_type": "code",
      "source": [
        "type(clientes.head(1)[0])"
      ],
      "metadata": {
        "colab": {
          "base_uri": "https://localhost:8080/"
        },
        "id": "0R1MDA37zIoH",
        "outputId": "0f217082-b2cd-4cd5-e6c9-2ab879ec0286"
      },
      "execution_count": 32,
      "outputs": [
        {
          "output_type": "execute_result",
          "data": {
            "text/plain": [
              "pyspark.sql.types.Row"
            ]
          },
          "metadata": {},
          "execution_count": 32
        }
      ]
    },
    {
      "cell_type": "code",
      "source": [
        "clientes.head(10)[0]"
      ],
      "metadata": {
        "colab": {
          "base_uri": "https://localhost:8080/"
        },
        "id": "s8jycPNSzT39",
        "outputId": "ce65b30b-f4df-4790-f8ff-9e56aba7adb9"
      },
      "execution_count": 41,
      "outputs": [
        {
          "output_type": "execute_result",
          "data": {
            "text/plain": [
              "Row(id=1, nome='João Silva', telefone='(11) 1234-5678', endereco=' Rua ABC - 123 - Bairro XYZ - São Paulo - SP', email=' joao.silva@email.com')"
            ]
          },
          "metadata": {},
          "execution_count": 41
        }
      ]
    },
    {
      "cell_type": "code",
      "source": [
        "clientes.head(10)[0][\"nome\"]"
      ],
      "metadata": {
        "colab": {
          "base_uri": "https://localhost:8080/",
          "height": 35
        },
        "id": "xU95yyQgzhg4",
        "outputId": "e55b71a1-e56f-4b44-b944-b85015e7ce08"
      },
      "execution_count": 44,
      "outputs": [
        {
          "output_type": "execute_result",
          "data": {
            "text/plain": [
              "'João Silva'"
            ],
            "application/vnd.google.colaboratory.intrinsic+json": {
              "type": "string"
            }
          },
          "metadata": {},
          "execution_count": 44
        }
      ]
    },
    {
      "cell_type": "code",
      "source": [
        "clientes.first()"
      ],
      "metadata": {
        "colab": {
          "base_uri": "https://localhost:8080/"
        },
        "id": "YF0sisM-zpYu",
        "outputId": "46c78a08-f013-48f3-8016-e1f4ea2e6353"
      },
      "execution_count": 45,
      "outputs": [
        {
          "output_type": "execute_result",
          "data": {
            "text/plain": [
              "Row(id=1, nome='João Silva', telefone='(11) 1234-5678', endereco=' Rua ABC - 123 - Bairro XYZ - São Paulo - SP', email=' joao.silva@email.com')"
            ]
          },
          "metadata": {},
          "execution_count": 45
        }
      ]
    },
    {
      "cell_type": "code",
      "source": [
        "clientes.first()[\"nome\"]"
      ],
      "metadata": {
        "colab": {
          "base_uri": "https://localhost:8080/",
          "height": 35
        },
        "id": "ylmrIyFczr67",
        "outputId": "b3a3b512-7cc9-46ce-915d-be4a1a945263"
      },
      "execution_count": 46,
      "outputs": [
        {
          "output_type": "execute_result",
          "data": {
            "text/plain": [
              "'João Silva'"
            ],
            "application/vnd.google.colaboratory.intrinsic+json": {
              "type": "string"
            }
          },
          "metadata": {},
          "execution_count": 46
        }
      ]
    },
    {
      "cell_type": "code",
      "source": [
        "clientes.collect()"
      ],
      "metadata": {
        "colab": {
          "base_uri": "https://localhost:8080/"
        },
        "id": "SdddK29Nzwlf",
        "outputId": "7e5e082c-cce1-415c-cd2d-4296a23c5456"
      },
      "execution_count": 47,
      "outputs": [
        {
          "output_type": "execute_result",
          "data": {
            "text/plain": [
              "[Row(id=1, nome='João Silva', telefone='(11) 1234-5678', endereco=' Rua ABC - 123 - Bairro XYZ - São Paulo - SP', email=' joao.silva@email.com'),\n",
              " Row(id=2, nome='Maria Oliveira', telefone='(11) 2345-6789', endereco=' Rua DEF - 456 - Bairro UVW - São Paulo - SP', email=' maria.oliveira@email.com'),\n",
              " Row(id=3, nome='Pedro Sousa', telefone='(11) 3456-7890', endereco=' Rua GHI - 789 - Bairro RST - Rio de Janeiro - RJ', email=' pedro.sousa@email.com'),\n",
              " Row(id=4, nome='Lucas Lima', telefone='(21) 4567-8901', endereco=' Rua JKL - 159 - Bairro MNO - Rio de Janeiro - RJ', email=' lucas.lima@email.com'),\n",
              " Row(id=5, nome='Ana Paula', telefone='(21) 5678-9012', endereco=' Rua PQR - 753 - Bairro STU - Belo Horizonte - MG', email=' ana.paula@email.com')]"
            ]
          },
          "metadata": {},
          "execution_count": 47
        }
      ]
    },
    {
      "cell_type": "code",
      "source": [
        "clientes.take(3) # retorna as ultimas 3 linhas"
      ],
      "metadata": {
        "colab": {
          "base_uri": "https://localhost:8080/"
        },
        "id": "MCVPgV_oz41o",
        "outputId": "42a0f1aa-8eda-428b-d49e-0e66b3ae7daa"
      },
      "execution_count": 50,
      "outputs": [
        {
          "output_type": "execute_result",
          "data": {
            "text/plain": [
              "[Row(id=1, nome='João Silva', telefone='(11) 1234-5678', endereco=' Rua ABC - 123 - Bairro XYZ - São Paulo - SP', email=' joao.silva@email.com'),\n",
              " Row(id=2, nome='Maria Oliveira', telefone='(11) 2345-6789', endereco=' Rua DEF - 456 - Bairro UVW - São Paulo - SP', email=' maria.oliveira@email.com'),\n",
              " Row(id=3, nome='Pedro Sousa', telefone='(11) 3456-7890', endereco=' Rua GHI - 789 - Bairro RST - Rio de Janeiro - RJ', email=' pedro.sousa@email.com')]"
            ]
          },
          "metadata": {},
          "execution_count": 50
        }
      ]
    },
    {
      "cell_type": "code",
      "source": [
        "clientes.printSchema() # mostra o esquema o dataframe"
      ],
      "metadata": {
        "colab": {
          "base_uri": "https://localhost:8080/"
        },
        "id": "0FFq78ef0NBH",
        "outputId": "856c10c2-ab95-40c7-e7d1-90b14b19c7e5"
      },
      "execution_count": 51,
      "outputs": [
        {
          "output_type": "stream",
          "name": "stdout",
          "text": [
            "root\n",
            " |-- id: integer (nullable = true)\n",
            " |-- nome: string (nullable = true)\n",
            " |-- telefone: string (nullable = true)\n",
            " |-- endereco: string (nullable = true)\n",
            " |-- email: string (nullable = true)\n",
            "\n"
          ]
        }
      ]
    },
    {
      "cell_type": "code",
      "source": [
        "clientes.write.json(\"clientes.json\")"
      ],
      "metadata": {
        "id": "MFKtr4AD0WQo"
      },
      "execution_count": 52,
      "outputs": []
    },
    {
      "cell_type": "code",
      "source": [
        "clientes.write.format(\"parquet\").save(\"clientes_parquet\")"
      ],
      "metadata": {
        "id": "oKldFSAW1TKY"
      },
      "execution_count": 60,
      "outputs": []
    },
    {
      "cell_type": "code",
      "source": [
        "clientes.write.csv(\"clientes.csv\", header=True, sep=\";\")"
      ],
      "metadata": {
        "id": "afJ34-110nqZ"
      },
      "execution_count": 53,
      "outputs": []
    },
    {
      "cell_type": "code",
      "source": [
        "pedidos_df = spark.read.csv(\"/content/csv/pedidos.csv\", header=True, inferSchema=False)\n",
        "pedidos_df.show()\n",
        "pedidos_df.printSchema() # mostra o esquema o dataframe um com data"
      ],
      "metadata": {
        "colab": {
          "base_uri": "https://localhost:8080/"
        },
        "id": "SoQg2OfX2Fko",
        "outputId": "52805d2c-96b4-4801-9963-f1f37629039e"
      },
      "execution_count": 61,
      "outputs": [
        {
          "output_type": "stream",
          "name": "stdout",
          "text": [
            "+---+----------+-----------+----------+\n",
            "| id|cliente_id|valor_total|      data|\n",
            "+---+----------+-----------+----------+\n",
            "|  1|         1|      20.20|2023-02-07|\n",
            "|  2|         2|      21.40|2022-12-07|\n",
            "|  3|         3|      32.50|2020-05-01|\n",
            "|  4|         4|      11.13|2023-02-12|\n",
            "|  5|         5|      22.45|2023-07-08|\n",
            "|  6|         1|     100.80|2023-02-02|\n",
            "|  7|         2|      24.60|2021-05-07|\n",
            "|  8|         3|      11.20|2023-01-22|\n",
            "|  9|         4|      35.00|2023-02-25|\n",
            "| 10|         5|      45.80|2023-01-11|\n",
            "+---+----------+-----------+----------+\n",
            "\n",
            "root\n",
            " |-- id: string (nullable = true)\n",
            " |-- cliente_id: string (nullable = true)\n",
            " |-- valor_total: string (nullable = true)\n",
            " |-- data: string (nullable = true)\n",
            "\n"
          ]
        }
      ]
    },
    {
      "cell_type": "code",
      "source": [
        "pedidos_df = spark.read.csv(\"/content/csv/pedidos.csv\", header=True, inferSchema=True)\n",
        "pedidos_df.show()\n",
        "pedidos_df.printSchema() # mostra o esquema o dataframe um com data"
      ],
      "metadata": {
        "colab": {
          "base_uri": "https://localhost:8080/"
        },
        "id": "ezDhXCc62SQu",
        "outputId": "c3d42251-191b-4306-90b9-cf6f4775bc54"
      },
      "execution_count": 62,
      "outputs": [
        {
          "output_type": "stream",
          "name": "stdout",
          "text": [
            "+---+----------+-----------+-------------------+\n",
            "| id|cliente_id|valor_total|               data|\n",
            "+---+----------+-----------+-------------------+\n",
            "|  1|         1|       20.2|2023-02-07 00:00:00|\n",
            "|  2|         2|       21.4|2022-12-07 00:00:00|\n",
            "|  3|         3|       32.5|2020-05-01 00:00:00|\n",
            "|  4|         4|      11.13|2023-02-12 00:00:00|\n",
            "|  5|         5|      22.45|2023-07-08 00:00:00|\n",
            "|  6|         1|      100.8|2023-02-02 00:00:00|\n",
            "|  7|         2|       24.6|2021-05-07 00:00:00|\n",
            "|  8|         3|       11.2|2023-01-22 00:00:00|\n",
            "|  9|         4|       35.0|2023-02-25 00:00:00|\n",
            "| 10|         5|       45.8|2023-01-11 00:00:00|\n",
            "+---+----------+-----------+-------------------+\n",
            "\n",
            "root\n",
            " |-- id: integer (nullable = true)\n",
            " |-- cliente_id: integer (nullable = true)\n",
            " |-- valor_total: double (nullable = true)\n",
            " |-- data: timestamp (nullable = true)\n",
            "\n"
          ]
        }
      ]
    },
    {
      "cell_type": "code",
      "source": [
        "from pyspark.sql.functions import col\n",
        "\n",
        "clientes.show()\n",
        "\n",
        "clientes_lobao_df = clientes.filter(col(\"nome\") == \"Lucas Lima\") # busca por nome\n",
        "clientes_lobao_df.show()"
      ],
      "metadata": {
        "colab": {
          "base_uri": "https://localhost:8080/"
        },
        "id": "AIkQvi9N2fGY",
        "outputId": "c30f1c4f-71d0-4ae4-9038-d0234fa682a5"
      },
      "execution_count": 66,
      "outputs": [
        {
          "output_type": "stream",
          "name": "stdout",
          "text": [
            "+---+--------------+--------------+--------------------+--------------------+\n",
            "| id|          nome|      telefone|            endereco|               email|\n",
            "+---+--------------+--------------+--------------------+--------------------+\n",
            "|  1|    João Silva|(11) 1234-5678| Rua ABC - 123 - ...| joao.silva@email...|\n",
            "|  2|Maria Oliveira|(11) 2345-6789| Rua DEF - 456 - ...| maria.oliveira@e...|\n",
            "|  3|   Pedro Sousa|(11) 3456-7890| Rua GHI - 789 - ...| pedro.sousa@emai...|\n",
            "|  4|    Lucas Lima|(21) 4567-8901| Rua JKL - 159 - ...| lucas.lima@email...|\n",
            "|  5|     Ana Paula|(21) 5678-9012| Rua PQR - 753 - ...| ana.paula@email.com|\n",
            "+---+--------------+--------------+--------------------+--------------------+\n",
            "\n",
            "+---+----------+--------------+--------------------+--------------------+\n",
            "| id|      nome|      telefone|            endereco|               email|\n",
            "+---+----------+--------------+--------------------+--------------------+\n",
            "|  4|Lucas Lima|(21) 4567-8901| Rua JKL - 159 - ...| lucas.lima@email...|\n",
            "+---+----------+--------------+--------------------+--------------------+\n",
            "\n"
          ]
        }
      ]
    },
    {
      "cell_type": "code",
      "source": [
        "clientes_lobao_df = clientes.filter(col(\"nome\").like(\"%ma%\")) # busca por nome like contendo a palavra \"ma\"\n",
        "clientes_lobao_df.show()"
      ],
      "metadata": {
        "colab": {
          "base_uri": "https://localhost:8080/"
        },
        "id": "fM7u2S5P2yKW",
        "outputId": "19fb9870-4d8a-44e0-c0ca-60f61dd84659"
      },
      "execution_count": 67,
      "outputs": [
        {
          "output_type": "stream",
          "name": "stdout",
          "text": [
            "+---+----------+--------------+--------------------+--------------------+\n",
            "| id|      nome|      telefone|            endereco|               email|\n",
            "+---+----------+--------------+--------------------+--------------------+\n",
            "|  4|Lucas Lima|(21) 4567-8901| Rua JKL - 159 - ...| lucas.lima@email...|\n",
            "+---+----------+--------------+--------------------+--------------------+\n",
            "\n"
          ]
        }
      ]
    },
    {
      "cell_type": "code",
      "source": [
        "clientes_lobao_df = clientes.filter(col(\"nome\").like(\"ma%\")) # busca por nome like que começam com \"ma\"\n",
        "clientes_lobao_df.show()"
      ],
      "metadata": {
        "colab": {
          "base_uri": "https://localhost:8080/"
        },
        "id": "ccz18hbE26tl",
        "outputId": "bb6c1dab-5d89-4318-f0ad-ec751acb343f"
      },
      "execution_count": 68,
      "outputs": [
        {
          "output_type": "stream",
          "name": "stdout",
          "text": [
            "+---+----+--------+--------+-----+\n",
            "| id|nome|telefone|endereco|email|\n",
            "+---+----+--------+--------+-----+\n",
            "+---+----+--------+--------+-----+\n",
            "\n"
          ]
        }
      ]
    },
    {
      "cell_type": "code",
      "source": [
        "clientes_lobao_df = clientes.filter(col(\"nome\").like(\"%ma\")) # busca por nome like que finalizam com \"ma\"\n",
        "clientes_lobao_df.show()"
      ],
      "metadata": {
        "colab": {
          "base_uri": "https://localhost:8080/"
        },
        "id": "WRtNwjbj2_XI",
        "outputId": "c5e78fb1-5865-455d-dcfc-fc8b2bfcd435"
      },
      "execution_count": 69,
      "outputs": [
        {
          "output_type": "stream",
          "name": "stdout",
          "text": [
            "+---+----------+--------------+--------------------+--------------------+\n",
            "| id|      nome|      telefone|            endereco|               email|\n",
            "+---+----------+--------------+--------------------+--------------------+\n",
            "|  4|Lucas Lima|(21) 4567-8901| Rua JKL - 159 - ...| lucas.lima@email...|\n",
            "+---+----------+--------------+--------------------+--------------------+\n",
            "\n"
          ]
        }
      ]
    },
    {
      "cell_type": "code",
      "source": [
        "pedidos_df.show()\n",
        "\n",
        "pedidos_df_fittrado = pedidos_df.filter( (col(\"valor_total\") > 100) ) # busca por maior\n",
        "pedidos_df_fittrado.show()\n",
        "\n",
        "pedidos_df_fittrado = pedidos_df.filter( (col(\"valor_total\") >= 30) & (col(\"valor_total\") <= 80) ) # busca por maior com e\n",
        "pedidos_df_fittrado.show()\n",
        "\n",
        "pedidos_df_fittrado = pedidos_df.filter( (col(\"valor_total\") > 100) | (col(\"valor_total\") > 10) ) # busca por maior com ou\n",
        "pedidos_df_fittrado.show()\n"
      ],
      "metadata": {
        "colab": {
          "base_uri": "https://localhost:8080/"
        },
        "id": "uyQGZVFh3PjM",
        "outputId": "7ff70cd2-c1b5-4c2a-8e2f-77412d4bf23d"
      },
      "execution_count": 72,
      "outputs": [
        {
          "output_type": "stream",
          "name": "stdout",
          "text": [
            "+---+----------+-----------+-------------------+\n",
            "| id|cliente_id|valor_total|               data|\n",
            "+---+----------+-----------+-------------------+\n",
            "|  1|         1|       20.2|2023-02-07 00:00:00|\n",
            "|  2|         2|       21.4|2022-12-07 00:00:00|\n",
            "|  3|         3|       32.5|2020-05-01 00:00:00|\n",
            "|  4|         4|      11.13|2023-02-12 00:00:00|\n",
            "|  5|         5|      22.45|2023-07-08 00:00:00|\n",
            "|  6|         1|      100.8|2023-02-02 00:00:00|\n",
            "|  7|         2|       24.6|2021-05-07 00:00:00|\n",
            "|  8|         3|       11.2|2023-01-22 00:00:00|\n",
            "|  9|         4|       35.0|2023-02-25 00:00:00|\n",
            "| 10|         5|       45.8|2023-01-11 00:00:00|\n",
            "+---+----------+-----------+-------------------+\n",
            "\n",
            "+---+----------+-----------+-------------------+\n",
            "| id|cliente_id|valor_total|               data|\n",
            "+---+----------+-----------+-------------------+\n",
            "|  6|         1|      100.8|2023-02-02 00:00:00|\n",
            "+---+----------+-----------+-------------------+\n",
            "\n",
            "+---+----------+-----------+-------------------+\n",
            "| id|cliente_id|valor_total|               data|\n",
            "+---+----------+-----------+-------------------+\n",
            "|  3|         3|       32.5|2020-05-01 00:00:00|\n",
            "|  9|         4|       35.0|2023-02-25 00:00:00|\n",
            "| 10|         5|       45.8|2023-01-11 00:00:00|\n",
            "+---+----------+-----------+-------------------+\n",
            "\n",
            "+---+----------+-----------+-------------------+\n",
            "| id|cliente_id|valor_total|               data|\n",
            "+---+----------+-----------+-------------------+\n",
            "|  1|         1|       20.2|2023-02-07 00:00:00|\n",
            "|  2|         2|       21.4|2022-12-07 00:00:00|\n",
            "|  3|         3|       32.5|2020-05-01 00:00:00|\n",
            "|  4|         4|      11.13|2023-02-12 00:00:00|\n",
            "|  5|         5|      22.45|2023-07-08 00:00:00|\n",
            "|  6|         1|      100.8|2023-02-02 00:00:00|\n",
            "|  7|         2|       24.6|2021-05-07 00:00:00|\n",
            "|  8|         3|       11.2|2023-01-22 00:00:00|\n",
            "|  9|         4|       35.0|2023-02-25 00:00:00|\n",
            "| 10|         5|       45.8|2023-01-11 00:00:00|\n",
            "+---+----------+-----------+-------------------+\n",
            "\n"
          ]
        }
      ]
    },
    {
      "cell_type": "code",
      "source": [
        "from pyspark.sql.functions import col, date_format\n",
        "\n",
        "pedidos_df_data1 = pedidos_df.filter(date_format(col(\"data\"), \"yyyy-MM\") == \"2023-01\")\n",
        "pedidos_df_data1.show()\n",
        "\n",
        "pedidos_df_data1 = pedidos_df.filter(date_format(col(\"data\"), \"yyyy-MM-dd HH\") == \"2023-01-01 10\")\n",
        "pedidos_df_data1.show()\n",
        "\n",
        "pedidos_df_data_hora = pedidos_df.filter(col(\"data\") > \"2022-12-31 23:59:59\")\n",
        "pedidos_df_data_hora.show()"
      ],
      "metadata": {
        "colab": {
          "base_uri": "https://localhost:8080/"
        },
        "id": "YLbUxEjK3y79",
        "outputId": "fc2cf413-ac27-48c4-e2b6-2dbe4df24e69"
      },
      "execution_count": 78,
      "outputs": [
        {
          "output_type": "stream",
          "name": "stdout",
          "text": [
            "+---+----------+-----------+-------------------+\n",
            "| id|cliente_id|valor_total|               data|\n",
            "+---+----------+-----------+-------------------+\n",
            "|  8|         3|       11.2|2023-01-22 00:00:00|\n",
            "| 10|         5|       45.8|2023-01-11 00:00:00|\n",
            "+---+----------+-----------+-------------------+\n",
            "\n",
            "+---+----------+-----------+----+\n",
            "| id|cliente_id|valor_total|data|\n",
            "+---+----------+-----------+----+\n",
            "+---+----------+-----------+----+\n",
            "\n",
            "+---+----------+-----------+-------------------+\n",
            "| id|cliente_id|valor_total|               data|\n",
            "+---+----------+-----------+-------------------+\n",
            "|  1|         1|       20.2|2023-02-07 00:00:00|\n",
            "|  4|         4|      11.13|2023-02-12 00:00:00|\n",
            "|  5|         5|      22.45|2023-07-08 00:00:00|\n",
            "|  6|         1|      100.8|2023-02-02 00:00:00|\n",
            "|  8|         3|       11.2|2023-01-22 00:00:00|\n",
            "|  9|         4|       35.0|2023-02-25 00:00:00|\n",
            "| 10|         5|       45.8|2023-01-11 00:00:00|\n",
            "+---+----------+-----------+-------------------+\n",
            "\n"
          ]
        }
      ]
    },
    {
      "cell_type": "code",
      "source": [
        "!pip install faker # instala faker"
      ],
      "metadata": {
        "colab": {
          "base_uri": "https://localhost:8080/"
        },
        "id": "AoHiJtGs4jCZ",
        "outputId": "32d3c5d9-86e2-4d0e-a1e8-98fc8976dd72"
      },
      "execution_count": 79,
      "outputs": [
        {
          "output_type": "stream",
          "name": "stdout",
          "text": [
            "Looking in indexes: https://pypi.org/simple, https://us-python.pkg.dev/colab-wheels/public/simple/\n",
            "Collecting faker\n",
            "  Downloading Faker-18.4.0-py3-none-any.whl (1.7 MB)\n",
            "\u001b[2K     \u001b[90m━━━━━━━━━━━━━━━━━━━━━━━━━━━━━━━━━━━━━━━━\u001b[0m \u001b[32m1.7/1.7 MB\u001b[0m \u001b[31m18.0 MB/s\u001b[0m eta \u001b[36m0:00:00\u001b[0m\n",
            "\u001b[?25hRequirement already satisfied: python-dateutil>=2.4 in /usr/local/lib/python3.9/dist-packages (from faker) (2.8.2)\n",
            "Requirement already satisfied: six>=1.5 in /usr/local/lib/python3.9/dist-packages (from python-dateutil>=2.4->faker) (1.16.0)\n",
            "Installing collected packages: faker\n",
            "Successfully installed faker-18.4.0\n"
          ]
        }
      ]
    },
    {
      "cell_type": "code",
      "source": [
        "# script para criar arquivos csv simulados\n",
        "\n",
        "from faker import Faker\n",
        "import csv\n",
        "import random\n",
        "\n",
        "# Inicializar o Faker com um idioma específico\n",
        "fake = Faker(\"pt_BR\")\n",
        "\n",
        "# Gerar os dados dos clientes\n",
        "clientes = []\n",
        "for i in range(1, 101):\n",
        "    nome = fake.name()\n",
        "    email = fake.email()\n",
        "    telefone = fake.phone_number()\n",
        "    endereco = fake.address()\n",
        "    clientes.append((i, nome, email, telefone, endereco))\n",
        "\n",
        "# Escrever os dados dos clientes em um arquivo CSV\n",
        "with open(\"/content/fakes/clientes.csv\", \"w\", newline=\"\") as csvfile:\n",
        "    writer = csv.writer(csvfile)\n",
        "    writer.writerow([\"id\", \"nome\", \"email\", \"telefone\", \"endereco\"])\n",
        "    writer.writerows(clientes)\n",
        "\n",
        "# Gerar os dados dos pedidos\n",
        "pedidos = []\n",
        "for i in range(1, 201):\n",
        "    cliente_id = random.randint(1, 100)\n",
        "    descricao = fake.text(max_nb_chars=50)\n",
        "    valor = round(random.uniform(10.0, 100.0), 2)\n",
        "    pedidos.append((i, cliente_id, descricao, valor))\n",
        "\n",
        "# Escrever os dados dos pedidos em um arquivo CSV\n",
        "with open(\"/content/fakes/pedidos.csv\", \"w\", newline=\"\") as csvfile:\n",
        "    writer = csv.writer(csvfile)\n",
        "    writer.writerow([\"id\", \"cliente_id\", \"descricao\", \"valor\"])\n",
        "    writer.writerows(pedidos)"
      ],
      "metadata": {
        "id": "HNZnnAgH4rlj"
      },
      "execution_count": 80,
      "outputs": []
    },
    {
      "cell_type": "code",
      "source": [
        "# merge de 2 arquivos csv\n",
        "from pyspark.sql import SparkSession\n",
        "\n",
        "spark = SparkSession.builder.appName(\"merge_csv_files\").getOrCreate()\n",
        "\n",
        "\n",
        "clientes_df = spark.read.format(\"csv\") \\\n",
        "    .option(\"header\", \"true\") \\\n",
        "    .option(\"inferSchema\", \"true\") \\\n",
        "    .load(\"/content/fakes/clientes.csv\")\n",
        "\n",
        "pedidos_df = spark.read.format(\"csv\") \\\n",
        "    .option(\"header\", \"true\") \\\n",
        "    .option(\"inferSchema\", \"true\") \\\n",
        "    .load(\"/content/fakes/pedidos.csv\")\n",
        "\n",
        "\n",
        "merged_df = clientes_df.join(pedidos_df, clientes_df.id == pedidos_df.cliente_id, \"inner\")\n",
        "\n",
        "\n",
        "merged_df.show()\n"
      ],
      "metadata": {
        "colab": {
          "base_uri": "https://localhost:8080/"
        },
        "id": "paHMU3DG5OSR",
        "outputId": "f31e8594-184b-44c4-9b0e-b6adf5385968"
      },
      "execution_count": 81,
      "outputs": [
        {
          "output_type": "stream",
          "name": "stdout",
          "text": [
            "+---+--------------------+--------------------+-------------------+--------------------+---+----------+--------------------+-----+\n",
            "| id|                nome|               email|           telefone|            endereco| id|cliente_id|           descricao|valor|\n",
            "+---+--------------------+--------------------+-------------------+--------------------+---+----------+--------------------+-----+\n",
            "|  1|       Benício Jesus|dmartins@example.com|       41 2638-1261|Estação de Cavalc...|181|         1|Explicabo tempori...|38.37|\n",
            "|  1|       Benício Jesus|dmartins@example.com|       41 2638-1261|Estação de Cavalc...|130|         1|Dignissimos quide...|78.87|\n",
            "|  1|       Benício Jesus|dmartins@example.com|       41 2638-1261|Estação de Cavalc...|110|         1|Iusto facilis ips...|13.07|\n",
            "|  1|       Benício Jesus|dmartins@example.com|       41 2638-1261|Estação de Cavalc...| 18|         1|Itaque odio aut d...|49.63|\n",
            "|  2|    Melissa Silveira|da-mataisaac@exam...|   +55 31 0191 4727|Estrada Leonardo ...|129|         2|A distinctio volu...|16.76|\n",
            "|  2|    Melissa Silveira|da-mataisaac@exam...|   +55 31 0191 4727|Estrada Leonardo ...|116|         2|Porro ratione ips...|82.53|\n",
            "|  2|    Melissa Silveira|da-mataisaac@exam...|   +55 31 0191 4727|Estrada Leonardo ...| 92|         2|A aspernatur dolo...|68.32|\n",
            "|  3|Maria Eduarda da ...|  valves@example.org|       41 3580 6648|Morro Enzo Silvei...|105|         3|Illo expedita exp...|52.17|\n",
            "|  3|Maria Eduarda da ...|  valves@example.org|       41 3580 6648|Morro Enzo Silvei...| 12|         3|Odio ut maxime ra...| 55.0|\n",
            "|  5|       Bryan da Mata|beatrizcarvalho@e...|   +55 41 7799 9349|Fazenda Ana Luiza...|191|         5|Amet labore minus...|28.77|\n",
            "|  5|       Bryan da Mata|beatrizcarvalho@e...|   +55 41 7799 9349|Fazenda Ana Luiza...|  1|         5|Repudiandae dolor...|15.54|\n",
            "|  7|        Heitor Lopes|joao-felipe63@exa...|+55 (051) 7773-7415|Fazenda de Teixei...|180|         7|Non natus atque a...| 87.9|\n",
            "|  7|        Heitor Lopes|joao-felipe63@exa...|+55 (051) 7773-7415|Fazenda de Teixei...| 70|         7|Cum non nisi aliq...|84.37|\n",
            "|  8|   Lavínia das Neves|rocharaquel@examp...|   +55 84 0122 8442|Quadra de Caldeir...| 11|         8|   Fugit at ducimus.|14.87|\n",
            "|  9| Giovanna Cavalcanti|  ccosta@example.org|    (081) 3980 7704|    Travessa Cardoso|161|         9|Saepe veniam repe...|92.93|\n",
            "| 10|      Daniela Farias|cavalcanticamila@...|       84 0343-8505|   Largo de Costa, 4| 78|        10|Quidem nostrum si...|20.75|\n",
            "| 11|       Kamilly Souza|ana-juliacarvalho...|    (021) 7644-2405|Travessa Kamilly ...|168|        11|Reiciendis provid...|35.76|\n",
            "| 11|       Kamilly Souza|ana-juliacarvalho...|    (021) 7644-2405|Travessa Kamilly ...|113|        11|Alias deleniti ul...|52.04|\n",
            "| 12|Luiz Fernando Farias|isabelly44@exampl...|      0500 128 4882|Conjunto Cecília ...|141|        12|Quas sunt ullam n...|28.22|\n",
            "| 12|Luiz Fernando Farias|isabelly44@exampl...|      0500 128 4882|Conjunto Cecília ...| 99|        12|Officiis quod id ...|15.26|\n",
            "+---+--------------------+--------------------+-------------------+--------------------+---+----------+--------------------+-----+\n",
            "only showing top 20 rows\n",
            "\n"
          ]
        }
      ]
    },
    {
      "cell_type": "code",
      "source": [
        "# cria arquivo merged.csv de um dataframe criado\n",
        "merged_df = merged_df.drop(\"id\")\n",
        "merged_df.write.format(\"csv\").mode(\"overwrite\").option(\"header\", \"true\").save(\"/content/fakes/merged.csv\")"
      ],
      "metadata": {
        "id": "Qk3GMwRE5zHm"
      },
      "execution_count": 82,
      "outputs": []
    },
    {
      "cell_type": "code",
      "source": [
        "# merge de 2 arquivos csv\n",
        "from pyspark.sql import SparkSession\n",
        "\n",
        "spark = SparkSession.builder.appName(\"merge_csv_files\").getOrCreate()\n",
        "\n",
        "\n",
        "clientes_df = spark.read.format(\"csv\") \\\n",
        "    .option(\"header\", \"true\") \\\n",
        "    .option(\"inferSchema\", \"true\") \\\n",
        "    .load(\"/content/fakes/clientes.csv\")\n",
        "\n",
        "pedidos_df = spark.read.format(\"csv\") \\\n",
        "    .option(\"header\", \"true\") \\\n",
        "    .option(\"inferSchema\", \"true\") \\\n",
        "    .load(\"/content/fakes/pedidos.csv\")\n",
        "\n",
        "\n",
        "merged_df = clientes_df.join(pedidos_df, clientes_df.id == pedidos_df.cliente_id, \"inner\")\n",
        "\n",
        "merged_df = merged_df.drop(\"id\")\n",
        "\n",
        "merged_df.show()\n",
        "\n",
        "from pyspark.sql.functions import col\n",
        "\n",
        "# Remove a coluna por indice\n",
        "merged_df = merged_df.drop(col(merged_df.columns[5]))\n",
        "\n",
        "# Exibir o DataFrame resultante\n",
        "merged_df.show()"
      ],
      "metadata": {
        "colab": {
          "base_uri": "https://localhost:8080/"
        },
        "id": "NKb8uCQ06H_P",
        "outputId": "beae6a73-8d81-411b-9fe3-511173431e89"
      },
      "execution_count": 83,
      "outputs": [
        {
          "output_type": "stream",
          "name": "stdout",
          "text": [
            "+--------------------+--------------------+-------------------+--------------------+----------+--------------------+-----+\n",
            "|                nome|               email|           telefone|            endereco|cliente_id|           descricao|valor|\n",
            "+--------------------+--------------------+-------------------+--------------------+----------+--------------------+-----+\n",
            "|       Benício Jesus|dmartins@example.com|       41 2638-1261|Estação de Cavalc...|         1|Explicabo tempori...|38.37|\n",
            "|       Benício Jesus|dmartins@example.com|       41 2638-1261|Estação de Cavalc...|         1|Dignissimos quide...|78.87|\n",
            "|       Benício Jesus|dmartins@example.com|       41 2638-1261|Estação de Cavalc...|         1|Iusto facilis ips...|13.07|\n",
            "|       Benício Jesus|dmartins@example.com|       41 2638-1261|Estação de Cavalc...|         1|Itaque odio aut d...|49.63|\n",
            "|    Melissa Silveira|da-mataisaac@exam...|   +55 31 0191 4727|Estrada Leonardo ...|         2|A distinctio volu...|16.76|\n",
            "|    Melissa Silveira|da-mataisaac@exam...|   +55 31 0191 4727|Estrada Leonardo ...|         2|Porro ratione ips...|82.53|\n",
            "|    Melissa Silveira|da-mataisaac@exam...|   +55 31 0191 4727|Estrada Leonardo ...|         2|A aspernatur dolo...|68.32|\n",
            "|Maria Eduarda da ...|  valves@example.org|       41 3580 6648|Morro Enzo Silvei...|         3|Illo expedita exp...|52.17|\n",
            "|Maria Eduarda da ...|  valves@example.org|       41 3580 6648|Morro Enzo Silvei...|         3|Odio ut maxime ra...| 55.0|\n",
            "|       Bryan da Mata|beatrizcarvalho@e...|   +55 41 7799 9349|Fazenda Ana Luiza...|         5|Amet labore minus...|28.77|\n",
            "|       Bryan da Mata|beatrizcarvalho@e...|   +55 41 7799 9349|Fazenda Ana Luiza...|         5|Repudiandae dolor...|15.54|\n",
            "|        Heitor Lopes|joao-felipe63@exa...|+55 (051) 7773-7415|Fazenda de Teixei...|         7|Non natus atque a...| 87.9|\n",
            "|        Heitor Lopes|joao-felipe63@exa...|+55 (051) 7773-7415|Fazenda de Teixei...|         7|Cum non nisi aliq...|84.37|\n",
            "|   Lavínia das Neves|rocharaquel@examp...|   +55 84 0122 8442|Quadra de Caldeir...|         8|   Fugit at ducimus.|14.87|\n",
            "| Giovanna Cavalcanti|  ccosta@example.org|    (081) 3980 7704|    Travessa Cardoso|         9|Saepe veniam repe...|92.93|\n",
            "|      Daniela Farias|cavalcanticamila@...|       84 0343-8505|   Largo de Costa, 4|        10|Quidem nostrum si...|20.75|\n",
            "|       Kamilly Souza|ana-juliacarvalho...|    (021) 7644-2405|Travessa Kamilly ...|        11|Reiciendis provid...|35.76|\n",
            "|       Kamilly Souza|ana-juliacarvalho...|    (021) 7644-2405|Travessa Kamilly ...|        11|Alias deleniti ul...|52.04|\n",
            "|Luiz Fernando Farias|isabelly44@exampl...|      0500 128 4882|Conjunto Cecília ...|        12|Quas sunt ullam n...|28.22|\n",
            "|Luiz Fernando Farias|isabelly44@exampl...|      0500 128 4882|Conjunto Cecília ...|        12|Officiis quod id ...|15.26|\n",
            "+--------------------+--------------------+-------------------+--------------------+----------+--------------------+-----+\n",
            "only showing top 20 rows\n",
            "\n",
            "+--------------------+--------------------+-------------------+--------------------+----------+-----+\n",
            "|                nome|               email|           telefone|            endereco|cliente_id|valor|\n",
            "+--------------------+--------------------+-------------------+--------------------+----------+-----+\n",
            "|       Benício Jesus|dmartins@example.com|       41 2638-1261|Estação de Cavalc...|         1|38.37|\n",
            "|       Benício Jesus|dmartins@example.com|       41 2638-1261|Estação de Cavalc...|         1|78.87|\n",
            "|       Benício Jesus|dmartins@example.com|       41 2638-1261|Estação de Cavalc...|         1|13.07|\n",
            "|       Benício Jesus|dmartins@example.com|       41 2638-1261|Estação de Cavalc...|         1|49.63|\n",
            "|    Melissa Silveira|da-mataisaac@exam...|   +55 31 0191 4727|Estrada Leonardo ...|         2|16.76|\n",
            "|    Melissa Silveira|da-mataisaac@exam...|   +55 31 0191 4727|Estrada Leonardo ...|         2|82.53|\n",
            "|    Melissa Silveira|da-mataisaac@exam...|   +55 31 0191 4727|Estrada Leonardo ...|         2|68.32|\n",
            "|Maria Eduarda da ...|  valves@example.org|       41 3580 6648|Morro Enzo Silvei...|         3|52.17|\n",
            "|Maria Eduarda da ...|  valves@example.org|       41 3580 6648|Morro Enzo Silvei...|         3| 55.0|\n",
            "|       Bryan da Mata|beatrizcarvalho@e...|   +55 41 7799 9349|Fazenda Ana Luiza...|         5|28.77|\n",
            "|       Bryan da Mata|beatrizcarvalho@e...|   +55 41 7799 9349|Fazenda Ana Luiza...|         5|15.54|\n",
            "|        Heitor Lopes|joao-felipe63@exa...|+55 (051) 7773-7415|Fazenda de Teixei...|         7| 87.9|\n",
            "|        Heitor Lopes|joao-felipe63@exa...|+55 (051) 7773-7415|Fazenda de Teixei...|         7|84.37|\n",
            "|   Lavínia das Neves|rocharaquel@examp...|   +55 84 0122 8442|Quadra de Caldeir...|         8|14.87|\n",
            "| Giovanna Cavalcanti|  ccosta@example.org|    (081) 3980 7704|    Travessa Cardoso|         9|92.93|\n",
            "|      Daniela Farias|cavalcanticamila@...|       84 0343-8505|   Largo de Costa, 4|        10|20.75|\n",
            "|       Kamilly Souza|ana-juliacarvalho...|    (021) 7644-2405|Travessa Kamilly ...|        11|35.76|\n",
            "|       Kamilly Souza|ana-juliacarvalho...|    (021) 7644-2405|Travessa Kamilly ...|        11|52.04|\n",
            "|Luiz Fernando Farias|isabelly44@exampl...|      0500 128 4882|Conjunto Cecília ...|        12|28.22|\n",
            "|Luiz Fernando Farias|isabelly44@exampl...|      0500 128 4882|Conjunto Cecília ...|        12|15.26|\n",
            "+--------------------+--------------------+-------------------+--------------------+----------+-----+\n",
            "only showing top 20 rows\n",
            "\n"
          ]
        }
      ]
    },
    {
      "cell_type": "code",
      "source": [
        "# merge de 2 arquivos csv\n",
        "from pyspark.sql import SparkSession\n",
        "\n",
        "spark = SparkSession.builder.appName(\"merge_csv_files\").getOrCreate()\n",
        "\n",
        "\n",
        "clientes_df = spark.read.format(\"csv\") \\\n",
        "    .option(\"header\", \"true\") \\\n",
        "    .option(\"inferSchema\", \"true\") \\\n",
        "    .load(\"/content/fakes/clientes.csv\")\n",
        "\n",
        "pedidos_df = spark.read.format(\"csv\") \\\n",
        "    .option(\"header\", \"true\") \\\n",
        "    .option(\"inferSchema\", \"true\") \\\n",
        "    .load(\"/content/fakes/pedidos.csv\")\n",
        "\n",
        "pedidos_df = pedidos_df.withColumnRenamed(\"id\", \"pedido_id\")\n",
        "\n",
        "merged_df = clientes_df.join(pedidos_df, clientes_df.id == pedidos_df.cliente_id, \"inner\")\n",
        "\n",
        "merged_df.show()\n",
        "\n",
        "from pyspark.sql.functions import col\n",
        "\n",
        "# Remove a coluna por indice\n",
        "merged_df = merged_df.drop(\"pedido_id\")\n",
        "\n",
        "# Exibir o DataFrame resultante\n",
        "merged_df.show()"
      ],
      "metadata": {
        "colab": {
          "base_uri": "https://localhost:8080/"
        },
        "id": "PkyiWZI16bxM",
        "outputId": "291796b3-a506-4f33-d4ff-628b66d390c9"
      },
      "execution_count": 90,
      "outputs": [
        {
          "output_type": "stream",
          "name": "stdout",
          "text": [
            "+---+--------------------+--------------------+-------------------+--------------------+---------+----------+--------------------+-----+\n",
            "| id|                nome|               email|           telefone|            endereco|pedido_id|cliente_id|           descricao|valor|\n",
            "+---+--------------------+--------------------+-------------------+--------------------+---------+----------+--------------------+-----+\n",
            "|  1|       Benício Jesus|dmartins@example.com|       41 2638-1261|Estação de Cavalc...|      181|         1|Explicabo tempori...|38.37|\n",
            "|  1|       Benício Jesus|dmartins@example.com|       41 2638-1261|Estação de Cavalc...|      130|         1|Dignissimos quide...|78.87|\n",
            "|  1|       Benício Jesus|dmartins@example.com|       41 2638-1261|Estação de Cavalc...|      110|         1|Iusto facilis ips...|13.07|\n",
            "|  1|       Benício Jesus|dmartins@example.com|       41 2638-1261|Estação de Cavalc...|       18|         1|Itaque odio aut d...|49.63|\n",
            "|  2|    Melissa Silveira|da-mataisaac@exam...|   +55 31 0191 4727|Estrada Leonardo ...|      129|         2|A distinctio volu...|16.76|\n",
            "|  2|    Melissa Silveira|da-mataisaac@exam...|   +55 31 0191 4727|Estrada Leonardo ...|      116|         2|Porro ratione ips...|82.53|\n",
            "|  2|    Melissa Silveira|da-mataisaac@exam...|   +55 31 0191 4727|Estrada Leonardo ...|       92|         2|A aspernatur dolo...|68.32|\n",
            "|  3|Maria Eduarda da ...|  valves@example.org|       41 3580 6648|Morro Enzo Silvei...|      105|         3|Illo expedita exp...|52.17|\n",
            "|  3|Maria Eduarda da ...|  valves@example.org|       41 3580 6648|Morro Enzo Silvei...|       12|         3|Odio ut maxime ra...| 55.0|\n",
            "|  5|       Bryan da Mata|beatrizcarvalho@e...|   +55 41 7799 9349|Fazenda Ana Luiza...|      191|         5|Amet labore minus...|28.77|\n",
            "|  5|       Bryan da Mata|beatrizcarvalho@e...|   +55 41 7799 9349|Fazenda Ana Luiza...|        1|         5|Repudiandae dolor...|15.54|\n",
            "|  7|        Heitor Lopes|joao-felipe63@exa...|+55 (051) 7773-7415|Fazenda de Teixei...|      180|         7|Non natus atque a...| 87.9|\n",
            "|  7|        Heitor Lopes|joao-felipe63@exa...|+55 (051) 7773-7415|Fazenda de Teixei...|       70|         7|Cum non nisi aliq...|84.37|\n",
            "|  8|   Lavínia das Neves|rocharaquel@examp...|   +55 84 0122 8442|Quadra de Caldeir...|       11|         8|   Fugit at ducimus.|14.87|\n",
            "|  9| Giovanna Cavalcanti|  ccosta@example.org|    (081) 3980 7704|    Travessa Cardoso|      161|         9|Saepe veniam repe...|92.93|\n",
            "| 10|      Daniela Farias|cavalcanticamila@...|       84 0343-8505|   Largo de Costa, 4|       78|        10|Quidem nostrum si...|20.75|\n",
            "| 11|       Kamilly Souza|ana-juliacarvalho...|    (021) 7644-2405|Travessa Kamilly ...|      168|        11|Reiciendis provid...|35.76|\n",
            "| 11|       Kamilly Souza|ana-juliacarvalho...|    (021) 7644-2405|Travessa Kamilly ...|      113|        11|Alias deleniti ul...|52.04|\n",
            "| 12|Luiz Fernando Farias|isabelly44@exampl...|      0500 128 4882|Conjunto Cecília ...|      141|        12|Quas sunt ullam n...|28.22|\n",
            "| 12|Luiz Fernando Farias|isabelly44@exampl...|      0500 128 4882|Conjunto Cecília ...|       99|        12|Officiis quod id ...|15.26|\n",
            "+---+--------------------+--------------------+-------------------+--------------------+---------+----------+--------------------+-----+\n",
            "only showing top 20 rows\n",
            "\n",
            "+---+--------------------+--------------------+-------------------+--------------------+----------+--------------------+-----+\n",
            "| id|                nome|               email|           telefone|            endereco|cliente_id|           descricao|valor|\n",
            "+---+--------------------+--------------------+-------------------+--------------------+----------+--------------------+-----+\n",
            "|  1|       Benício Jesus|dmartins@example.com|       41 2638-1261|Estação de Cavalc...|         1|Explicabo tempori...|38.37|\n",
            "|  1|       Benício Jesus|dmartins@example.com|       41 2638-1261|Estação de Cavalc...|         1|Dignissimos quide...|78.87|\n",
            "|  1|       Benício Jesus|dmartins@example.com|       41 2638-1261|Estação de Cavalc...|         1|Iusto facilis ips...|13.07|\n",
            "|  1|       Benício Jesus|dmartins@example.com|       41 2638-1261|Estação de Cavalc...|         1|Itaque odio aut d...|49.63|\n",
            "|  2|    Melissa Silveira|da-mataisaac@exam...|   +55 31 0191 4727|Estrada Leonardo ...|         2|A distinctio volu...|16.76|\n",
            "|  2|    Melissa Silveira|da-mataisaac@exam...|   +55 31 0191 4727|Estrada Leonardo ...|         2|Porro ratione ips...|82.53|\n",
            "|  2|    Melissa Silveira|da-mataisaac@exam...|   +55 31 0191 4727|Estrada Leonardo ...|         2|A aspernatur dolo...|68.32|\n",
            "|  3|Maria Eduarda da ...|  valves@example.org|       41 3580 6648|Morro Enzo Silvei...|         3|Illo expedita exp...|52.17|\n",
            "|  3|Maria Eduarda da ...|  valves@example.org|       41 3580 6648|Morro Enzo Silvei...|         3|Odio ut maxime ra...| 55.0|\n",
            "|  5|       Bryan da Mata|beatrizcarvalho@e...|   +55 41 7799 9349|Fazenda Ana Luiza...|         5|Amet labore minus...|28.77|\n",
            "|  5|       Bryan da Mata|beatrizcarvalho@e...|   +55 41 7799 9349|Fazenda Ana Luiza...|         5|Repudiandae dolor...|15.54|\n",
            "|  7|        Heitor Lopes|joao-felipe63@exa...|+55 (051) 7773-7415|Fazenda de Teixei...|         7|Non natus atque a...| 87.9|\n",
            "|  7|        Heitor Lopes|joao-felipe63@exa...|+55 (051) 7773-7415|Fazenda de Teixei...|         7|Cum non nisi aliq...|84.37|\n",
            "|  8|   Lavínia das Neves|rocharaquel@examp...|   +55 84 0122 8442|Quadra de Caldeir...|         8|   Fugit at ducimus.|14.87|\n",
            "|  9| Giovanna Cavalcanti|  ccosta@example.org|    (081) 3980 7704|    Travessa Cardoso|         9|Saepe veniam repe...|92.93|\n",
            "| 10|      Daniela Farias|cavalcanticamila@...|       84 0343-8505|   Largo de Costa, 4|        10|Quidem nostrum si...|20.75|\n",
            "| 11|       Kamilly Souza|ana-juliacarvalho...|    (021) 7644-2405|Travessa Kamilly ...|        11|Reiciendis provid...|35.76|\n",
            "| 11|       Kamilly Souza|ana-juliacarvalho...|    (021) 7644-2405|Travessa Kamilly ...|        11|Alias deleniti ul...|52.04|\n",
            "| 12|Luiz Fernando Farias|isabelly44@exampl...|      0500 128 4882|Conjunto Cecília ...|        12|Quas sunt ullam n...|28.22|\n",
            "| 12|Luiz Fernando Farias|isabelly44@exampl...|      0500 128 4882|Conjunto Cecília ...|        12|Officiis quod id ...|15.26|\n",
            "+---+--------------------+--------------------+-------------------+--------------------+----------+--------------------+-----+\n",
            "only showing top 20 rows\n",
            "\n"
          ]
        }
      ]
    },
    {
      "cell_type": "code",
      "source": [
        "# adicionar uma coluna id em um dataframe\n",
        "\n",
        "from pyspark.sql import SparkSession\n",
        "from pyspark.sql.functions import row_number\n",
        "from pyspark.sql.window import Window\n",
        "\n",
        "# Criar uma sessão do Spark\n",
        "spark = SparkSession.builder.appName(\"add_incremental_column\").getOrCreate()\n",
        "\n",
        "# Criar um DataFrame de exemplo\n",
        "df = spark.createDataFrame([(25, \"João\"), (30, \"Maria\"), (40, \"José\")], [\"idade\", \"nome\"])\n",
        "\n",
        "df.show()\n",
        "\n",
        "# Adicionar uma coluna \"id\" com valores incrementais\n",
        "window = Window().orderBy('idade')\n",
        "\n",
        "df = df.withColumn(\"id\", row_number().over(window))\n",
        "\n",
        "# Exibir o DataFrame resultante\n",
        "df.show()"
      ],
      "metadata": {
        "colab": {
          "base_uri": "https://localhost:8080/"
        },
        "id": "L1xaEe568lBG",
        "outputId": "e51d58b3-ce96-4184-e1e3-0aaba9c8f20a"
      },
      "execution_count": 91,
      "outputs": [
        {
          "output_type": "stream",
          "name": "stdout",
          "text": [
            "+-----+-----+\n",
            "|idade| nome|\n",
            "+-----+-----+\n",
            "|   25| João|\n",
            "|   30|Maria|\n",
            "|   40| José|\n",
            "+-----+-----+\n",
            "\n",
            "+-----+-----+---+\n",
            "|idade| nome| id|\n",
            "+-----+-----+---+\n",
            "|   25| João|  1|\n",
            "|   30|Maria|  2|\n",
            "|   40| José|  3|\n",
            "+-----+-----+---+\n",
            "\n"
          ]
        }
      ]
    },
    {
      "cell_type": "code",
      "source": [
        "from pyspark.sql import SparkSession\n",
        "\n",
        "# Cria um DataFrame de exemplo\n",
        "spark = SparkSession.builder.appName(\"rename_column\").getOrCreate()\n",
        "data = [(\"João\", 25), (\"Maria\", 30), (\"José\", 40)]\n",
        "df = spark.createDataFrame(data, [\"nome\", \"idade\"])\n",
        "\n",
        "# Renomeia a coluna \"idade\" para \"anos\"\n",
        "df = df.withColumnRenamed(\"idade\", \"anos\")\n",
        "\n",
        "# Exibe o DataFrame resultante\n",
        "df.show()\n"
      ],
      "metadata": {
        "colab": {
          "base_uri": "https://localhost:8080/"
        },
        "id": "pPT52WnY8-Wv",
        "outputId": "d423f5fe-0c3f-497d-c4fb-21ee864ddddb"
      },
      "execution_count": 92,
      "outputs": [
        {
          "output_type": "stream",
          "name": "stdout",
          "text": [
            "+-----+----+\n",
            "| nome|anos|\n",
            "+-----+----+\n",
            "| João|  25|\n",
            "|Maria|  30|\n",
            "| José|  40|\n",
            "+-----+----+\n",
            "\n"
          ]
        }
      ]
    },
    {
      "cell_type": "code",
      "source": [
        "# outra forma de fazer select\n",
        "\n",
        "from pyspark.sql import SparkSession\n",
        "\n",
        "# Cria uma sessão do Spark\n",
        "spark = SparkSession.builder.appName(\"add_columns\").getOrCreate()\n",
        "\n",
        "# Cria nova lista de tuplas com os dados fictícios adicionais\n",
        "data = [(\"João\", 25, \"joao@example.com\", \"123456789\"),\n",
        "            (\"Maria\", 30, \"maria@example.com\", \"234567890\"),\n",
        "            (\"José\", 40, \"jose@example.com\", \"345678901\"),\n",
        "            (\"Ana\", 22, \"ana@example.com\", \"456789012\"),\n",
        "            (\"Paulo\", 35, \"paulo@example.com\", \"567890123\")]\n",
        "\n",
        "# Cria um novo DataFrame com as colunas extras\n",
        "df = spark.createDataFrame(data, [\"nome\", \"idade\", \"email\", \"telefone\"])\n",
        "\n",
        "df.select('*').show() # mostra todos os dados\n",
        "df.select('nome', 'idade').show() # mostra somete as colunas nome, idade"
      ],
      "metadata": {
        "colab": {
          "base_uri": "https://localhost:8080/"
        },
        "id": "rtuVRF1y9HwR",
        "outputId": "81c6afe3-c977-4a3c-fde1-2c452ff68381"
      },
      "execution_count": 93,
      "outputs": [
        {
          "output_type": "stream",
          "name": "stdout",
          "text": [
            "+-----+-----+-----------------+---------+\n",
            "| nome|idade|            email| telefone|\n",
            "+-----+-----+-----------------+---------+\n",
            "| João|   25| joao@example.com|123456789|\n",
            "|Maria|   30|maria@example.com|234567890|\n",
            "| José|   40| jose@example.com|345678901|\n",
            "|  Ana|   22|  ana@example.com|456789012|\n",
            "|Paulo|   35|paulo@example.com|567890123|\n",
            "+-----+-----+-----------------+---------+\n",
            "\n",
            "+-----+-----+\n",
            "| nome|idade|\n",
            "+-----+-----+\n",
            "| João|   25|\n",
            "|Maria|   30|\n",
            "| José|   40|\n",
            "|  Ana|   22|\n",
            "|Paulo|   35|\n",
            "+-----+-----+\n",
            "\n"
          ]
        }
      ]
    },
    {
      "cell_type": "code",
      "source": [
        "# gera um data frame com dados fakes\n",
        "\n",
        "from faker import Faker\n",
        "from random import randint, uniform\n",
        "from datetime import datetime, timedelta\n",
        "from pyspark.sql import SparkSession\n",
        "\n",
        "# Cria uma sessão do Spark\n",
        "spark = SparkSession.builder.appName(\"data_simulator\").getOrCreate()\n",
        "\n",
        "# Define a quantidade de dados a serem gerados\n",
        "num_rows = 1000\n",
        "\n",
        "# Cria um objeto Faker para gerar dados fictícios\n",
        "fake = Faker()\n",
        "\n",
        "# Cria uma lista de tuplas com os dados fictícios\n",
        "data = [(fake.name(), fake.word(), round(uniform(10, 100), 2),\n",
        "         fake.date_time_between(start_date=\"-1y\", end_date=\"now\").strftime(\"%Y-%m-%d %H:%M:%S\"))\n",
        "        for _ in range(num_rows)]\n",
        "\n",
        "# Cria um DataFrame com os dados fictícios\n",
        "df = spark.createDataFrame(data, [\"nome\", \"produto\", \"valor\", \"data_venda\"])\n",
        "\n",
        "# Exibe o DataFrame resultante\n",
        "df.show()\n"
      ],
      "metadata": {
        "colab": {
          "base_uri": "https://localhost:8080/"
        },
        "id": "CBtqibs69dVj",
        "outputId": "ba9114c6-1417-4f09-94b0-5221f0ebdfe4"
      },
      "execution_count": 94,
      "outputs": [
        {
          "output_type": "stream",
          "name": "stdout",
          "text": [
            "+-------------------+---------+-----+-------------------+\n",
            "|               nome|  produto|valor|         data_venda|\n",
            "+-------------------+---------+-----+-------------------+\n",
            "|          Jay Frank|   finish|78.65|2023-03-03 01:59:18|\n",
            "|         Susan Mack|     site|96.27|2023-02-21 21:45:42|\n",
            "|       Kathryn Ward|    night|74.81|2023-02-15 18:06:39|\n",
            "|      Andrew Cuevas| practice|70.66|2023-03-31 02:16:43|\n",
            "|      Terry Coleman|  without|31.54|2023-02-02 17:49:28|\n",
            "|        Nicole York|  forward|53.64|2023-01-06 01:00:58|\n",
            "|       James Golden|  soldier|72.34|2022-10-26 16:28:38|\n",
            "|        Jason Hanna|     goal|30.27|2022-08-11 16:41:42|\n",
            "|      Robert Jensen|   career|61.12|2023-01-27 13:21:17|\n",
            "|         Adam Jones| election|27.52|2023-02-16 22:17:54|\n",
            "|     Patricia Davis|statement|19.04|2022-11-10 01:49:03|\n",
            "|        Mary Thomas|  trouble|36.85|2022-07-02 06:37:35|\n",
            "|        David Huynh|     risk|19.21|2022-07-20 00:01:42|\n",
            "|     Zachary Waters|     rock|33.28|2022-06-11 23:16:42|\n",
            "|         Lisa Jones|     rich|57.12|2023-01-17 18:59:45|\n",
            "|        Donna Smith|   author|51.02|2023-03-01 18:41:33|\n",
            "|      Shawn Sanchez|   speech|14.33|2023-02-21 17:26:05|\n",
            "|Christopher Johnson|    cause|76.62|2022-08-27 06:50:51|\n",
            "|         Kevin Dean|   father|56.66|2022-11-07 21:13:13|\n",
            "|    Michael Morales|    phone|41.26|2023-01-23 01:23:35|\n",
            "+-------------------+---------+-----+-------------------+\n",
            "only showing top 20 rows\n",
            "\n"
          ]
        }
      ]
    },
    {
      "cell_type": "code",
      "source": [
        "# retorna o dataframe com uma coluna nova somente com o ano\n",
        "\n",
        "from pyspark.sql.functions import year\n",
        "\n",
        "# cria a coluna ano_venda a partir da coluna data_venda\n",
        "df = df.withColumn(\"ano_venda\", year(\"data_venda\"))\n",
        "\n",
        "# exibe o DataFrame resultante\n",
        "df.show()\n",
        "\n",
        "# mostra somente os campos, nome e ano_venda\n",
        "df.select('nome', 'ano_venda').show()\n"
      ],
      "metadata": {
        "colab": {
          "base_uri": "https://localhost:8080/"
        },
        "id": "QxTE9pbu9pff",
        "outputId": "47d7a7f1-e948-46bd-a928-5416953fc4ee"
      },
      "execution_count": 95,
      "outputs": [
        {
          "output_type": "stream",
          "name": "stdout",
          "text": [
            "+-------------------+---------+-----+-------------------+---------+\n",
            "|               nome|  produto|valor|         data_venda|ano_venda|\n",
            "+-------------------+---------+-----+-------------------+---------+\n",
            "|          Jay Frank|   finish|78.65|2023-03-03 01:59:18|     2023|\n",
            "|         Susan Mack|     site|96.27|2023-02-21 21:45:42|     2023|\n",
            "|       Kathryn Ward|    night|74.81|2023-02-15 18:06:39|     2023|\n",
            "|      Andrew Cuevas| practice|70.66|2023-03-31 02:16:43|     2023|\n",
            "|      Terry Coleman|  without|31.54|2023-02-02 17:49:28|     2023|\n",
            "|        Nicole York|  forward|53.64|2023-01-06 01:00:58|     2023|\n",
            "|       James Golden|  soldier|72.34|2022-10-26 16:28:38|     2022|\n",
            "|        Jason Hanna|     goal|30.27|2022-08-11 16:41:42|     2022|\n",
            "|      Robert Jensen|   career|61.12|2023-01-27 13:21:17|     2023|\n",
            "|         Adam Jones| election|27.52|2023-02-16 22:17:54|     2023|\n",
            "|     Patricia Davis|statement|19.04|2022-11-10 01:49:03|     2022|\n",
            "|        Mary Thomas|  trouble|36.85|2022-07-02 06:37:35|     2022|\n",
            "|        David Huynh|     risk|19.21|2022-07-20 00:01:42|     2022|\n",
            "|     Zachary Waters|     rock|33.28|2022-06-11 23:16:42|     2022|\n",
            "|         Lisa Jones|     rich|57.12|2023-01-17 18:59:45|     2023|\n",
            "|        Donna Smith|   author|51.02|2023-03-01 18:41:33|     2023|\n",
            "|      Shawn Sanchez|   speech|14.33|2023-02-21 17:26:05|     2023|\n",
            "|Christopher Johnson|    cause|76.62|2022-08-27 06:50:51|     2022|\n",
            "|         Kevin Dean|   father|56.66|2022-11-07 21:13:13|     2022|\n",
            "|    Michael Morales|    phone|41.26|2023-01-23 01:23:35|     2023|\n",
            "+-------------------+---------+-----+-------------------+---------+\n",
            "only showing top 20 rows\n",
            "\n",
            "+-------------------+---------+\n",
            "|               nome|ano_venda|\n",
            "+-------------------+---------+\n",
            "|          Jay Frank|     2023|\n",
            "|         Susan Mack|     2023|\n",
            "|       Kathryn Ward|     2023|\n",
            "|      Andrew Cuevas|     2023|\n",
            "|      Terry Coleman|     2023|\n",
            "|        Nicole York|     2023|\n",
            "|       James Golden|     2022|\n",
            "|        Jason Hanna|     2022|\n",
            "|      Robert Jensen|     2023|\n",
            "|         Adam Jones|     2023|\n",
            "|     Patricia Davis|     2022|\n",
            "|        Mary Thomas|     2022|\n",
            "|        David Huynh|     2022|\n",
            "|     Zachary Waters|     2022|\n",
            "|         Lisa Jones|     2023|\n",
            "|        Donna Smith|     2023|\n",
            "|      Shawn Sanchez|     2023|\n",
            "|Christopher Johnson|     2022|\n",
            "|         Kevin Dean|     2022|\n",
            "|    Michael Morales|     2023|\n",
            "+-------------------+---------+\n",
            "only showing top 20 rows\n",
            "\n"
          ]
        }
      ]
    },
    {
      "cell_type": "code",
      "source": [
        "# mais exemplo usando select()\n",
        "\n",
        "from pyspark.sql import SparkSession\n",
        "\n",
        "# Criando uma SparkSession\n",
        "spark = SparkSession.builder.appName(\"SelectExample\").getOrCreate()\n",
        "\n",
        "# Criando um dataframe df1\n",
        "data1 = [(\"Alice\", 25), (\"Bob\", 30), (\"Charlie\", 35)]\n",
        "df1 = spark.createDataFrame(data1, [\"Name\", \"Age\"])\n",
        "\n",
        "# Criando um dataframe df2\n",
        "data2 = [(\"Alice\", \"female\"), (\"Bob\", \"male\"), (\"Charlie\", \"male\")]\n",
        "df2 = spark.createDataFrame(data2, [\"Name\", \"Gender\"])\n",
        "\n",
        "# Selecionando campos de df1 e df2\n",
        "selected = df1.select(\"Name\", \"Age\").join(df2.select(\"Name\", \"Gender\"), \"Name\")\n",
        "\n",
        "# Mostrando o resultado\n",
        "selected.show()\n"
      ],
      "metadata": {
        "colab": {
          "base_uri": "https://localhost:8080/"
        },
        "id": "0u1Az-1A965s",
        "outputId": "27c83d94-dff1-456f-e071-e17a36cef401"
      },
      "execution_count": 96,
      "outputs": [
        {
          "output_type": "stream",
          "name": "stdout",
          "text": [
            "+-------+---+------+\n",
            "|   Name|Age|Gender|\n",
            "+-------+---+------+\n",
            "|  Alice| 25|female|\n",
            "|    Bob| 30|  male|\n",
            "|Charlie| 35|  male|\n",
            "+-------+---+------+\n",
            "\n"
          ]
        }
      ]
    },
    {
      "cell_type": "code",
      "source": [
        "# criando um dataframe e usando o sql para fazer buscas\n",
        "\n",
        "from pyspark.sql import SparkSession\n",
        "\n",
        "# Cria uma sessão do Spark\n",
        "spark = SparkSession.builder.appName(\"sql_filter\").getOrCreate()\n",
        "\n",
        "# Cria um DataFrame com dados fictícios\n",
        "data = [(\"João\", 25), (\"Maria\", 30), (\"José\", 40), (\"Ana\", 22), (\"Paulo\", 35)]\n",
        "df = spark.createDataFrame(data, [\"nome\", \"idade\"])\n",
        "\n",
        "# Registra o DataFrame como uma tabela temporária\n",
        "df.createOrReplaceTempView(\"pessoas\")\n",
        "\n",
        "# Executa uma consulta SQL para filtrar pessoas com idade maior que 30\n",
        "resultado = spark.sql(\"SELECT nome, idade FROM pessoas WHERE idade > 30\")\n",
        "\n",
        "# Exibe o resultado\n",
        "resultado.show()\n"
      ],
      "metadata": {
        "colab": {
          "base_uri": "https://localhost:8080/"
        },
        "id": "4NEAtvr7-QRk",
        "outputId": "cac6c44f-4bcd-4bcb-a02e-4469ce68499e"
      },
      "execution_count": 97,
      "outputs": [
        {
          "output_type": "stream",
          "name": "stdout",
          "text": [
            "+-----+-----+\n",
            "| nome|idade|\n",
            "+-----+-----+\n",
            "| José|   40|\n",
            "|Paulo|   35|\n",
            "+-----+-----+\n",
            "\n"
          ]
        }
      ]
    },
    {
      "cell_type": "code",
      "source": [
        "# mergiando 2 data frames\n",
        "\n",
        "from pyspark.sql import SparkSession\n",
        "\n",
        "# Cria uma sessão do Spark\n",
        "spark = SparkSession.builder.appName(\"add_columns\").getOrCreate()\n",
        "\n",
        "# Cria um DataFrame com dados fictícios\n",
        "data = [(\"João\", 25), (\"Maria\", 30), (\"José\", 40), (\"Ana\", 22), (\"Paulo\", 35)]\n",
        "df = spark.createDataFrame(data, [\"nome\", \"idade\"])\n",
        "\n",
        "# Cria uma nova lista de tuplas com os dados fictícios adicionais\n",
        "new_data = [(\"João\", 25, \"joao@example.com\", \"123456789\"),\n",
        "            (\"Maria\", 30, \"maria@example.com\", \"234567890\"),\n",
        "            (\"José\", 40, \"jose@example.com\", \"345678901\"),\n",
        "            (\"Ana\", 22, \"ana@example.com\", \"456789012\"),\n",
        "            (\"Paulo\", 35, \"paulo@example.com\", \"567890123\")]\n",
        "\n",
        "# Cria um novo DataFrame com as colunas extras\n",
        "new_df = spark.createDataFrame(new_data, [\"nome\", \"idade\", \"email\", \"telefone\"])\n",
        "\n",
        "# Adiciona as colunas \"email\" e \"telefone\" ao DataFrame original\n",
        "df = df.join(new_df, [\"nome\", \"idade\"], \"outer\")\n",
        "\n",
        "# Exibe o DataFrame resultante\n",
        "df.show()\n",
        "\n",
        "\n",
        "# Registra o DataFrame como uma tabela temporária\n",
        "df.createOrReplaceTempView(\"pessoas\")\n",
        "\n",
        "\n",
        "# Executa uma consulta SQL para filtrar pessoas com idade maior que 30\n",
        "resultado = spark.sql(\"SELECT nome, idade FROM pessoas WHERE idade > 30\")\n",
        "\n",
        "resultado.show()\n",
        "\n",
        "\n",
        "# Executa uma consulta SQL com todas as colunas para filtrar pessoas com idade maior que 30\n",
        "resultado = spark.sql(\"SELECT * FROM pessoas WHERE idade > 30\")\n",
        "\n",
        "resultado.show()"
      ],
      "metadata": {
        "colab": {
          "base_uri": "https://localhost:8080/"
        },
        "id": "tIF90KMt-oBE",
        "outputId": "ef38fdd1-9aaf-4d10-8def-2d32989709a5"
      },
      "execution_count": 98,
      "outputs": [
        {
          "output_type": "stream",
          "name": "stdout",
          "text": [
            "+-----+-----+-----------------+---------+\n",
            "| nome|idade|            email| telefone|\n",
            "+-----+-----+-----------------+---------+\n",
            "|  Ana|   22|  ana@example.com|456789012|\n",
            "| José|   40| jose@example.com|345678901|\n",
            "| João|   25| joao@example.com|123456789|\n",
            "|Maria|   30|maria@example.com|234567890|\n",
            "|Paulo|   35|paulo@example.com|567890123|\n",
            "+-----+-----+-----------------+---------+\n",
            "\n",
            "+-----+-----+\n",
            "| nome|idade|\n",
            "+-----+-----+\n",
            "| José|   40|\n",
            "|Paulo|   35|\n",
            "+-----+-----+\n",
            "\n",
            "+-----+-----+-----------------+---------+\n",
            "| nome|idade|            email| telefone|\n",
            "+-----+-----+-----------------+---------+\n",
            "| José|   40| jose@example.com|345678901|\n",
            "|Paulo|   35|paulo@example.com|567890123|\n",
            "+-----+-----+-----------------+---------+\n",
            "\n"
          ]
        }
      ]
    },
    {
      "cell_type": "code",
      "source": [
        "# exemplo usando unnionAll\n",
        "\n",
        "from pyspark.sql import SparkSession\n",
        "\n",
        "# Inicializando a sessão do Spark\n",
        "spark = SparkSession.builder.appName(\"Exemplo de unionAll\").getOrCreate()\n",
        "\n",
        "# Criando dois DataFrames\n",
        "df1 = spark.createDataFrame([(1, \"foo\"), (2, \"bar\")], [\"id\", \"valor\"])\n",
        "df2 = spark.createDataFrame([(3, \"baz\"), (4, \"qux\")], [\"id\", \"valor\"])\n",
        "\n",
        "# Combinando os dois DataFrames usando unionAll\n",
        "df_union = df1.unionAll(df2)\n",
        "\n",
        "# Exibindo o resultado\n",
        "df_union.show()\n"
      ],
      "metadata": {
        "colab": {
          "base_uri": "https://localhost:8080/"
        },
        "id": "DUSG7ndu-9kx",
        "outputId": "235f8654-afdb-4808-9676-2c2fcc10b3ae"
      },
      "execution_count": 101,
      "outputs": [
        {
          "output_type": "stream",
          "name": "stdout",
          "text": [
            "+---+-----+\n",
            "| id|valor|\n",
            "+---+-----+\n",
            "|  1|  foo|\n",
            "|  2|  bar|\n",
            "|  3|  baz|\n",
            "|  4|  qux|\n",
            "+---+-----+\n",
            "\n"
          ]
        }
      ]
    },
    {
      "cell_type": "code",
      "source": [
        "# eexemplo union com sql\n",
        "\n",
        "from pyspark.sql import SparkSession\n",
        "\n",
        "# Inicializando a sessão do Spark\n",
        "spark = SparkSession.builder.appName(\"Exemplo de unionAll\").getOrCreate()\n",
        "\n",
        "# Criando dois DataFrames\n",
        "df1 = spark.createDataFrame([(1, \"foo\"), (2, \"bar\")], [\"id\", \"valor\"])\n",
        "df2 = spark.createDataFrame([(3, \"baz\"), (4, \"qux\")], [\"id\", \"valor\"])\n",
        "\n",
        "df1.createOrReplaceTempView('table1')\n",
        "df2.createOrReplaceTempView('table2')\n",
        "\n",
        "# Combinando os dois DataFrames usando unionAll\n",
        "result = spark.sql(\"\"\"\n",
        "   SELECT id, valor FROM table1 \n",
        "   UNION ALL\n",
        "   SELECT id, valor FROM table2\"\"\")\n",
        "\n",
        "# Exibindo o resultado\n",
        "result.show()\n"
      ],
      "metadata": {
        "colab": {
          "base_uri": "https://localhost:8080/"
        },
        "id": "t_-8a7Hm_Jvc",
        "outputId": "9443d782-2726-4161-98aa-1a40b731af40"
      },
      "execution_count": 102,
      "outputs": [
        {
          "output_type": "stream",
          "name": "stdout",
          "text": [
            "+---+-----+\n",
            "| id|valor|\n",
            "+---+-----+\n",
            "|  1|  foo|\n",
            "|  2|  bar|\n",
            "|  3|  baz|\n",
            "|  4|  qux|\n",
            "+---+-----+\n",
            "\n"
          ]
        }
      ]
    },
    {
      "cell_type": "code",
      "source": [
        "# Buscando informação por like\n",
        "\n",
        "from pyspark.sql import SparkSession\n",
        "\n",
        "# Cria uma sessão do Spark\n",
        "spark = SparkSession.builder.appName(\"add_columns\").getOrCreate()\n",
        "\n",
        "# Cria uma nova lista de tuplas com os dados fictícios adicionais\n",
        "new_data = [(\"João\", 25, \"joao@example.com\", \"123456789\"),\n",
        "            (\"Maria\", 30, \"maria@example.com\", \"234567890\"),\n",
        "            (\"José\", 40, \"jose@example.com\", \"345678901\"),\n",
        "            (\"Ana\", 22, \"ana@example.com\", \"456789012\"),\n",
        "            (\"Paulo\", 35, \"paulo@example.com\", \"567890123\")]\n",
        "\n",
        "# Cria um novo DataFrame com as colunas extras\n",
        "new_df = spark.createDataFrame(new_data, [\"nome\", \"idade\", \"email\", \"telefone\"])\n",
        "\n",
        "# Exibe o DataFrame resultante\n",
        "new_df.show()\n",
        "\n",
        "\n",
        "# Registra o DataFrame como uma tabela temporária\n",
        "new_df.createOrReplaceTempView(\"pessoas\")\n",
        "\n",
        "resultado = spark.sql(\"SELECT * FROM pessoas WHERE nome like '%ari%'\")\n",
        "\n",
        "resultado.show()"
      ],
      "metadata": {
        "colab": {
          "base_uri": "https://localhost:8080/"
        },
        "id": "gM2cFJK9_WNB",
        "outputId": "66af941f-f65d-4c89-cc4a-0350e61fa7a5"
      },
      "execution_count": 103,
      "outputs": [
        {
          "output_type": "stream",
          "name": "stdout",
          "text": [
            "+-----+-----+-----------------+---------+\n",
            "| nome|idade|            email| telefone|\n",
            "+-----+-----+-----------------+---------+\n",
            "| João|   25| joao@example.com|123456789|\n",
            "|Maria|   30|maria@example.com|234567890|\n",
            "| José|   40| jose@example.com|345678901|\n",
            "|  Ana|   22|  ana@example.com|456789012|\n",
            "|Paulo|   35|paulo@example.com|567890123|\n",
            "+-----+-----+-----------------+---------+\n",
            "\n",
            "+-----+-----+-----------------+---------+\n",
            "| nome|idade|            email| telefone|\n",
            "+-----+-----+-----------------+---------+\n",
            "|Maria|   30|maria@example.com|234567890|\n",
            "+-----+-----+-----------------+---------+\n",
            "\n"
          ]
        }
      ]
    },
    {
      "cell_type": "code",
      "source": [
        "# fazendo select com múltiplas linhas \n",
        "\n",
        "from pyspark.sql import SparkSession\n",
        "\n",
        "# Iniciando sessão do Spark\n",
        "spark = SparkSession.builder.appName(\"Exemplo SQL Multilinha\").getOrCreate()\n",
        "\n",
        "# Criando um DataFrame de exemplo\n",
        "df = spark.createDataFrame([(1, \"Alice\", 25), (2, \"Bob\", 30), (3, \"Charlie\", 35)], [\"id\", \"nome\", \"idade\"])\n",
        "\n",
        "# Criando uma tabela temporária a partir do DataFrame\n",
        "df.createOrReplaceTempView(\"pessoas\")\n",
        "\n",
        "# Executando uma query SQL com múltiplas linhas\n",
        "query = \"\"\"\n",
        "    SELECT \n",
        "        nome, \n",
        "        idade \n",
        "    FROM \n",
        "        pessoas \n",
        "    WHERE \n",
        "        idade > 30\n",
        "\"\"\"\n",
        "\n",
        "resultado = spark.sql(query)\n",
        "\n",
        "# Exibindo o resultado\n",
        "resultado.show()"
      ],
      "metadata": {
        "colab": {
          "base_uri": "https://localhost:8080/"
        },
        "id": "pl7j81ZD_cgy",
        "outputId": "7dec1b21-a604-48ee-a50c-e3884e30e852"
      },
      "execution_count": 104,
      "outputs": [
        {
          "output_type": "stream",
          "name": "stdout",
          "text": [
            "+-------+-----+\n",
            "|   nome|idade|\n",
            "+-------+-----+\n",
            "|Charlie|   35|\n",
            "+-------+-----+\n",
            "\n"
          ]
        }
      ]
    }
  ],
  "metadata": {
    "colab": {
      "provenance": []
    },
    "kernelspec": {
      "display_name": "Python 3",
      "name": "python3"
    }
  },
  "nbformat": 4,
  "nbformat_minor": 0
}